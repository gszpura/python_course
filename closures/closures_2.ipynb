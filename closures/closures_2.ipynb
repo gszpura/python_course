{
 "cells": [
  {
   "cell_type": "markdown",
   "metadata": {},
   "source": [
    "# 6. Domknięcia i dekoratory"
   ]
  },
  {
   "cell_type": "markdown",
   "metadata": {},
   "source": [
    "## 6.1. Zasięg zmiennych"
   ]
  },
  {
   "cell_type": "code",
   "execution_count": 2,
   "metadata": {},
   "outputs": [
    {
     "name": "stdout",
     "output_type": "stream",
     "text": [
      "101\n"
     ]
    }
   ],
   "source": [
    "gl = 101\n",
    "\n",
    "def fun():\n",
    "    print(gl)\n",
    "    \n",
    "fun()"
   ]
  },
  {
   "cell_type": "markdown",
   "metadata": {},
   "source": [
    "Python nie jest w stanie modyfikować zmiennych spoza obecnego zakresu:"
   ]
  },
  {
   "cell_type": "code",
   "execution_count": 3,
   "metadata": {},
   "outputs": [
    {
     "ename": "UnboundLocalError",
     "evalue": "local variable 'gl' referenced before assignment",
     "output_type": "error",
     "traceback": [
      "\u001b[0;31m---------------------------------------------------------------------------\u001b[0m",
      "\u001b[0;31mUnboundLocalError\u001b[0m                         Traceback (most recent call last)",
      "\u001b[0;32m<ipython-input-3-4f6ad54e2817>\u001b[0m in \u001b[0;36m<module>\u001b[0;34m()\u001b[0m\n\u001b[1;32m      5\u001b[0m     \u001b[0mprint\u001b[0m\u001b[0;34m(\u001b[0m\u001b[0mgl\u001b[0m\u001b[0;34m)\u001b[0m\u001b[0;34m\u001b[0m\u001b[0m\n\u001b[1;32m      6\u001b[0m \u001b[0;34m\u001b[0m\u001b[0m\n\u001b[0;32m----> 7\u001b[0;31m \u001b[0mfun\u001b[0m\u001b[0;34m(\u001b[0m\u001b[0;34m)\u001b[0m\u001b[0;34m\u001b[0m\u001b[0m\n\u001b[0m",
      "\u001b[0;32m<ipython-input-3-4f6ad54e2817>\u001b[0m in \u001b[0;36mfun\u001b[0;34m()\u001b[0m\n\u001b[1;32m      2\u001b[0m \u001b[0;34m\u001b[0m\u001b[0m\n\u001b[1;32m      3\u001b[0m \u001b[0;32mdef\u001b[0m \u001b[0mfun\u001b[0m\u001b[0;34m(\u001b[0m\u001b[0;34m)\u001b[0m\u001b[0;34m:\u001b[0m\u001b[0;34m\u001b[0m\u001b[0m\n\u001b[0;32m----> 4\u001b[0;31m     \u001b[0mgl\u001b[0m \u001b[0;34m+=\u001b[0m \u001b[0;36m1\u001b[0m\u001b[0;34m\u001b[0m\u001b[0m\n\u001b[0m\u001b[1;32m      5\u001b[0m     \u001b[0mprint\u001b[0m\u001b[0;34m(\u001b[0m\u001b[0mgl\u001b[0m\u001b[0;34m)\u001b[0m\u001b[0;34m\u001b[0m\u001b[0m\n\u001b[1;32m      6\u001b[0m \u001b[0;34m\u001b[0m\u001b[0m\n",
      "\u001b[0;31mUnboundLocalError\u001b[0m: local variable 'gl' referenced before assignment"
     ]
    }
   ],
   "source": [
    "gl = 102\n",
    "\n",
    "def fun():\n",
    "    gl += 1\n",
    "    print(gl)\n",
    "    \n",
    "fun()"
   ]
  },
  {
   "cell_type": "markdown",
   "metadata": {},
   "source": [
    "To zadziała:"
   ]
  },
  {
   "cell_type": "code",
   "execution_count": 4,
   "metadata": {},
   "outputs": [
    {
     "name": "stdout",
     "output_type": "stream",
     "text": [
      "103\n"
     ]
    }
   ],
   "source": [
    "gl = 102\n",
    "\n",
    "def fun():\n",
    "    global gl\n",
    "    gl += 1\n",
    "    print(gl)\n",
    "    \n",
    "fun()"
   ]
  },
  {
   "cell_type": "markdown",
   "metadata": {},
   "source": [
    "Python stworzy lokalną zmienną o tej samej nazwie:"
   ]
  },
  {
   "cell_type": "code",
   "execution_count": 5,
   "metadata": {},
   "outputs": [
    {
     "name": "stdout",
     "output_type": "stream",
     "text": [
      "103\n"
     ]
    }
   ],
   "source": [
    "gl = 102\n",
    "\n",
    "def fun():\n",
    "    gl = 102\n",
    "    gl += 1\n",
    "    print(gl)\n",
    "    \n",
    "fun()"
   ]
  },
  {
   "cell_type": "markdown",
   "metadata": {},
   "source": [
    "Python sam \"rozgryza\" zasięg zmiennych, jeśli mu nie podpowiemy"
   ]
  },
  {
   "cell_type": "code",
   "execution_count": null,
   "metadata": {},
   "outputs": [],
   "source": [
    "gl = 105\n",
    "check = 200\n",
    "\n",
    "def outer():\n",
    "    gl = 106\n",
    "    def inner():\n",
    "        return gl, check\n",
    "    return inner()\n",
    "\n",
    "outer()"
   ]
  },
  {
   "cell_type": "markdown",
   "metadata": {},
   "source": [
    "Python ma cztery poziomy na których szuka zmiennych:\n",
    "* lokalny (local)\n",
    "* otaczającej funkcji (enclosing function)\n",
    "* globalny (global)\n",
    "* wbudowany (built-in)"
   ]
  },
  {
   "cell_type": "markdown",
   "metadata": {},
   "source": [
    "## 6.2. Domknięcia (closures)"
   ]
  },
  {
   "cell_type": "markdown",
   "metadata": {},
   "source": [
    "To nie jest domknięcie:"
   ]
  },
  {
   "cell_type": "code",
   "execution_count": 8,
   "metadata": {},
   "outputs": [
    {
     "name": "stdout",
     "output_type": "stream",
     "text": [
      "2\n",
      "3\n",
      "{}\n"
     ]
    }
   ],
   "source": [
    "def fib(n):\n",
    "    if n == 1 or n == 2:\n",
    "        return 1\n",
    "    a, b = 1, 1\n",
    "    \n",
    "    def recalculate(a, b):\n",
    "        a, b = a + b, a\n",
    "        return a, b\n",
    "    \n",
    "    for i in xrange(2, n):\n",
    "        a, b = recalculate(a, b)\n",
    "    return a\n",
    "\n",
    "print fib(3)\n",
    "print fib(4)"
   ]
  },
  {
   "cell_type": "markdown",
   "metadata": {},
   "source": [
    "Są to po prostu zagnieżdżone funkcje. Prostszy przykład:"
   ]
  },
  {
   "cell_type": "code",
   "execution_count": 11,
   "metadata": {},
   "outputs": [
    {
     "name": "stdout",
     "output_type": "stream",
     "text": [
      "  6           0 LOAD_CONST               1 (<code object inner at 0x7f28780fc630, file \"<ipython-input-11-c4d495c731e5>\", line 6>)\n",
      "              3 MAKE_FUNCTION            0\n",
      "              6 STORE_FAST               1 (inner)\n",
      "\n",
      "  9           9 LOAD_FAST                0 (a)\n",
      "             12 LOAD_FAST                1 (inner)\n",
      "             15 LOAD_FAST                0 (a)\n",
      "             18 CALL_FUNCTION            1\n",
      "             21 BINARY_ADD          \n",
      "             22 RETURN_VALUE        \n"
     ]
    }
   ],
   "source": [
    "import dis\n",
    "\n",
    "\n",
    "def outer(a):\n",
    "    \n",
    "    def inner(b):\n",
    "        return 2 * b\n",
    "\n",
    "    return a + inner(a)\n",
    "\n",
    "\n",
    "dis.dis(outer)"
   ]
  },
  {
   "cell_type": "markdown",
   "metadata": {},
   "source": [
    "A to już jest domknięcie:"
   ]
  },
  {
   "cell_type": "code",
   "execution_count": 13,
   "metadata": {},
   "outputs": [
    {
     "name": "stdout",
     "output_type": "stream",
     "text": [
      "  3           0 LOAD_CLOSURE             0 (a)\n",
      "              3 BUILD_TUPLE              1\n",
      "              6 LOAD_CONST               1 (<code object inner at 0x7f28784596b0, file \"<ipython-input-13-d95b43d920dc>\", line 3>)\n",
      "              9 MAKE_CLOSURE             0\n",
      "             12 STORE_FAST               1 (inner)\n",
      "\n",
      "  6          15 LOAD_FAST                1 (inner)\n",
      "             18 CALL_FUNCTION            0\n",
      "             21 RETURN_VALUE        \n"
     ]
    }
   ],
   "source": [
    "def outer(a):\n",
    "    \n",
    "    def inner():\n",
    "        return a + 2*a\n",
    "    \n",
    "    return inner()\n",
    "\n",
    "dis.dis(outer)"
   ]
  },
  {
   "cell_type": "markdown",
   "metadata": {},
   "source": [
    "Domknięcie w pythonie jest specjalnym, wydzielonym konstruktem. W szczególności powyższy zapis raczej rzadko się przydaje. Coś bardziej przydatnego:"
   ]
  },
  {
   "cell_type": "code",
   "execution_count": 18,
   "metadata": {},
   "outputs": [],
   "source": [
    "class db(object):\n",
    "    @classmethod\n",
    "    def conn(cls, *args, **kwargs):\n",
    "        pass\n",
    "\n",
    "def gen_db_connector(host):\n",
    "    def make_db_connection(username, passwd):\n",
    "        return db.conn(host=host, username=username, passwd=passwd)\n",
    "    return make_db_connection\n",
    "        \n",
    "connector = gen_db_connector('10.0.0.10')\n",
    "connector(username='Pudzian', passwd='Sila')"
   ]
  },
  {
   "cell_type": "markdown",
   "metadata": {},
   "source": [
    "Domknięcie może realizować wzorzec fabryki. Inny przykład:"
   ]
  },
  {
   "cell_type": "code",
   "execution_count": 29,
   "metadata": {},
   "outputs": [
    {
     "data": {
      "text/plain": [
       "6"
      ]
     },
     "execution_count": 29,
     "metadata": {},
     "output_type": "execute_result"
    }
   ],
   "source": [
    "from functools import partial\n",
    "\n",
    "def add(a, b):\n",
    "    return a + b\n",
    "\n",
    "add3 = partial(add, 3)\n",
    "add3(3)"
   ]
  },
  {
   "cell_type": "markdown",
   "metadata": {},
   "source": [
    "Funkcja wewnętrzna nie może modyfikować zmiennych z funkcji otaczającej (tak samo jak w przypadku zmiennych globalnych):"
   ]
  },
  {
   "cell_type": "code",
   "execution_count": 33,
   "metadata": {},
   "outputs": [
    {
     "ename": "UnboundLocalError",
     "evalue": "local variable 'calc' referenced before assignment",
     "output_type": "error",
     "traceback": [
      "\u001b[0;31m---------------------------------------------------------------------------\u001b[0m",
      "\u001b[0;31mUnboundLocalError\u001b[0m                         Traceback (most recent call last)",
      "\u001b[0;32m<ipython-input-33-81bf70caa501>\u001b[0m in \u001b[0;36m<module>\u001b[0;34m()\u001b[0m\n\u001b[1;32m      6\u001b[0m     \u001b[0;32mreturn\u001b[0m \u001b[0minner\u001b[0m\u001b[0;34m\u001b[0m\u001b[0m\n\u001b[1;32m      7\u001b[0m \u001b[0;34m\u001b[0m\u001b[0m\n\u001b[0;32m----> 8\u001b[0;31m \u001b[0mouter\u001b[0m\u001b[0;34m(\u001b[0m\u001b[0;36m3\u001b[0m\u001b[0;34m)\u001b[0m\u001b[0;34m(\u001b[0m\u001b[0;34m)\u001b[0m\u001b[0;34m\u001b[0m\u001b[0m\n\u001b[0m",
      "\u001b[0;32m<ipython-input-33-81bf70caa501>\u001b[0m in \u001b[0;36minner\u001b[0;34m()\u001b[0m\n\u001b[1;32m      3\u001b[0m \u001b[0;34m\u001b[0m\u001b[0m\n\u001b[1;32m      4\u001b[0m     \u001b[0;32mdef\u001b[0m \u001b[0minner\u001b[0m\u001b[0;34m(\u001b[0m\u001b[0;34m)\u001b[0m\u001b[0;34m:\u001b[0m\u001b[0;34m\u001b[0m\u001b[0m\n\u001b[0;32m----> 5\u001b[0;31m         \u001b[0mcalc\u001b[0m \u001b[0;34m+=\u001b[0m \u001b[0;36m1\u001b[0m\u001b[0;34m\u001b[0m\u001b[0m\n\u001b[0m\u001b[1;32m      6\u001b[0m     \u001b[0;32mreturn\u001b[0m \u001b[0minner\u001b[0m\u001b[0;34m\u001b[0m\u001b[0m\n\u001b[1;32m      7\u001b[0m \u001b[0;34m\u001b[0m\u001b[0m\n",
      "\u001b[0;31mUnboundLocalError\u001b[0m: local variable 'calc' referenced before assignment"
     ]
    }
   ],
   "source": [
    "def outer(param):\n",
    "    calc = param*3\n",
    "    \n",
    "    def inner():\n",
    "        calc += 1\n",
    "    return inner\n",
    "\n",
    "outer(3)()"
   ]
  },
  {
   "cell_type": "markdown",
   "metadata": {},
   "source": [
    "Domknięcie:\n",
    "* może być użyte do implemetacji wzorca fabryki\n",
    "* używane jest do implementacji dekoratorów"
   ]
  },
  {
   "cell_type": "markdown",
   "metadata": {},
   "source": [
    "## 6.3. Dekoratory"
   ]
  },
  {
   "cell_type": "markdown",
   "metadata": {},
   "source": [
    "Dekorator to takie domknięcie, które jako argument przyjmuje inną funkcję.\n",
    "W pythonie funkcje są obywatelami pierwszej kategorii (ang. first class citizens)."
   ]
  },
  {
   "cell_type": "code",
   "execution_count": 4,
   "metadata": {},
   "outputs": [
    {
     "name": "stdout",
     "output_type": "stream",
     "text": [
      "Decorating..\n",
      "3\n"
     ]
    }
   ],
   "source": [
    "def decorator(func):\n",
    "    \n",
    "    def decorating():\n",
    "        print \"Decorating..\"\n",
    "        return func()\n",
    "    return decorating\n",
    "\n",
    "@decorator\n",
    "def write3():\n",
    "    print 3\n",
    "    \n",
    "        \n",
    "write3()"
   ]
  },
  {
   "cell_type": "markdown",
   "metadata": {},
   "source": [
    "Funkcja dekorująca podmienia oryginalną funkcję."
   ]
  },
  {
   "cell_type": "code",
   "execution_count": 11,
   "metadata": {},
   "outputs": [
    {
     "name": "stdout",
     "output_type": "stream",
     "text": [
      "Checking: 10\n",
      "Elapsed: 9.29832458496e-05\n"
     ]
    },
    {
     "data": {
      "text/plain": [
       "31"
      ]
     },
     "execution_count": 11,
     "metadata": {},
     "output_type": "execute_result"
    }
   ],
   "source": [
    "import time\n",
    "import random\n",
    "\n",
    "def timeit(func):\n",
    "    \n",
    "    def decorating():\n",
    "        t1 = time.time()\n",
    "        res = func()\n",
    "        t2 = time.time()\n",
    "        print(\"Elapsed: {}\".format(t2 - t1))\n",
    "        return res\n",
    "    return decorating\n",
    "\n",
    "\n",
    "def is_prime(n):\n",
    "    i = 2\n",
    "    while i * i <= n:\n",
    "        if n % i == 0:\n",
    "            return False\n",
    "        i += 1\n",
    "    return True\n",
    "\n",
    "\n",
    "@timeit\n",
    "def only_prime():\n",
    "    start = random.randint(1, 40)\n",
    "    print(\"Checking: {}\".format(start))\n",
    "    i = 0\n",
    "    while not is_prime(start):\n",
    "        start = start * 3 + 1\n",
    "        if start > 10**20:\n",
    "            return -1\n",
    "        i += 1\n",
    "    return start\n",
    "\n",
    "only_prime()"
   ]
  },
  {
   "cell_type": "markdown",
   "metadata": {},
   "source": [
    "A co z argumentami?"
   ]
  },
  {
   "cell_type": "code",
   "execution_count": 16,
   "metadata": {},
   "outputs": [
    {
     "name": "stdout",
     "output_type": "stream",
     "text": [
      "Checking: 6\n",
      "Elapsed: 0.000513076782227\n",
      "19\n",
      "Checking: 35\n",
      "Elapsed: 0.000939130783081\n",
      "-1\n"
     ]
    }
   ],
   "source": [
    "def timeit(func):\n",
    "    \n",
    "    def decorating(*args, **kwargs):\n",
    "        t1 = time.time()\n",
    "        res = func(*args, **kwargs)\n",
    "        t2 = time.time()\n",
    "        print(\"Elapsed: {}\".format(t2 - t1))\n",
    "        return res\n",
    "    return decorating\n",
    "\n",
    "\n",
    "@timeit\n",
    "def only_prime(start):\n",
    "    print(\"Checking: {}\".format(start))\n",
    "    i = 0\n",
    "    while not is_prime(start):\n",
    "        start = start * 3 + 1\n",
    "        if start > 10**22:\n",
    "            return -1\n",
    "        i += 1\n",
    "    return start\n",
    "\n",
    "\n",
    "print only_prime(6)\n",
    "print only_prime(35)"
   ]
  },
  {
   "cell_type": "markdown",
   "metadata": {},
   "source": [
    "Args i kwargs przypomnienie: "
   ]
  },
  {
   "cell_type": "code",
   "execution_count": 17,
   "metadata": {},
   "outputs": [
    {
     "name": "stdout",
     "output_type": "stream",
     "text": [
      "(16, 'koktajl')\n",
      "{'zimno': 'cieplo'}\n"
     ]
    }
   ],
   "source": [
    "def show_it(*args, **kwargs):\n",
    "    print args\n",
    "    print kwargs\n",
    "    \n",
    "show_it(16, \"koktajl\", zimno=\"cieplo\")"
   ]
  },
  {
   "cell_type": "markdown",
   "metadata": {},
   "source": [
    "Dekorator inaczej:"
   ]
  },
  {
   "cell_type": "code",
   "execution_count": 20,
   "metadata": {},
   "outputs": [
    {
     "name": "stdout",
     "output_type": "stream",
     "text": [
      "('zupa',)\n",
      "{}\n",
      "Elapsed: 0.000369071960449\n",
      "('niezupa',)\n",
      "{}\n"
     ]
    }
   ],
   "source": [
    "show_it_timeit = timeit(show_it)\n",
    "\n",
    "show_it_timeit(\"zupa\")\n",
    "\n",
    "show_it(\"niezupa\")"
   ]
  },
  {
   "cell_type": "markdown",
   "metadata": {},
   "source": [
    "Jeden mały problem:"
   ]
  },
  {
   "cell_type": "code",
   "execution_count": 21,
   "metadata": {},
   "outputs": [
    {
     "data": {
      "text/plain": [
       "'decorating'"
      ]
     },
     "execution_count": 21,
     "metadata": {},
     "output_type": "execute_result"
    }
   ],
   "source": [
    "only_prime.__name__"
   ]
  },
  {
   "cell_type": "markdown",
   "metadata": {},
   "source": [
    "Rozwiązanie:"
   ]
  },
  {
   "cell_type": "code",
   "execution_count": 24,
   "metadata": {},
   "outputs": [
    {
     "name": "stdout",
     "output_type": "stream",
     "text": [
      "Done\n",
      "Elapsed: 0.000396966934204\n"
     ]
    },
    {
     "data": {
      "text/plain": [
       "'make_my_day'"
      ]
     },
     "execution_count": 24,
     "metadata": {},
     "output_type": "execute_result"
    }
   ],
   "source": [
    "from functools import wraps\n",
    "\n",
    "def timeit(func):\n",
    "    \n",
    "    @wraps(func)\n",
    "    def decorating(*args, **kwargs):\n",
    "        t1 = time.time()\n",
    "        res = func(*args, **kwargs)\n",
    "        t2 = time.time()\n",
    "        print(\"Elapsed: {}\".format(t2 - t1))\n",
    "        return res\n",
    "    return decorating\n",
    "\n",
    "\n",
    "@timeit\n",
    "def make_my_day():\n",
    "    print \"Done\"\n",
    "    \n",
    "make_my_day()\n",
    "make_my_day.__name__"
   ]
  },
  {
   "cell_type": "markdown",
   "metadata": {},
   "source": [
    "## 6.4. Dekoratory z argumentami"
   ]
  },
  {
   "cell_type": "markdown",
   "metadata": {},
   "source": [
    "Napiszmy dekorator, który będzie powtarzał wykonanie funkcji (retry) tylko, gdy złapie określony błąd np. ConnectionError."
   ]
  },
  {
   "cell_type": "code",
   "execution_count": 27,
   "metadata": {},
   "outputs": [
    {
     "name": "stdout",
     "output_type": "stream",
     "text": [
      "Reconnecting cnt: 1\n",
      "Reconnecting cnt: 2\n",
      "Reconnecting cnt: 3\n",
      "Reconnecting cnt: 4\n",
      "Reconnecting cnt: 5\n"
     ]
    }
   ],
   "source": [
    "class ConnectionError(Exception):\n",
    "    pass\n",
    "\n",
    "RETRY_CNT = 5\n",
    "\n",
    "\n",
    "def retry(func):\n",
    "    \n",
    "    def decorating(*args, **kwargs):\n",
    "        i = 0\n",
    "        while i < RETRY_CNT:\n",
    "            try:\n",
    "                res = func(*args, **kwargs)\n",
    "                return res\n",
    "            except ConnectionError:\n",
    "                i += 1\n",
    "                print(\"Reconnecting cnt: {}\".format(i))\n",
    "    return decorating\n",
    "\n",
    "@retry\n",
    "def do_not_even_try_to_connect():\n",
    "    raise ConnectionError()\n",
    "\n",
    "do_not_even_try_to_connect()"
   ]
  },
  {
   "cell_type": "markdown",
   "metadata": {},
   "source": [
    "Jak tu wcisnąć argument?"
   ]
  },
  {
   "cell_type": "code",
   "execution_count": 32,
   "metadata": {},
   "outputs": [
    {
     "name": "stdout",
     "output_type": "stream",
     "text": [
      "Reconnecting cnt: 1 in func: do_not_even_try_to_connect\n",
      "Reconnecting cnt: 2 in func: do_not_even_try_to_connect\n",
      "Reconnecting cnt: 3 in func: do_not_even_try_to_connect\n",
      "Reconnecting cnt: 4 in func: do_not_even_try_to_connect\n",
      "Reconnecting cnt: 5 in func: do_not_even_try_to_connect\n"
     ]
    },
    {
     "ename": "HeisenbugException",
     "evalue": "",
     "output_type": "error",
     "traceback": [
      "\u001b[0;31m---------------------------------------------------------------------------\u001b[0m",
      "\u001b[0;31mHeisenbugException\u001b[0m                        Traceback (most recent call last)",
      "\u001b[0;32m<ipython-input-32-5a198d597989>\u001b[0m in \u001b[0;36m<module>\u001b[0;34m()\u001b[0m\n\u001b[1;32m     30\u001b[0m \u001b[0;34m\u001b[0m\u001b[0m\n\u001b[1;32m     31\u001b[0m \u001b[0mdo_not_even_try_to_connect\u001b[0m\u001b[0;34m(\u001b[0m\u001b[0;34m)\u001b[0m\u001b[0;34m\u001b[0m\u001b[0m\n\u001b[0;32m---> 32\u001b[0;31m \u001b[0mconnect_but_fail_annoyingly\u001b[0m\u001b[0;34m(\u001b[0m\u001b[0;34m)\u001b[0m\u001b[0;34m\u001b[0m\u001b[0m\n\u001b[0m",
      "\u001b[0;32m<ipython-input-32-5a198d597989>\u001b[0m in \u001b[0;36mdecorating\u001b[0;34m(*args, **kwargs)\u001b[0m\n\u001b[1;32m     12\u001b[0m             \u001b[0;32mwhile\u001b[0m \u001b[0mi\u001b[0m \u001b[0;34m<\u001b[0m \u001b[0mRETRY_CNT\u001b[0m\u001b[0;34m:\u001b[0m\u001b[0;34m\u001b[0m\u001b[0m\n\u001b[1;32m     13\u001b[0m                 \u001b[0;32mtry\u001b[0m\u001b[0;34m:\u001b[0m\u001b[0;34m\u001b[0m\u001b[0m\n\u001b[0;32m---> 14\u001b[0;31m                     \u001b[0mres\u001b[0m \u001b[0;34m=\u001b[0m \u001b[0mfunc\u001b[0m\u001b[0;34m(\u001b[0m\u001b[0;34m*\u001b[0m\u001b[0margs\u001b[0m\u001b[0;34m,\u001b[0m \u001b[0;34m**\u001b[0m\u001b[0mkwargs\u001b[0m\u001b[0;34m)\u001b[0m\u001b[0;34m\u001b[0m\u001b[0m\n\u001b[0m\u001b[1;32m     15\u001b[0m                     \u001b[0;32mreturn\u001b[0m \u001b[0mres\u001b[0m\u001b[0;34m\u001b[0m\u001b[0m\n\u001b[1;32m     16\u001b[0m                 \u001b[0;32mexcept\u001b[0m \u001b[0merror_type\u001b[0m\u001b[0;34m:\u001b[0m\u001b[0;34m\u001b[0m\u001b[0m\n",
      "\u001b[0;32m<ipython-input-32-5a198d597989>\u001b[0m in \u001b[0;36mconnect_but_fail_annoyingly\u001b[0;34m()\u001b[0m\n\u001b[1;32m     27\u001b[0m \u001b[0;34m@\u001b[0m\u001b[0mretry\u001b[0m\u001b[0;34m(\u001b[0m\u001b[0mConnectionError\u001b[0m\u001b[0;34m)\u001b[0m\u001b[0;34m\u001b[0m\u001b[0m\n\u001b[1;32m     28\u001b[0m \u001b[0;32mdef\u001b[0m \u001b[0mconnect_but_fail_annoyingly\u001b[0m\u001b[0;34m(\u001b[0m\u001b[0;34m)\u001b[0m\u001b[0;34m:\u001b[0m\u001b[0;34m\u001b[0m\u001b[0m\n\u001b[0;32m---> 29\u001b[0;31m     \u001b[0;32mraise\u001b[0m \u001b[0mHeisenbugException\u001b[0m\u001b[0;34m(\u001b[0m\u001b[0;34m)\u001b[0m\u001b[0;34m\u001b[0m\u001b[0m\n\u001b[0m\u001b[1;32m     30\u001b[0m \u001b[0;34m\u001b[0m\u001b[0m\n\u001b[1;32m     31\u001b[0m \u001b[0mdo_not_even_try_to_connect\u001b[0m\u001b[0;34m(\u001b[0m\u001b[0;34m)\u001b[0m\u001b[0;34m\u001b[0m\u001b[0m\n",
      "\u001b[0;31mHeisenbugException\u001b[0m: "
     ]
    }
   ],
   "source": [
    "class HeisenbugException(Exception):\n",
    "    pass\n",
    "\n",
    "\n",
    "def retry(error_type):\n",
    "    \n",
    "    def decorator(func):\n",
    "    \n",
    "        @wraps(func)\n",
    "        def decorating(*args, **kwargs):\n",
    "            i = 0\n",
    "            while i < RETRY_CNT:\n",
    "                try:\n",
    "                    res = func(*args, **kwargs)\n",
    "                    return res\n",
    "                except error_type:\n",
    "                    i += 1\n",
    "                    print(\"Reconnecting cnt: {} in func: {}\".format(i, func.__name__))\n",
    "        return decorating\n",
    "    return decorator\n",
    "\n",
    "\n",
    "@retry(ConnectionError)\n",
    "def do_not_even_try_to_connect():\n",
    "    raise ConnectionError()\n",
    "    \n",
    "@retry(ConnectionError)\n",
    "def connect_but_fail_annoyingly():\n",
    "    raise HeisenbugException()\n",
    "\n",
    "do_not_even_try_to_connect()\n",
    "connect_but_fail_annoyingly()"
   ]
  },
  {
   "cell_type": "markdown",
   "metadata": {},
   "source": [
    "## 6.5. Zastosowanie"
   ]
  },
  {
   "cell_type": "markdown",
   "metadata": {},
   "source": [
    "Dekoratory zawierają wspólny, powtarzalny kod, który jest niezwiązany z właściwą logiką dekorowanych funkcji.\n",
    "\n",
    "Przykłady:\n",
    "* profilowanie\n",
    "* powtarzanie wywołania\n",
    "* zliczanie, ratelimiting\n",
    "* logowanie\n",
    "* oznaczanie właściwości kodu np. deprecated\n",
    "* mockowanie\n",
    "* kontrola wywołania funckji np. wymuszanie polityk (policies)"
   ]
  },
  {
   "cell_type": "markdown",
   "metadata": {},
   "source": [
    "Kontrola wywołania w Openstack Heat:"
   ]
  },
  {
   "cell_type": "code",
   "execution_count": 34,
   "metadata": {},
   "outputs": [],
   "source": [
    "def wrappertask(task):\n",
    "    \"\"\"\n",
    "    Decorator for a task that needs to drive a subtask.\n",
    "\n",
    "    This is essentially a replacement for the Python 3-only \"yield from\"\n",
    "    keyword (PEP 380), using the \"yield\" keyword that is supported in\n",
    "    Python 2. For example::\n",
    "\n",
    "        @wrappertask\n",
    "        def parent_task(self):\n",
    "            self.setup()\n",
    "\n",
    "            yield self.child_task()\n",
    "\n",
    "            self.cleanup()\n",
    "    \"\"\"\n",
    "\n",
    "    @functools.wraps(task)\n",
    "    def wrapper(*args, **kwargs):\n",
    "        parent = task(*args, **kwargs)\n",
    "\n",
    "        subtask = next(parent)\n",
    "\n",
    "        while True:\n",
    "            try:\n",
    "                if subtask is not None:\n",
    "                    subtask_running = True\n",
    "                    try:\n",
    "                        step = next(subtask)\n",
    "                    except StopIteration:\n",
    "                        subtask_running = False\n",
    "\n",
    "                    while subtask_running:\n",
    "                        try:\n",
    "                            yield step\n",
    "                        except GeneratorExit as ex:\n",
    "                            subtask.close()\n",
    "                            raise ex\n",
    "                        except:  # noqa\n",
    "                            try:\n",
    "                                step = subtask.throw(*sys.exc_info())\n",
    "                            except StopIteration:\n",
    "                                subtask_running = False\n",
    "                        else:\n",
    "                            try:\n",
    "                                step = next(subtask)\n",
    "                            except StopIteration:\n",
    "                                subtask_running = False\n",
    "                else:\n",
    "                    yield\n",
    "            except GeneratorExit as ex:\n",
    "                parent.close()\n",
    "                raise ex\n",
    "            except:  # noqa\n",
    "                subtask = parent.throw(*sys.exc_info())\n",
    "            else:\n",
    "                subtask = next(parent)\n",
    "\n",
    "    return wrapper"
   ]
  },
  {
   "cell_type": "markdown",
   "metadata": {},
   "source": [
    "Sprawdzanie dostępów:"
   ]
  },
  {
   "cell_type": "code",
   "execution_count": null,
   "metadata": {},
   "outputs": [],
   "source": [
    "def policy_enforce(handler):\n",
    "    '''\n",
    "    Decorator for a handler method that checks the path matches the\n",
    "    request context and enforce policy defined in policy.json\n",
    "    '''\n",
    "    @wraps(handler)\n",
    "    def handle_stack_method(controller, req, tenant_id, **kwargs):\n",
    "        if req.context.tenant_id != tenant_id:\n",
    "            raise exc.HTTPForbidden()\n",
    "        allowed = req.context.policy.enforce(context=req.context,\n",
    "                                             action=handler.__name__,\n",
    "                                             scope=controller.REQUEST_SCOPE)\n",
    "        if not allowed:\n",
    "            raise exc.HTTPForbidden()\n",
    "        return handler(controller, req, **kwargs)\n",
    "\n",
    "    return handle_stack_method"
   ]
  },
  {
   "cell_type": "markdown",
   "metadata": {},
   "source": [
    "## ZADANIE"
   ]
  },
  {
   "cell_type": "markdown",
   "metadata": {},
   "source": [
    "Napisz dekorator, który policzy wywołania funkcji read oraz write poniższej klasy. Można wykorzystać w tym celu metody wbudowane \"getattr\" i \"setattr\".\n",
    "https://docs.python.org/2/library/functions.html#getattr"
   ]
  },
  {
   "cell_type": "code",
   "execution_count": 6,
   "metadata": {},
   "outputs": [
    {
     "ename": "TypeError",
     "evalue": "'NoneType' object is not callable",
     "output_type": "error",
     "traceback": [
      "\u001b[0;31m---------------------------------------------------------------------------\u001b[0m",
      "\u001b[0;31mTypeError\u001b[0m                                 Traceback (most recent call last)",
      "\u001b[0;32m<ipython-input-6-a1606e620423>\u001b[0m in \u001b[0;36m<module>\u001b[0;34m()\u001b[0m\n\u001b[1;32m     21\u001b[0m \u001b[0;34m\u001b[0m\u001b[0m\n\u001b[1;32m     22\u001b[0m \u001b[0mf\u001b[0m \u001b[0;34m=\u001b[0m \u001b[0mFilesystem\u001b[0m\u001b[0;34m(\u001b[0m\u001b[0;34m)\u001b[0m\u001b[0;34m\u001b[0m\u001b[0m\n\u001b[0;32m---> 23\u001b[0;31m \u001b[0mf\u001b[0m\u001b[0;34m.\u001b[0m\u001b[0mread\u001b[0m\u001b[0;34m(\u001b[0m\u001b[0;34m\"fst_file\"\u001b[0m\u001b[0;34m)\u001b[0m\u001b[0;34m\u001b[0m\u001b[0m\n\u001b[0m\u001b[1;32m     24\u001b[0m \u001b[0mf\u001b[0m\u001b[0;34m.\u001b[0m\u001b[0mread\u001b[0m\u001b[0;34m(\u001b[0m\u001b[0;34m\"sec_file\"\u001b[0m\u001b[0;34m)\u001b[0m\u001b[0;34m\u001b[0m\u001b[0m\n\u001b[1;32m     25\u001b[0m \u001b[0mf\u001b[0m\u001b[0;34m.\u001b[0m\u001b[0mwrite\u001b[0m\u001b[0;34m(\u001b[0m\u001b[0;34m\"thr_file\"\u001b[0m\u001b[0;34m,\u001b[0m \u001b[0;34m\"nobody expects the spanish inquisition\"\u001b[0m\u001b[0;34m)\u001b[0m\u001b[0;34m\u001b[0m\u001b[0m\n",
      "\u001b[0;31mTypeError\u001b[0m: 'NoneType' object is not callable"
     ]
    }
   ],
   "source": [
    "def count(f):\n",
    "    pass\n",
    "\n",
    "\n",
    "class Filesystem(object):\n",
    "    \n",
    "    def __init__(self):\n",
    "        self.read_cnt = 0\n",
    "        self.write_cnt = 0\n",
    "\n",
    "    @count\n",
    "    def read(self, filename):\n",
    "        print \"Read {}\".format(filename)\n",
    "    \n",
    "    @count\n",
    "    def write(self, filename, text):\n",
    "        print \"Wrote {}\".format(text)\n",
    "\n",
    "f = Filesystem()\n",
    "f.read(\"fst_file\")\n",
    "f.read(\"sec_file\")\n",
    "f.write(\"thr_file\", \"nobody expects the spanish inquisition\")\n",
    "print f.read_cnt\n",
    "print f.write_cnt"
   ]
  },
  {
   "cell_type": "code",
   "execution_count": null,
   "metadata": {},
   "outputs": [],
   "source": []
  }
 ],
 "metadata": {
  "kernelspec": {
   "display_name": "Python 2",
   "language": "python",
   "name": "python2"
  },
  "language_info": {
   "codemirror_mode": {
    "name": "ipython",
    "version": 2
   },
   "file_extension": ".py",
   "mimetype": "text/x-python",
   "name": "python",
   "nbconvert_exporter": "python",
   "pygments_lexer": "ipython2",
   "version": "2.7.15"
  }
 },
 "nbformat": 4,
 "nbformat_minor": 2
}
