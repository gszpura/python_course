{
 "cells": [
  {
   "cell_type": "markdown",
   "metadata": {},
   "source": [
    "# 7. Metody specjalne"
   ]
  },
  {
   "cell_type": "markdown",
   "metadata": {},
   "source": [
    "Metody specjalne (magic methods) to takie, które umożliwiają kontrolę działania różnych wbudowanych mechanizmów języka np. pozwalają przeładować operatory lub zmienić sposób wypisywania obiektów na standardowe wyjście."
   ]
  },
  {
   "cell_type": "code",
   "execution_count": null,
   "metadata": {},
   "outputs": [],
   "source": [
    "def sieve(n):\n",
    "    sieve = [True] * (n + 1)\n",
    "    sieve[0] = sieve[1] = False\n",
    "    i = 2\n",
    "    while i * i <= n:\n",
    "        if sieve[i]:\n",
    "            k = i * i\n",
    "            while k <= n:\n",
    "                sieve[k] = False\n",
    "                k += i\n",
    "        i += 1\n",
    "    return sieve\n",
    "\n",
    "\n",
    "class PrimeCounter(object):\n",
    "    \n",
    "    def __init__(self, start, stop):\n",
    "        self.start = start\n",
    "        self.stop = stop\n",
    "        self.primes = self._count(start, stop)\n",
    "        \n",
    "    def _count(self, start, stop):\n",
    "        values = sieve(stop)\n",
    "        primes = []\n",
    "        for i, val in enumerate(values):\n",
    "            if val and i >= start:\n",
    "                primes.append(i)\n",
    "        return primes\n",
    "    \n",
    "    def __str__(self):\n",
    "        return \" \".join([\"<Primes\", str(self.primes), \">\"])\n",
    "    def __repr__(self):\n",
    "        return self.__str__()\n",
    "    \n",
    "    def __len__(self):\n",
    "        return len(self.primes)\n",
    "    \n",
    "    def __eq__(self, other):\n",
    "        return len(self.primes) == len(other.primes)\n",
    "\n",
    "    \n",
    "x = PrimeCounter(0, 50)\n",
    "y = PrimeCounter(0, 10)\n",
    "z = PrimeCounter(3, 11)\n",
    "print(len(x))\n",
    "print(x)\n",
    "print([x])\n",
    "print(y, z)\n",
    "print(z == y)"
   ]
  },
  {
   "cell_type": "markdown",
   "metadata": {},
   "source": [
    "Inne operatory do przeładowania:"
   ]
  },
  {
   "cell_type": "code",
   "execution_count": null,
   "metadata": {},
   "outputs": [],
   "source": [
    "# object.__lt__(self, other)\n",
    "# object.__le__(self, other)\n",
    "# object.__ne__(self, other)\n",
    "# object.__gt__(self, other)\n",
    "# object.__ge__(self, other)\n",
    "# object.__add__(self, other) \n",
    "# object.__sub__(self, other) \n",
    "# object.__abs__(self)\n",
    "# object.__and__(self, other)\n",
    "# object.__or__(self, other)\n",
    "# ..."
   ]
  },
  {
   "cell_type": "markdown",
   "metadata": {},
   "source": [
    "## 7.1. Getitem i setitem"
   ]
  },
  {
   "cell_type": "code",
   "execution_count": null,
   "metadata": {},
   "outputs": [],
   "source": [
    "my_dict = {'first': 1, 'second': 2}\n",
    "\n",
    "dir(my_dict)"
   ]
  },
  {
   "cell_type": "code",
   "execution_count": null,
   "metadata": {},
   "outputs": [],
   "source": [
    "my_dict.__getitem__('first')"
   ]
  },
  {
   "cell_type": "code",
   "execution_count": null,
   "metadata": {},
   "outputs": [],
   "source": [
    "my_dict.__setitem__('third', 3)\n",
    "print(my_dict)"
   ]
  },
  {
   "cell_type": "markdown",
   "metadata": {},
   "source": [
    "Do czego to może służyć?"
   ]
  },
  {
   "cell_type": "code",
   "execution_count": null,
   "metadata": {
    "scrolled": true
   },
   "outputs": [],
   "source": [
    "class mydefaultdict(object):\n",
    "    \n",
    "    def __init__(self, _callable):\n",
    "        self._type = _callable\n",
    "        self._dict = {}\n",
    "        \n",
    "    def __setitem__(self, key, value):\n",
    "        self._dict[key] = value\n",
    "\n",
    "    def __getitem__(self, key):\n",
    "        if not key in self._dict:\n",
    "            self._dict[key] = self._type()\n",
    "        return self._dict[key]\n",
    "\n",
    "            \n",
    "holder = mydefaultdict(int)\n",
    "print(holder[\"check\"])\n",
    "holder[\"sherlock\"] += 1\n",
    "print(holder[\"sherlock\"])"
   ]
  },
  {
   "cell_type": "code",
   "execution_count": null,
   "metadata": {},
   "outputs": [],
   "source": [
    "from datetime import datetime\n",
    "from collections import deque\n",
    "\n",
    "class HistoryDict(object):\n",
    "    \n",
    "    def __init__(self):\n",
    "        self._dict = {}\n",
    "        self._history = deque(maxlen=3)\n",
    "        \n",
    "    def __setitem__(self, key, value):\n",
    "        self._history.append((datetime.now(), key, value))\n",
    "        self._dict[key] = value\n",
    "        \n",
    "    def __getitem__(self, key):\n",
    "        return self._dict[key]\n",
    "    \n",
    "    def show_history(self):\n",
    "        return self._history\n",
    "\n",
    "    \n",
    "hd = HistoryDict()\n",
    "hd[\"tv\"] = \"ready\"\n",
    "hd[\"stereo\"] = \"dolby\"\n",
    "hd[\"miruna\"] = \"ryba\"\n",
    "hd[\"jeden\"] = \"z dziesięciu\"\n",
    "print(hd.show_history())"
   ]
  },
  {
   "cell_type": "markdown",
   "metadata": {},
   "source": [
    "OrderedDict:"
   ]
  },
  {
   "cell_type": "markdown",
   "metadata": {},
   "source": [
    "https://github.com/python/cpython/blob/master/Lib/collections/__init__.py#L115"
   ]
  },
  {
   "cell_type": "markdown",
   "metadata": {},
   "source": [
    "* Do tworzenia naszych własnych struktur danych (ofc)\n",
    "* Do ukrywania złożoności tych struktur"
   ]
  },
  {
   "cell_type": "markdown",
   "metadata": {},
   "source": [
    "## 7.2. Setattr i getattr"
   ]
  },
  {
   "cell_type": "markdown",
   "metadata": {},
   "source": [
    "Dynamiczne dodawanie atrybutów:"
   ]
  },
  {
   "cell_type": "code",
   "execution_count": null,
   "metadata": {},
   "outputs": [],
   "source": [
    "obtained_info = {\"state\": \"OK\", \"id\": 234, \"type\": \"car\", \"wheels\": \"OK\"}\n",
    "\n",
    "\n",
    "class Resource(object):\n",
    "    \n",
    "    def __init__(self, **kwargs):\n",
    "        self.id = kwargs['id']\n",
    "\n",
    "\n",
    "def construct_dynamic(obtained):\n",
    "    res = Resource(**obtained)\n",
    "    for key, value in obtained.items():\n",
    "        setattr(res, key, value)\n",
    "    return res\n",
    "\n",
    "res = construct_dynamic(obtained_info)\n",
    "print(res.state)"
   ]
  },
  {
   "cell_type": "markdown",
   "metadata": {},
   "source": [
    "Settattr odpowiada metoda specjalna _ _ setattr_ _ . Kontrowersyjny przykład:"
   ]
  },
  {
   "cell_type": "code",
   "execution_count": null,
   "metadata": {},
   "outputs": [],
   "source": [
    "obtained_info = {\"state\": \"BAD\", \"reason\": {\"msg\": \"Unknown\"},\n",
    "                 \"id\": 235, \"type\": \"car\", \"wheels\": \"OK\"}\n",
    "\n",
    "class Resource(object):\n",
    "    \n",
    "    def __init__(self, **kwargs):\n",
    "        self.id = kwargs['id']\n",
    "        \n",
    "    def __setattr__(self, key, value):\n",
    "        if key != \"reason\":\n",
    "            super().__setattr__(key, value)\n",
    "        else:\n",
    "            super().__setattr__(key, value[\"msg\"])\n",
    "            \n",
    "res = Resource(**obtained_info)\n",
    "setattr(res, \"reason\", {\"msg\": \"Unknown\"})\n",
    "print(res.reason)\n",
    "\n",
    "res.reason = {\"msg\": \"Second\"}\n",
    "print(res.reason)"
   ]
  },
  {
   "cell_type": "markdown",
   "metadata": {},
   "source": [
    "Czy poniższy przykład jest kontrowersyjny?"
   ]
  },
  {
   "cell_type": "code",
   "execution_count": null,
   "metadata": {},
   "outputs": [],
   "source": [
    "class Resource(object):\n",
    "    \n",
    "    def __init__(self, **kwargs):\n",
    "        self.id = kwargs['id']\n",
    "        self.last_modified = None\n",
    "        \n",
    "    def __setattr__(self, key, value):\n",
    "        super(Resource, self).__setattr__(\"last_modified\", datetime.now())\n",
    "        super(Resource, self).__setattr__(key, value)\n",
    "        \n",
    "res = Resource(id=1001)\n",
    "res.something = 100\n",
    "print(res.last_modified)"
   ]
  },
  {
   "cell_type": "markdown",
   "metadata": {},
   "source": [
    "## 7.3. Context manager"
   ]
  },
  {
   "cell_type": "markdown",
   "metadata": {},
   "source": [
    "Context manager jest to obiekt, który można użyć razem ze słówkiem kluczowym 'with'."
   ]
  },
  {
   "cell_type": "code",
   "execution_count": null,
   "metadata": {},
   "outputs": [],
   "source": [
    "with open('./magic_file', 'r') as rd:\n",
    "    for line in rd:\n",
    "        print(line)"
   ]
  },
  {
   "cell_type": "code",
   "execution_count": null,
   "metadata": {},
   "outputs": [],
   "source": [
    "rd = open('./magic_file', 'r')\n",
    "dir(rd)"
   ]
  },
  {
   "cell_type": "code",
   "execution_count": null,
   "metadata": {},
   "outputs": [],
   "source": [
    "rd.close()"
   ]
  },
  {
   "cell_type": "code",
   "execution_count": null,
   "metadata": {},
   "outputs": [],
   "source": [
    "rd.__enter__"
   ]
  },
  {
   "cell_type": "code",
   "execution_count": null,
   "metadata": {},
   "outputs": [],
   "source": [
    "rd.__exit__"
   ]
  },
  {
   "cell_type": "markdown",
   "metadata": {},
   "source": [
    "Context manager tworzymy implementując metody _ _ enter _ _ i _ _ exit _ _ ."
   ]
  },
  {
   "cell_type": "code",
   "execution_count": null,
   "metadata": {},
   "outputs": [],
   "source": [
    "class FatalError(Exception):\n",
    "    pass\n",
    "\n",
    "\n",
    "class Connection(object):\n",
    "    \n",
    "    INIT = 'init'\n",
    "    CONNECTED = 'connected'\n",
    "    DISCONNECTED = 'disconnected'\n",
    "    \n",
    "    def __init__(self, **connection_data):\n",
    "        self._conn_data = connection_data\n",
    "        self.state = self.INIT\n",
    "        \n",
    "    def _establish_db_conn(self):\n",
    "        print(\"Connecting to {}.\".format(self._conn_data['host']))\n",
    "        \n",
    "    def _close_db_conn(self):\n",
    "        print(\"Closing connection to {}.\".format(self._conn_data['host']))\n",
    "        \n",
    "    def run(self, query):\n",
    "        raise FatalError(\"It's not going to work.\")\n",
    "        \n",
    "    def __enter__(self):\n",
    "        self._establish_db_conn()\n",
    "        self.state = self.CONNECTED\n",
    "        return self\n",
    "        \n",
    "    def __exit__(self, type, value, traceback):\n",
    "        print(type, value, traceback)\n",
    "        # this will be invoked always\n",
    "        self._close_db_conn()\n",
    "        self.state = self.DISCONNECTED\n",
    "        \n",
    "        \n",
    "conn_details = {\n",
    "    'host': 'darpa01',\n",
    "    'password': 'Putin',\n",
    "}\n",
    "\n",
    "with Connection(**conn_details) as conn:\n",
    "    print(conn.state)\n",
    "    conn.run(\"select * from *\")\n",
    "    print(\"This won't be printed\")\n"
   ]
  },
  {
   "cell_type": "markdown",
   "metadata": {},
   "source": [
    "Obiekt 'conn' jest dostępny poza 'with':"
   ]
  },
  {
   "cell_type": "code",
   "execution_count": null,
   "metadata": {},
   "outputs": [],
   "source": [
    "class EnhancedConnection(Connection):\n",
    "    \n",
    "    def _log_error(self, type, value, trace):\n",
    "        print((\"Found error during execution: {}:{}.\"\n",
    "               \" Will close the connection do db.\").format(type, value))\n",
    "        \n",
    "    def __exit__(self, type, value, traceback):\n",
    "        if type:\n",
    "            self._log_error(type, value, traceback)\n",
    "        self._close_db_conn()\n",
    "        self.state = self.DISCONNECTED\n",
    "        \n",
    "        \n",
    "with EnhancedConnection(**conn_details) as conn:\n",
    "    print(conn.state)\n",
    "print(conn.state)"
   ]
  },
  {
   "cell_type": "markdown",
   "metadata": {},
   "source": [
    "Na błąd można zareagować wewnątrz _ _ exit _ _, ale złapać należy poza:"
   ]
  },
  {
   "cell_type": "code",
   "execution_count": null,
   "metadata": {},
   "outputs": [],
   "source": [
    "with EnhancedConnection(**conn_details) as conn:\n",
    "    print(conn.state)\n",
    "    conn.run(\"oh my query\")\n",
    "print(conn.state)"
   ]
  },
  {
   "cell_type": "markdown",
   "metadata": {},
   "source": [
    "Gdy _ _ exit _ _ nie robi tego, czego chcemy (albo metody nie ma w ogóle):"
   ]
  },
  {
   "cell_type": "code",
   "execution_count": null,
   "metadata": {},
   "outputs": [],
   "source": [
    "# python2\n",
    "import socket\n",
    "from contextlib import closing\n",
    "\n",
    "with closing(socket.socket(socket.AF_INET, socket.SOCK_STREAM)) as sock:\n",
    "    sock.bind((socket.gethostname(), 1080))\n",
    "    sock.listen(2)        "
   ]
  },
  {
   "cell_type": "code",
   "execution_count": null,
   "metadata": {},
   "outputs": [],
   "source": [
    "class File(object):\n",
    "    def __init__(self, name):\n",
    "        self.name = name\n",
    "    def close(self):\n",
    "        print(\"Closing\")\n",
    "    def open(self):\n",
    "        print(\"Opening\")\n",
    "    def read(self):\n",
    "        print(\"Reading\")\n",
    "\n",
    "with closing(File(\"sth\")) as fl:\n",
    "    fl.read()"
   ]
  },
  {
   "cell_type": "markdown",
   "metadata": {},
   "source": [
    "Context manager przydaje się wszędzie tam, gdzie wykonujemy ustalone czynności na początek i koniec wywołania określonego kodu. Najczęściej nie są one częścią właściwej logiki. Przykłady:\n",
    "* nawiązanie i zamknięcie połączenia do bazy danych\n",
    "* otworzenie i zamknięcie pliku\n",
    "* uzyskanie i zwolnienie semafora\n",
    "* przydzielenie i zwolnienie wartości z puli\n",
    "* konstruktory i destruktory"
   ]
  },
  {
   "cell_type": "markdown",
   "metadata": {},
   "source": [
    "## ZADANIE"
   ]
  },
  {
   "cell_type": "markdown",
   "metadata": {},
   "source": [
    "Zaimplementuj słownik, który będzie działał poprawnie w poniższych sytuacjach:"
   ]
  },
  {
   "cell_type": "code",
   "execution_count": null,
   "metadata": {},
   "outputs": [],
   "source": [
    "class AutoDict(dict):\n",
    "    pass\n",
    "\n",
    "ad = AutoDict()\n",
    "ad[\"notdeep\"] = 1\n",
    "ad[\"deeper\"][\"ok\"] = 'OK'\n",
    "ad[\"deeper\"][\"bad\"] = 'BAD'\n",
    "ad[1][2][3][4] = 5\n",
    "\n",
    "print(ad[1][2][3][4])\n",
    "print(ad)"
   ]
  },
  {
   "cell_type": "code",
   "execution_count": null,
   "metadata": {},
   "outputs": [],
   "source": []
  }
 ],
 "metadata": {
  "kernelspec": {
   "display_name": "Python 3",
   "language": "python",
   "name": "python3"
  },
  "language_info": {
   "codemirror_mode": {
    "name": "ipython",
    "version": 3
   },
   "file_extension": ".py",
   "mimetype": "text/x-python",
   "name": "python",
   "nbconvert_exporter": "python",
   "pygments_lexer": "ipython3",
   "version": "3.5.2"
  }
 },
 "nbformat": 4,
 "nbformat_minor": 2
}
