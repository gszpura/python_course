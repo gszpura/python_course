{
 "cells": [
  {
   "cell_type": "markdown",
   "metadata": {},
   "source": [
    "# 7. Metody specjalne"
   ]
  },
  {
   "cell_type": "markdown",
   "metadata": {},
   "source": [
    "Metody specjalne (magic methods) to takie, które umożliwiają kontrolę działania różnych wbudowanych mechanizmów języka np. pozwalają przeładować operatory lub zmienić sposób wypisywania obiektów na standardowe wyjście."
   ]
  },
  {
   "cell_type": "code",
   "execution_count": 60,
   "metadata": {},
   "outputs": [
    {
     "name": "stdout",
     "output_type": "stream",
     "text": [
      "15\n",
      "<Primes [2, 3, 5, 7, 11, 13, 17, 19, 23, 29, 31, 37, 41, 43, 47] >\n",
      "<Primes [2, 3, 5, 7] > <Primes [3, 5, 7, 11] >\n",
      "True\n"
     ]
    }
   ],
   "source": [
    "import operator\n",
    "\n",
    "\n",
    "def sieve(n):\n",
    "    sieve = [True] * (n + 1)\n",
    "    sieve[0] = sieve[1] = False\n",
    "    i = 2\n",
    "    while i * i <= n:\n",
    "        if sieve[i]:\n",
    "            k = i * i\n",
    "            while k <= n:\n",
    "                sieve[k] = False\n",
    "                k += i\n",
    "        i += 1\n",
    "    return sieve\n",
    "\n",
    "\n",
    "class PrimeCounter(object):\n",
    "    \n",
    "    def __init__(self, start, stop):\n",
    "        self.start = start\n",
    "        self.stop = stop\n",
    "        self.primes = self._count(start, stop)\n",
    "        \n",
    "    def _count(self, start, stop):\n",
    "        values = sieve(stop)\n",
    "        primes = []\n",
    "        for i, val in enumerate(values):\n",
    "            if val and i >= start:\n",
    "                primes.append(i)\n",
    "        return primes\n",
    "    \n",
    "    def __str__(self):\n",
    "        return \" \".join([\"<Primes\", str(self.primes), \">\"])\n",
    "    \n",
    "    def __len__(self):\n",
    "        return len(self.primes)\n",
    "    \n",
    "    def __eq__(self, other):\n",
    "        return len(self.primes) == len(other.primes)\n",
    "    \n",
    "x = PrimeCounter(0, 50)\n",
    "y = PrimeCounter(0, 10)\n",
    "z = PrimeCounter(3, 11)\n",
    "print len(x)\n",
    "print x\n",
    "print y, z\n",
    "print z == y"
   ]
  },
  {
   "cell_type": "markdown",
   "metadata": {},
   "source": [
    "Inne operatory do przeładowania:"
   ]
  },
  {
   "cell_type": "code",
   "execution_count": 64,
   "metadata": {},
   "outputs": [],
   "source": [
    "# object.__lt__(self, other)\n",
    "# object.__le__(self, other)\n",
    "# object.__ne__(self, other)\n",
    "# object.__gt__(self, other)\n",
    "# object.__ge__(self, other)\n",
    "# object.__add__(self, other) \n",
    "# object.__sub__(self, other) \n",
    "# ..."
   ]
  },
  {
   "cell_type": "markdown",
   "metadata": {},
   "source": [
    "## 7.1. Getitem i setitem"
   ]
  },
  {
   "cell_type": "code",
   "execution_count": 67,
   "metadata": {},
   "outputs": [
    {
     "data": {
      "text/plain": [
       "['__class__',\n",
       " '__cmp__',\n",
       " '__contains__',\n",
       " '__delattr__',\n",
       " '__delitem__',\n",
       " '__doc__',\n",
       " '__eq__',\n",
       " '__format__',\n",
       " '__ge__',\n",
       " '__getattribute__',\n",
       " '__getitem__',\n",
       " '__gt__',\n",
       " '__hash__',\n",
       " '__init__',\n",
       " '__iter__',\n",
       " '__le__',\n",
       " '__len__',\n",
       " '__lt__',\n",
       " '__ne__',\n",
       " '__new__',\n",
       " '__reduce__',\n",
       " '__reduce_ex__',\n",
       " '__repr__',\n",
       " '__setattr__',\n",
       " '__setitem__',\n",
       " '__sizeof__',\n",
       " '__str__',\n",
       " '__subclasshook__',\n",
       " 'clear',\n",
       " 'copy',\n",
       " 'fromkeys',\n",
       " 'get',\n",
       " 'has_key',\n",
       " 'items',\n",
       " 'iteritems',\n",
       " 'iterkeys',\n",
       " 'itervalues',\n",
       " 'keys',\n",
       " 'pop',\n",
       " 'popitem',\n",
       " 'setdefault',\n",
       " 'update',\n",
       " 'values',\n",
       " 'viewitems',\n",
       " 'viewkeys',\n",
       " 'viewvalues']"
      ]
     },
     "execution_count": 67,
     "metadata": {},
     "output_type": "execute_result"
    }
   ],
   "source": [
    "my_dict = {'first': 1, 'second': 2}\n",
    "\n",
    "dir(my_dict)"
   ]
  },
  {
   "cell_type": "code",
   "execution_count": 68,
   "metadata": {},
   "outputs": [
    {
     "data": {
      "text/plain": [
       "1"
      ]
     },
     "execution_count": 68,
     "metadata": {},
     "output_type": "execute_result"
    }
   ],
   "source": [
    "my_dict.__getitem__('first')"
   ]
  },
  {
   "cell_type": "code",
   "execution_count": 69,
   "metadata": {},
   "outputs": [
    {
     "name": "stdout",
     "output_type": "stream",
     "text": [
      "{'second': 2, 'third': 3, 'first': 1}\n"
     ]
    }
   ],
   "source": [
    "my_dict.__setitem__('third', 3)\n",
    "print my_dict"
   ]
  },
  {
   "cell_type": "markdown",
   "metadata": {},
   "source": [
    "Do czego to może służyć?"
   ]
  },
  {
   "cell_type": "code",
   "execution_count": 75,
   "metadata": {},
   "outputs": [
    {
     "name": "stdout",
     "output_type": "stream",
     "text": [
      "Job(name='create', priority=1)\n",
      "Job(name='delete', priority=0)\n"
     ]
    }
   ],
   "source": [
    "from collections import namedtuple\n",
    "\n",
    "Job = namedtuple('Job', ['name', 'priority'])\n",
    "\n",
    "\n",
    "class SuperiorHolder(object):\n",
    "    \n",
    "    def __init__(self):\n",
    "        self.lower_priority = {}\n",
    "        self.higher_priority = {}\n",
    "        \n",
    "    def __getitem__(self, item):\n",
    "        if self.higher_priority.get(item):\n",
    "            return self.higher_priority[item]\n",
    "        return self.lower_priority[item]\n",
    "    \n",
    "    def __setitem__(self, key, item):\n",
    "        if item.priority == 1:\n",
    "            self.higher_priority[key] = item\n",
    "        elif item.priority == 0:\n",
    "            self.lower_priority[key] = item\n",
    "        else:\n",
    "            raise Exception(\"Incorrect priority\")\n",
    "            \n",
    "            \n",
    "holder = SuperiorHolder()\n",
    "first = Job('create', 1)\n",
    "second = Job('delete', 0)\n",
    "holder[first.name] = first\n",
    "holder[second.name] = second\n",
    "\n",
    "print holder['create']\n",
    "print holder['delete']\n",
    "# print holder['update']"
   ]
  },
  {
   "cell_type": "markdown",
   "metadata": {},
   "source": [
    "* Do tworzenia naszych własnych struktur danych (ofc)\n",
    "* Do ukrywania złożoności tych struktur"
   ]
  },
  {
   "cell_type": "markdown",
   "metadata": {},
   "source": [
    "## 7.2. Setattr i getattr"
   ]
  },
  {
   "cell_type": "markdown",
   "metadata": {},
   "source": [
    "Dynamiczne dodawanie atrybutów:"
   ]
  },
  {
   "cell_type": "code",
   "execution_count": 79,
   "metadata": {},
   "outputs": [
    {
     "name": "stdout",
     "output_type": "stream",
     "text": [
      "OK\n"
     ]
    }
   ],
   "source": [
    "obtained_info = {\"state\": \"OK\", \"id\": 234, \"type\": \"car\", \"wheels\": \"OK\"}\n",
    "\n",
    "\n",
    "class Resource(object):\n",
    "    \n",
    "    def __init__(self, **kwargs):\n",
    "        self.id = kwargs['id']\n",
    "\n",
    "\n",
    "def construct_dynamic(obtained):\n",
    "    res = Resource(**obtained)\n",
    "    for key, value in obtained.iteritems():\n",
    "        setattr(res, key, value)\n",
    "    return res\n",
    "\n",
    "res = construct_dynamic(obtained_info)\n",
    "print res.state"
   ]
  },
  {
   "cell_type": "markdown",
   "metadata": {},
   "source": [
    "Settattr odpowiada metoda specjalna _ _ setattr_ _"
   ]
  },
  {
   "cell_type": "code",
   "execution_count": 84,
   "metadata": {},
   "outputs": [
    {
     "name": "stdout",
     "output_type": "stream",
     "text": [
      "Unknown\n"
     ]
    }
   ],
   "source": [
    "obtained_info = {\"state\": \"BAD\", \"reason\": {\"msg\": \"Unknown\"},\n",
    "                 \"id\": 235, \"type\": \"car\", \"wheels\": \"OK\"}\n",
    "\n",
    "class Resource(object):\n",
    "    \n",
    "    def __init__(self, **kwargs):\n",
    "        self.id = kwargs['id']\n",
    "        \n",
    "    def __setattr__(self, key, value):\n",
    "        if key != \"reason\":\n",
    "            super(Resource, self).__setattr__(key, value)\n",
    "        else:\n",
    "            super(Resource, self).__setattr__(key, value[\"msg\"])\n",
    "            \n",
    "res = Resource(**obtained_info)\n",
    "setattr(res, \"reason\", {\"msg\": \"Unknown\"})\n",
    "print res.reason"
   ]
  },
  {
   "cell_type": "markdown",
   "metadata": {},
   "source": [
    "## 7.3. Context manager"
   ]
  },
  {
   "cell_type": "markdown",
   "metadata": {},
   "source": [
    "Context manager jest to obiekt, który można użyć razem ze słówkiem kluczowym 'with'."
   ]
  },
  {
   "cell_type": "code",
   "execution_count": 85,
   "metadata": {},
   "outputs": [
    {
     "name": "stdout",
     "output_type": "stream",
     "text": [
      "This was loaded from the file!\n",
      "\n"
     ]
    }
   ],
   "source": [
    "with open('./magic_file', 'r') as rd:\n",
    "    for line in rd:\n",
    "        print line"
   ]
  },
  {
   "cell_type": "code",
   "execution_count": 86,
   "metadata": {},
   "outputs": [
    {
     "data": {
      "text/plain": [
       "['__class__',\n",
       " '__delattr__',\n",
       " '__doc__',\n",
       " '__enter__',\n",
       " '__exit__',\n",
       " '__format__',\n",
       " '__getattribute__',\n",
       " '__hash__',\n",
       " '__init__',\n",
       " '__iter__',\n",
       " '__new__',\n",
       " '__reduce__',\n",
       " '__reduce_ex__',\n",
       " '__repr__',\n",
       " '__setattr__',\n",
       " '__sizeof__',\n",
       " '__str__',\n",
       " '__subclasshook__',\n",
       " 'close',\n",
       " 'closed',\n",
       " 'encoding',\n",
       " 'errors',\n",
       " 'fileno',\n",
       " 'flush',\n",
       " 'isatty',\n",
       " 'mode',\n",
       " 'name',\n",
       " 'newlines',\n",
       " 'next',\n",
       " 'read',\n",
       " 'readinto',\n",
       " 'readline',\n",
       " 'readlines',\n",
       " 'seek',\n",
       " 'softspace',\n",
       " 'tell',\n",
       " 'truncate',\n",
       " 'write',\n",
       " 'writelines',\n",
       " 'xreadlines']"
      ]
     },
     "execution_count": 86,
     "metadata": {},
     "output_type": "execute_result"
    }
   ],
   "source": [
    "rd = open('./magic_file', 'r')\n",
    "dir(rd)"
   ]
  },
  {
   "cell_type": "code",
   "execution_count": 87,
   "metadata": {},
   "outputs": [],
   "source": [
    "rd.close()"
   ]
  },
  {
   "cell_type": "code",
   "execution_count": 88,
   "metadata": {},
   "outputs": [
    {
     "data": {
      "text/plain": [
       "<function __enter__>"
      ]
     },
     "execution_count": 88,
     "metadata": {},
     "output_type": "execute_result"
    }
   ],
   "source": [
    "rd.__enter__"
   ]
  },
  {
   "cell_type": "code",
   "execution_count": null,
   "metadata": {},
   "outputs": [],
   "source": [
    "rd.__exit__"
   ]
  },
  {
   "cell_type": "markdown",
   "metadata": {},
   "source": [
    "TBD."
   ]
  },
  {
   "cell_type": "markdown",
   "metadata": {},
   "source": [
    "## ZADANIE"
   ]
  },
  {
   "cell_type": "code",
   "execution_count": null,
   "metadata": {},
   "outputs": [],
   "source": []
  }
 ],
 "metadata": {
  "kernelspec": {
   "display_name": "Python 2",
   "language": "python",
   "name": "python2"
  },
  "language_info": {
   "codemirror_mode": {
    "name": "ipython",
    "version": 2
   },
   "file_extension": ".py",
   "mimetype": "text/x-python",
   "name": "python",
   "nbconvert_exporter": "python",
   "pygments_lexer": "ipython2",
   "version": "2.7.15"
  }
 },
 "nbformat": 4,
 "nbformat_minor": 2
}
