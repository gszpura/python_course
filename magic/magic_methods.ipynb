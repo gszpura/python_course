{
 "cells": [
  {
   "cell_type": "markdown",
   "metadata": {},
   "source": [
    "# 7. Metody specjalne"
   ]
  },
  {
   "cell_type": "markdown",
   "metadata": {},
   "source": [
    "Metody specjalne (magic methods) to takie, które umożliwiają kontrolę działania różnych wbudowanych mechanizmów języka np. pozwalają przeładować operatory lub zmienić sposób wypisywania obiektów na standardowe wyjście."
   ]
  },
  {
   "cell_type": "code",
   "execution_count": 3,
   "metadata": {},
   "outputs": [
    {
     "ename": "SyntaxError",
     "evalue": "invalid syntax (<ipython-input-3-a59f9de87b0e>, line 45)",
     "output_type": "error",
     "traceback": [
      "\u001b[0;36m  File \u001b[0;32m\"<ipython-input-3-a59f9de87b0e>\"\u001b[0;36m, line \u001b[0;32m45\u001b[0m\n\u001b[0;31m    print len(x)\u001b[0m\n\u001b[0m            ^\u001b[0m\n\u001b[0;31mSyntaxError\u001b[0m\u001b[0;31m:\u001b[0m invalid syntax\n"
     ]
    }
   ],
   "source": [
    "import operator\n",
    "\n",
    "\n",
    "def sieve(n):\n",
    "    sieve = [True] * (n + 1)\n",
    "    sieve[0] = sieve[1] = False\n",
    "    i = 2\n",
    "    while i * i <= n:\n",
    "        if sieve[i]:\n",
    "            k = i * i\n",
    "            while k <= n:\n",
    "                sieve[k] = False\n",
    "                k += i\n",
    "        i += 1\n",
    "    return sieve\n",
    "\n",
    "\n",
    "class PrimeCounter(object):\n",
    "    \n",
    "    def __init__(self, start, stop):\n",
    "        self.start = start\n",
    "        self.stop = stop\n",
    "        self.primes = self._count(start, stop)\n",
    "        \n",
    "    def _count(self, start, stop):\n",
    "        values = sieve(stop)\n",
    "        primes = []\n",
    "        for i, val in enumerate(values):\n",
    "            if val and i >= start:\n",
    "                primes.append(i)\n",
    "        return primes\n",
    "    \n",
    "    def __str__(self):\n",
    "        return \" \".join([\"<Primes\", str(self.primes), \">\"])\n",
    "    \n",
    "    def __len__(self):\n",
    "        return len(self.primes)\n",
    "    \n",
    "    def __eq__(self, other):\n",
    "        return len(self.primes) == len(other.primes)\n",
    "    \n",
    "x = PrimeCounter(0, 50)\n",
    "y = PrimeCounter(0, 10)\n",
    "z = PrimeCounter(3, 11)\n",
    "print len(x)\n",
    "print x\n",
    "print y, z\n",
    "print z == y"
   ]
  },
  {
   "cell_type": "markdown",
   "metadata": {},
   "source": [
    "Inne operatory do przeładowania:"
   ]
  },
  {
   "cell_type": "code",
   "execution_count": 64,
   "metadata": {},
   "outputs": [],
   "source": [
    "# object.__lt__(self, other)\n",
    "# object.__le__(self, other)\n",
    "# object.__ne__(self, other)\n",
    "# object.__gt__(self, other)\n",
    "# object.__ge__(self, other)\n",
    "# object.__add__(self, other) \n",
    "# object.__sub__(self, other) \n",
    "# ..."
   ]
  },
  {
   "cell_type": "markdown",
   "metadata": {},
   "source": [
    "## 7.1. Getitem i setitem"
   ]
  },
  {
   "cell_type": "code",
   "execution_count": 67,
   "metadata": {},
   "outputs": [
    {
     "data": {
      "text/plain": [
       "['__class__',\n",
       " '__cmp__',\n",
       " '__contains__',\n",
       " '__delattr__',\n",
       " '__delitem__',\n",
       " '__doc__',\n",
       " '__eq__',\n",
       " '__format__',\n",
       " '__ge__',\n",
       " '__getattribute__',\n",
       " '__getitem__',\n",
       " '__gt__',\n",
       " '__hash__',\n",
       " '__init__',\n",
       " '__iter__',\n",
       " '__le__',\n",
       " '__len__',\n",
       " '__lt__',\n",
       " '__ne__',\n",
       " '__new__',\n",
       " '__reduce__',\n",
       " '__reduce_ex__',\n",
       " '__repr__',\n",
       " '__setattr__',\n",
       " '__setitem__',\n",
       " '__sizeof__',\n",
       " '__str__',\n",
       " '__subclasshook__',\n",
       " 'clear',\n",
       " 'copy',\n",
       " 'fromkeys',\n",
       " 'get',\n",
       " 'has_key',\n",
       " 'items',\n",
       " 'iteritems',\n",
       " 'iterkeys',\n",
       " 'itervalues',\n",
       " 'keys',\n",
       " 'pop',\n",
       " 'popitem',\n",
       " 'setdefault',\n",
       " 'update',\n",
       " 'values',\n",
       " 'viewitems',\n",
       " 'viewkeys',\n",
       " 'viewvalues']"
      ]
     },
     "execution_count": 67,
     "metadata": {},
     "output_type": "execute_result"
    }
   ],
   "source": [
    "my_dict = {'first': 1, 'second': 2}\n",
    "\n",
    "dir(my_dict)"
   ]
  },
  {
   "cell_type": "code",
   "execution_count": 68,
   "metadata": {},
   "outputs": [
    {
     "data": {
      "text/plain": [
       "1"
      ]
     },
     "execution_count": 68,
     "metadata": {},
     "output_type": "execute_result"
    }
   ],
   "source": [
    "my_dict.__getitem__('first')"
   ]
  },
  {
   "cell_type": "code",
   "execution_count": 69,
   "metadata": {},
   "outputs": [
    {
     "name": "stdout",
     "output_type": "stream",
     "text": [
      "{'second': 2, 'third': 3, 'first': 1}\n"
     ]
    }
   ],
   "source": [
    "my_dict.__setitem__('third', 3)\n",
    "print my_dict"
   ]
  },
  {
   "cell_type": "markdown",
   "metadata": {},
   "source": [
    "Do czego to może służyć?"
   ]
  },
  {
   "cell_type": "code",
   "execution_count": 4,
   "metadata": {},
   "outputs": [
    {
     "ename": "SyntaxError",
     "evalue": "Missing parentheses in call to 'print' (<ipython-input-4-60eb8a8deaf4>, line 32)",
     "output_type": "error",
     "traceback": [
      "\u001b[0;36m  File \u001b[0;32m\"<ipython-input-4-60eb8a8deaf4>\"\u001b[0;36m, line \u001b[0;32m32\u001b[0m\n\u001b[0;31m    print holder['create']\u001b[0m\n\u001b[0m               ^\u001b[0m\n\u001b[0;31mSyntaxError\u001b[0m\u001b[0;31m:\u001b[0m Missing parentheses in call to 'print'\n"
     ]
    }
   ],
   "source": [
    "from collections import namedtuple\n",
    "\n",
    "Job = namedtuple('Job', ['name', 'priority'])\n",
    "\n",
    "\n",
    "class SuperiorHolder(object):\n",
    "    \n",
    "    def __init__(self):\n",
    "        self.lower_priority = {}\n",
    "        self.higher_priority = {}\n",
    "        \n",
    "    def __getitem__(self, item):\n",
    "        if self.higher_priority.get(item):\n",
    "            return self.higher_priority[item]\n",
    "        return self.lower_priority[item]\n",
    "    \n",
    "    def __setitem__(self, key, item):\n",
    "        if item.priority == 1:\n",
    "            self.higher_priority[key] = item\n",
    "        elif item.priority == 0:\n",
    "            self.lower_priority[key] = item\n",
    "        else:\n",
    "            raise Exception(\"Incorrect priority\")\n",
    "            \n",
    "            \n",
    "holder = SuperiorHolder()\n",
    "first = Job('create', 1)\n",
    "second = Job('delete', 0)\n",
    "holder[first.name] = first\n",
    "holder[second.name] = second\n",
    "\n",
    "print holder['create']\n",
    "print holder['delete']\n",
    "# print holder['update']"
   ]
  },
  {
   "cell_type": "markdown",
   "metadata": {},
   "source": [
    "* Do tworzenia naszych własnych struktur danych (ofc)\n",
    "* Do ukrywania złożoności tych struktur"
   ]
  },
  {
   "cell_type": "markdown",
   "metadata": {},
   "source": [
    "## 7.2. Setattr i getattr"
   ]
  },
  {
   "cell_type": "markdown",
   "metadata": {},
   "source": [
    "Dynamiczne dodawanie atrybutów:"
   ]
  },
  {
   "cell_type": "code",
   "execution_count": 79,
   "metadata": {},
   "outputs": [
    {
     "name": "stdout",
     "output_type": "stream",
     "text": [
      "OK\n"
     ]
    }
   ],
   "source": [
    "obtained_info = {\"state\": \"OK\", \"id\": 234, \"type\": \"car\", \"wheels\": \"OK\"}\n",
    "\n",
    "\n",
    "class Resource(object):\n",
    "    \n",
    "    def __init__(self, **kwargs):\n",
    "        self.id = kwargs['id']\n",
    "\n",
    "\n",
    "def construct_dynamic(obtained):\n",
    "    res = Resource(**obtained)\n",
    "    for key, value in obtained.iteritems():\n",
    "        setattr(res, key, value)\n",
    "    return res\n",
    "\n",
    "res = construct_dynamic(obtained_info)\n",
    "print res.state"
   ]
  },
  {
   "cell_type": "markdown",
   "metadata": {},
   "source": [
    "Settattr odpowiada metoda specjalna _ _ setattr_ _"
   ]
  },
  {
   "cell_type": "code",
   "execution_count": 84,
   "metadata": {},
   "outputs": [
    {
     "name": "stdout",
     "output_type": "stream",
     "text": [
      "Unknown\n"
     ]
    }
   ],
   "source": [
    "obtained_info = {\"state\": \"BAD\", \"reason\": {\"msg\": \"Unknown\"},\n",
    "                 \"id\": 235, \"type\": \"car\", \"wheels\": \"OK\"}\n",
    "\n",
    "class Resource(object):\n",
    "    \n",
    "    def __init__(self, **kwargs):\n",
    "        self.id = kwargs['id']\n",
    "        \n",
    "    def __setattr__(self, key, value):\n",
    "        if key != \"reason\":\n",
    "            super(Resource, self).__setattr__(key, value)\n",
    "        else:\n",
    "            super(Resource, self).__setattr__(key, value[\"msg\"])\n",
    "            \n",
    "res = Resource(**obtained_info)\n",
    "setattr(res, \"reason\", {\"msg\": \"Unknown\"})\n",
    "print res.reason"
   ]
  },
  {
   "cell_type": "markdown",
   "metadata": {},
   "source": [
    "## 7.3. Context manager"
   ]
  },
  {
   "cell_type": "markdown",
   "metadata": {},
   "source": [
    "Context manager jest to obiekt, który można użyć razem ze słówkiem kluczowym 'with'."
   ]
  },
  {
   "cell_type": "code",
   "execution_count": 85,
   "metadata": {},
   "outputs": [
    {
     "name": "stdout",
     "output_type": "stream",
     "text": [
      "This was loaded from the file!\n",
      "\n"
     ]
    }
   ],
   "source": [
    "with open('./magic_file', 'r') as rd:\n",
    "    for line in rd:\n",
    "        print line"
   ]
  },
  {
   "cell_type": "code",
   "execution_count": 86,
   "metadata": {},
   "outputs": [
    {
     "data": {
      "text/plain": [
       "['__class__',\n",
       " '__delattr__',\n",
       " '__doc__',\n",
       " '__enter__',\n",
       " '__exit__',\n",
       " '__format__',\n",
       " '__getattribute__',\n",
       " '__hash__',\n",
       " '__init__',\n",
       " '__iter__',\n",
       " '__new__',\n",
       " '__reduce__',\n",
       " '__reduce_ex__',\n",
       " '__repr__',\n",
       " '__setattr__',\n",
       " '__sizeof__',\n",
       " '__str__',\n",
       " '__subclasshook__',\n",
       " 'close',\n",
       " 'closed',\n",
       " 'encoding',\n",
       " 'errors',\n",
       " 'fileno',\n",
       " 'flush',\n",
       " 'isatty',\n",
       " 'mode',\n",
       " 'name',\n",
       " 'newlines',\n",
       " 'next',\n",
       " 'read',\n",
       " 'readinto',\n",
       " 'readline',\n",
       " 'readlines',\n",
       " 'seek',\n",
       " 'softspace',\n",
       " 'tell',\n",
       " 'truncate',\n",
       " 'write',\n",
       " 'writelines',\n",
       " 'xreadlines']"
      ]
     },
     "execution_count": 86,
     "metadata": {},
     "output_type": "execute_result"
    }
   ],
   "source": [
    "rd = open('./magic_file', 'r')\n",
    "dir(rd)"
   ]
  },
  {
   "cell_type": "code",
   "execution_count": 87,
   "metadata": {},
   "outputs": [],
   "source": [
    "rd.close()"
   ]
  },
  {
   "cell_type": "code",
   "execution_count": 88,
   "metadata": {},
   "outputs": [
    {
     "data": {
      "text/plain": [
       "<function __enter__>"
      ]
     },
     "execution_count": 88,
     "metadata": {},
     "output_type": "execute_result"
    }
   ],
   "source": [
    "rd.__enter__"
   ]
  },
  {
   "cell_type": "code",
   "execution_count": null,
   "metadata": {},
   "outputs": [],
   "source": [
    "rd.__exit__"
   ]
  },
  {
   "cell_type": "markdown",
   "metadata": {},
   "source": [
    "Context manager tworzymy implementując metody _ _ enter _ _ i _ _ exit _ _ ."
   ]
  },
  {
   "cell_type": "code",
   "execution_count": 19,
   "metadata": {},
   "outputs": [
    {
     "name": "stdout",
     "output_type": "stream",
     "text": [
      "Connecting to darpa01.\n",
      "connected\n",
      "<class '__main__.FatalError'> It's not going to work. <traceback object at 0x7f46668816c8>\n",
      "Closing connection to darpa01.\n"
     ]
    },
    {
     "ename": "FatalError",
     "evalue": "It's not going to work.",
     "output_type": "error",
     "traceback": [
      "\u001b[0;31m---------------------------------------------------------------------------\u001b[0m",
      "\u001b[0;31mFatalError\u001b[0m                                Traceback (most recent call last)",
      "\u001b[0;32m<ipython-input-19-f4515c34a2f9>\u001b[0m in \u001b[0;36m<module>\u001b[0;34m()\u001b[0m\n\u001b[1;32m     41\u001b[0m \u001b[0;32mwith\u001b[0m \u001b[0mConnection\u001b[0m\u001b[0;34m(\u001b[0m\u001b[0;34m**\u001b[0m\u001b[0mconn_details\u001b[0m\u001b[0;34m)\u001b[0m \u001b[0;32mas\u001b[0m \u001b[0mconn\u001b[0m\u001b[0;34m:\u001b[0m\u001b[0;34m\u001b[0m\u001b[0m\n\u001b[1;32m     42\u001b[0m     \u001b[0;32mprint\u001b[0m \u001b[0mconn\u001b[0m\u001b[0;34m.\u001b[0m\u001b[0mstate\u001b[0m\u001b[0;34m\u001b[0m\u001b[0m\n\u001b[0;32m---> 43\u001b[0;31m     \u001b[0mconn\u001b[0m\u001b[0;34m.\u001b[0m\u001b[0mrun\u001b[0m\u001b[0;34m(\u001b[0m\u001b[0;34m\"select * from *\"\u001b[0m\u001b[0;34m)\u001b[0m\u001b[0;34m\u001b[0m\u001b[0m\n\u001b[0m\u001b[1;32m     44\u001b[0m     \u001b[0;32mprint\u001b[0m \u001b[0;34m\"This won't be printed\"\u001b[0m\u001b[0;34m\u001b[0m\u001b[0m\n",
      "\u001b[0;32m<ipython-input-19-f4515c34a2f9>\u001b[0m in \u001b[0;36mrun\u001b[0;34m(self, query)\u001b[0m\n\u001b[1;32m     20\u001b[0m \u001b[0;34m\u001b[0m\u001b[0m\n\u001b[1;32m     21\u001b[0m     \u001b[0;32mdef\u001b[0m \u001b[0mrun\u001b[0m\u001b[0;34m(\u001b[0m\u001b[0mself\u001b[0m\u001b[0;34m,\u001b[0m \u001b[0mquery\u001b[0m\u001b[0;34m)\u001b[0m\u001b[0;34m:\u001b[0m\u001b[0;34m\u001b[0m\u001b[0m\n\u001b[0;32m---> 22\u001b[0;31m         \u001b[0;32mraise\u001b[0m \u001b[0mFatalError\u001b[0m\u001b[0;34m(\u001b[0m\u001b[0;34m\"It's not going to work.\"\u001b[0m\u001b[0;34m)\u001b[0m\u001b[0;34m\u001b[0m\u001b[0m\n\u001b[0m\u001b[1;32m     23\u001b[0m \u001b[0;34m\u001b[0m\u001b[0m\n\u001b[1;32m     24\u001b[0m     \u001b[0;32mdef\u001b[0m \u001b[0m__enter__\u001b[0m\u001b[0;34m(\u001b[0m\u001b[0mself\u001b[0m\u001b[0;34m)\u001b[0m\u001b[0;34m:\u001b[0m\u001b[0;34m\u001b[0m\u001b[0m\n",
      "\u001b[0;31mFatalError\u001b[0m: It's not going to work."
     ]
    }
   ],
   "source": [
    "class FatalError(Exception):\n",
    "    pass\n",
    "\n",
    "\n",
    "class Connection(object):\n",
    "    \n",
    "    INIT = 'init'\n",
    "    CONNECTED = 'connected'\n",
    "    DISCONNECTED = 'disconnected'\n",
    "    \n",
    "    def __init__(self, **connection_data):\n",
    "        self._conn_data = connection_data\n",
    "        self.state = self.INIT\n",
    "        \n",
    "    def _establish_db_conn(self):\n",
    "        print \"Connecting to {}.\".format(self._conn_data['host'])\n",
    "        \n",
    "    def _close_db_conn(self):\n",
    "        print \"Closing connection to {}.\".format(self._conn_data['host'])\n",
    "        \n",
    "    def run(self, query):\n",
    "        raise FatalError(\"It's not going to work.\")\n",
    "        \n",
    "    def __enter__(self):\n",
    "        self._establish_db_conn()\n",
    "        self.state = self.CONNECTED\n",
    "        return self\n",
    "        \n",
    "    def __exit__(self, type, value, traceback):\n",
    "        print type, value, traceback\n",
    "        # this will be invoked always\n",
    "        self._close_db_conn()\n",
    "        self.state = self.DISCONNECTED\n",
    "        \n",
    "        \n",
    "conn_details = {\n",
    "    'host': 'darpa01',\n",
    "    'password': 'Putin',\n",
    "}\n",
    "\n",
    "with Connection(**conn_details) as conn:\n",
    "    print conn.state\n",
    "    conn.run(\"select * from *\")\n",
    "    print \"This won't be printed\"\n"
   ]
  },
  {
   "cell_type": "code",
   "execution_count": 14,
   "metadata": {},
   "outputs": [
    {
     "name": "stdout",
     "output_type": "stream",
     "text": [
      "Connecting to darpa01.\n",
      "connected\n",
      "Closing connection to darpa01.\n",
      "disconnected\n"
     ]
    }
   ],
   "source": [
    "class EnhancedConnection(Connection):\n",
    "    \n",
    "    def _log_error(self, type, value, trace):\n",
    "        print (\"Found error during execution: {}:{}.\"\n",
    "               \" Will close the connection do db.\").format(type, value)\n",
    "        \n",
    "    def __exit__(self, type, value, traceback):\n",
    "        if type:\n",
    "            self._log_error(type, value, traceback)\n",
    "        self._close_db_conn()\n",
    "        self.state = self.DISCONNECTED\n",
    "        \n",
    "        \n",
    "with EnhancedConnection(**conn_details) as conn:\n",
    "    print conn.state\n",
    "print conn.state"
   ]
  },
  {
   "cell_type": "code",
   "execution_count": 18,
   "metadata": {},
   "outputs": [
    {
     "name": "stdout",
     "output_type": "stream",
     "text": [
      "Connecting to darpa01.\n",
      "connected\n",
      "Found error during execution: <class '__main__.FatalError'>:It's not going to work.. Will close the connection do db.\n",
      "Closing connection to darpa01.\n"
     ]
    },
    {
     "ename": "FatalError",
     "evalue": "It's not going to work.",
     "output_type": "error",
     "traceback": [
      "\u001b[0;31m---------------------------------------------------------------------------\u001b[0m",
      "\u001b[0;31mFatalError\u001b[0m                                Traceback (most recent call last)",
      "\u001b[0;32m<ipython-input-18-9cf40197d198>\u001b[0m in \u001b[0;36m<module>\u001b[0;34m()\u001b[0m\n\u001b[1;32m      1\u001b[0m \u001b[0;32mwith\u001b[0m \u001b[0mEnhancedConnection\u001b[0m\u001b[0;34m(\u001b[0m\u001b[0;34m**\u001b[0m\u001b[0mconn_details\u001b[0m\u001b[0;34m)\u001b[0m \u001b[0;32mas\u001b[0m \u001b[0mconn\u001b[0m\u001b[0;34m:\u001b[0m\u001b[0;34m\u001b[0m\u001b[0m\n\u001b[1;32m      2\u001b[0m     \u001b[0;32mprint\u001b[0m \u001b[0mconn\u001b[0m\u001b[0;34m.\u001b[0m\u001b[0mstate\u001b[0m\u001b[0;34m\u001b[0m\u001b[0m\n\u001b[0;32m----> 3\u001b[0;31m     \u001b[0mconn\u001b[0m\u001b[0;34m.\u001b[0m\u001b[0mrun\u001b[0m\u001b[0;34m(\u001b[0m\u001b[0;34m\"oh my query\"\u001b[0m\u001b[0;34m)\u001b[0m\u001b[0;34m\u001b[0m\u001b[0m\n\u001b[0m\u001b[1;32m      4\u001b[0m \u001b[0;32mprint\u001b[0m \u001b[0mconn\u001b[0m\u001b[0;34m.\u001b[0m\u001b[0mstate\u001b[0m\u001b[0;34m\u001b[0m\u001b[0m\n",
      "\u001b[0;32m<ipython-input-11-33f2e08d7716>\u001b[0m in \u001b[0;36mrun\u001b[0;34m(self, query)\u001b[0m\n\u001b[1;32m     20\u001b[0m \u001b[0;34m\u001b[0m\u001b[0m\n\u001b[1;32m     21\u001b[0m     \u001b[0;32mdef\u001b[0m \u001b[0mrun\u001b[0m\u001b[0;34m(\u001b[0m\u001b[0mself\u001b[0m\u001b[0;34m,\u001b[0m \u001b[0mquery\u001b[0m\u001b[0;34m)\u001b[0m\u001b[0;34m:\u001b[0m\u001b[0;34m\u001b[0m\u001b[0m\n\u001b[0;32m---> 22\u001b[0;31m         \u001b[0;32mraise\u001b[0m \u001b[0mFatalError\u001b[0m\u001b[0;34m(\u001b[0m\u001b[0;34m\"It's not going to work.\"\u001b[0m\u001b[0;34m)\u001b[0m\u001b[0;34m\u001b[0m\u001b[0m\n\u001b[0m\u001b[1;32m     23\u001b[0m \u001b[0;34m\u001b[0m\u001b[0m\n\u001b[1;32m     24\u001b[0m     \u001b[0;32mdef\u001b[0m \u001b[0m__enter__\u001b[0m\u001b[0;34m(\u001b[0m\u001b[0mself\u001b[0m\u001b[0;34m)\u001b[0m\u001b[0;34m:\u001b[0m\u001b[0;34m\u001b[0m\u001b[0m\n",
      "\u001b[0;31mFatalError\u001b[0m: It's not going to work."
     ]
    }
   ],
   "source": [
    "with EnhancedConnection(**conn_details) as conn:\n",
    "    print conn.state\n",
    "    conn.run(\"oh my query\")\n",
    "print conn.state"
   ]
  },
  {
   "cell_type": "markdown",
   "metadata": {},
   "source": [
    "Gdy _ _ exit _ _ nie robi tego, czego chcemy (albo metody nie ma w ogóle):"
   ]
  },
  {
   "cell_type": "code",
   "execution_count": 29,
   "metadata": {},
   "outputs": [],
   "source": [
    "import socket\n",
    "from contextlib import closing\n",
    "\n",
    "with closing(socket.socket(socket.AF_INET, socket.SOCK_STREAM)) as sock:\n",
    "    sock.bind((socket.gethostname(), 1080))\n",
    "    sock.listen(2)"
   ]
  },
  {
   "cell_type": "markdown",
   "metadata": {},
   "source": [
    "Context manager przydaje się wszędzie tam, gdzie wykonujemy ustalone czynności na początek i koniec wywołania określonego kodu. Najczęściej nie są one częścią właściwej logiki. Przykłady:\n",
    "* nawiązanie i zamknięcie połączenia do bazy danych\n",
    "* otworzenie i zamknięcie pliku\n",
    "* uzyskanie i zwolnienie semafora\n",
    "* przydzielenie i zwolnienie wartości z puli\n",
    "* konstruktory i destruktory"
   ]
  },
  {
   "cell_type": "markdown",
   "metadata": {},
   "source": [
    "## ZADANIE"
   ]
  },
  {
   "cell_type": "markdown",
   "metadata": {},
   "source": [
    "Zaimplementuj słownik, który będzie działał poprawnie w poniższych sytuacjach:"
   ]
  },
  {
   "cell_type": "code",
   "execution_count": 35,
   "metadata": {},
   "outputs": [
    {
     "ename": "KeyError",
     "evalue": "'deeper'",
     "output_type": "error",
     "traceback": [
      "\u001b[0;31m---------------------------------------------------------------------------\u001b[0m",
      "\u001b[0;31mKeyError\u001b[0m                                  Traceback (most recent call last)",
      "\u001b[0;32m<ipython-input-35-2f471d0fa223>\u001b[0m in \u001b[0;36m<module>\u001b[0;34m()\u001b[0m\n\u001b[1;32m      4\u001b[0m \u001b[0mad\u001b[0m \u001b[0;34m=\u001b[0m \u001b[0mAutoDict\u001b[0m\u001b[0;34m(\u001b[0m\u001b[0;34m)\u001b[0m\u001b[0;34m\u001b[0m\u001b[0m\n\u001b[1;32m      5\u001b[0m \u001b[0mad\u001b[0m\u001b[0;34m[\u001b[0m\u001b[0;34m\"notdeep\"\u001b[0m\u001b[0;34m]\u001b[0m \u001b[0;34m=\u001b[0m \u001b[0;36m1\u001b[0m\u001b[0;34m\u001b[0m\u001b[0m\n\u001b[0;32m----> 6\u001b[0;31m \u001b[0mad\u001b[0m\u001b[0;34m[\u001b[0m\u001b[0;34m\"deeper\"\u001b[0m\u001b[0;34m]\u001b[0m\u001b[0;34m[\u001b[0m\u001b[0;34m\"ok\"\u001b[0m\u001b[0;34m]\u001b[0m \u001b[0;34m=\u001b[0m \u001b[0;34m'OK'\u001b[0m\u001b[0;34m\u001b[0m\u001b[0m\n\u001b[0m\u001b[1;32m      7\u001b[0m \u001b[0mad\u001b[0m\u001b[0;34m[\u001b[0m\u001b[0;34m\"deeper\"\u001b[0m\u001b[0;34m]\u001b[0m\u001b[0;34m[\u001b[0m\u001b[0;34m\"bad\"\u001b[0m\u001b[0;34m]\u001b[0m \u001b[0;34m=\u001b[0m \u001b[0;34m'BAD'\u001b[0m\u001b[0;34m\u001b[0m\u001b[0m\n\u001b[1;32m      8\u001b[0m \u001b[0mad\u001b[0m\u001b[0;34m[\u001b[0m\u001b[0;36m1\u001b[0m\u001b[0;34m]\u001b[0m\u001b[0;34m[\u001b[0m\u001b[0;36m2\u001b[0m\u001b[0;34m]\u001b[0m\u001b[0;34m[\u001b[0m\u001b[0;36m3\u001b[0m\u001b[0;34m]\u001b[0m\u001b[0;34m[\u001b[0m\u001b[0;36m4\u001b[0m\u001b[0;34m]\u001b[0m \u001b[0;34m=\u001b[0m \u001b[0;36m5\u001b[0m\u001b[0;34m\u001b[0m\u001b[0m\n",
      "\u001b[0;31mKeyError\u001b[0m: 'deeper'"
     ]
    }
   ],
   "source": [
    "class AutoDict(dict):\n",
    "    pass\n",
    "\n",
    "ad = AutoDict()\n",
    "ad[\"notdeep\"] = 1\n",
    "ad[\"deeper\"][\"ok\"] = 'OK'\n",
    "ad[\"deeper\"][\"bad\"] = 'BAD'\n",
    "ad[1][2][3][4] = 5\n",
    "\n",
    "print ad[1][2][3][4]\n",
    "print ad"
   ]
  },
  {
   "cell_type": "code",
   "execution_count": null,
   "metadata": {},
   "outputs": [],
   "source": []
  }
 ],
 "metadata": {
  "kernelspec": {
   "display_name": "Python 2",
   "language": "python",
   "name": "python2"
  },
  "language_info": {
   "codemirror_mode": {
    "name": "ipython",
    "version": 2
   },
   "file_extension": ".py",
   "mimetype": "text/x-python",
   "name": "python",
   "nbconvert_exporter": "python",
   "pygments_lexer": "ipython2",
   "version": "2.7.15"
  }
 },
 "nbformat": 4,
 "nbformat_minor": 2
}
