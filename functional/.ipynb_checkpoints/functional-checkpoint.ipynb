{
 "cells": [
  {
   "cell_type": "markdown",
   "metadata": {},
   "source": [
    "# 5. Elementy programowania funkcyjnego"
   ]
  },
  {
   "cell_type": "markdown",
   "metadata": {},
   "source": [
    "Z punktu widzenia programisty pythona elementy programowania funkcyjnego dostępne w języku służą do tworzenia potoków danych (pipeline'ów)."
   ]
  },
  {
   "cell_type": "markdown",
   "metadata": {},
   "source": [
    "<img src=\"pipeline.png\">"
   ]
  },
  {
   "cell_type": "markdown",
   "metadata": {},
   "source": [
    "## 5.1. Funkcja lambda"
   ]
  },
  {
   "cell_type": "markdown",
   "metadata": {},
   "source": [
    "Czyli funkcje anonimowe zapisywane w jednej linijce. Służą do operowania na pojedynczym elemencie w potoku danych."
   ]
  },
  {
   "cell_type": "code",
   "execution_count": 3,
   "metadata": {},
   "outputs": [
    {
     "name": "stdout",
     "output_type": "stream",
     "text": [
      "<function <lambda> at 0x7f8027087668>\n",
      "100\n"
     ]
    }
   ],
   "source": [
    "f = lambda x: x**2\n",
    "print f\n",
    "print f(10)"
   ]
  },
  {
   "cell_type": "code",
   "execution_count": 4,
   "metadata": {},
   "outputs": [
    {
     "data": {
      "text/plain": [
       "[1, 4, 9, 16, 25]"
      ]
     },
     "execution_count": 4,
     "metadata": {},
     "output_type": "execute_result"
    }
   ],
   "source": [
    "map(lambda x: x**2, [1, 2, 3, 4, 5])"
   ]
  },
  {
   "cell_type": "code",
   "execution_count": 6,
   "metadata": {},
   "outputs": [
    {
     "data": {
      "text/plain": [
       "[1, 4, 9, 16, 25]"
      ]
     },
     "execution_count": 6,
     "metadata": {},
     "output_type": "execute_result"
    }
   ],
   "source": [
    "def pow2(x):\n",
    "    return x**2\n",
    "map(pow2, [1, 2, 3, 4, 5])"
   ]
  },
  {
   "cell_type": "markdown",
   "metadata": {},
   "source": [
    "Lambda może mieć wiele argumentów:"
   ]
  },
  {
   "cell_type": "code",
   "execution_count": 18,
   "metadata": {},
   "outputs": [
    {
     "data": {
      "text/plain": [
       "[10, 10000, 1000000000]"
      ]
     },
     "execution_count": 18,
     "metadata": {},
     "output_type": "execute_result"
    }
   ],
   "source": [
    "map(lambda x, y: x**y, [10, 100, 1000], [1, 2, 3])"
   ]
  },
  {
   "cell_type": "markdown",
   "metadata": {},
   "source": [
    "## 5.2. Wbudowane funkcje"
   ]
  },
  {
   "cell_type": "markdown",
   "metadata": {},
   "source": [
    "Map:"
   ]
  },
  {
   "cell_type": "code",
   "execution_count": 7,
   "metadata": {},
   "outputs": [
    {
     "name": "stdout",
     "output_type": "stream",
     "text": [
      "[True, False, True, False, True]\n"
     ]
    }
   ],
   "source": [
    "from operator import gt\n",
    "\n",
    "\n",
    "def zigzak(n):\n",
    "    res = 1\n",
    "    for i in xrange(1, n):\n",
    "        res = -1*res*i\n",
    "    return res\n",
    "\n",
    "\n",
    "x = map(gt, map(zigzak, [1, 2, 3, 4, 5]), [0, 0, 0, 0, 0])\n",
    "print x"
   ]
  },
  {
   "cell_type": "markdown",
   "metadata": {},
   "source": [
    "Filter:"
   ]
  },
  {
   "cell_type": "code",
   "execution_count": 17,
   "metadata": {},
   "outputs": [
    {
     "name": "stdout",
     "output_type": "stream",
     "text": [
      "[Dictator(name='Guido', bad=False)]\n",
      "[Dictator(name='Guido', bad=False)]\n"
     ]
    }
   ],
   "source": [
    "from collections import namedtuple\n",
    "\n",
    "Dictator = namedtuple('Dictator', ['name', 'bad'])\n",
    "\n",
    "dictators = [\n",
    "    Dictator(\"Mussolini\", True),\n",
    "    Dictator(\"Stalin\", True),\n",
    "    Dictator(\"Hitler\", True),\n",
    "    Dictator(\"Guido\", False)\n",
    "]\n",
    "\n",
    "x = filter(lambda x: not x.bad, dictators)\n",
    "print x\n",
    "\n",
    "print [x for x in dictators if not x.bad]"
   ]
  },
  {
   "cell_type": "markdown",
   "metadata": {},
   "source": [
    "Reduce:"
   ]
  },
  {
   "cell_type": "code",
   "execution_count": 13,
   "metadata": {},
   "outputs": [
    {
     "name": "stdout",
     "output_type": "stream",
     "text": [
      "set(['c'])\n"
     ]
    }
   ],
   "source": [
    "all_sets = [set(['a', 'b', 'c']), set(['b', 'c', 'd']), set(['c', 'd', 'e'])]\n",
    "print reduce(set.intersection, all_sets)"
   ]
  },
  {
   "cell_type": "code",
   "execution_count": 16,
   "metadata": {},
   "outputs": [
    {
     "data": {
      "text/plain": [
       "[1, 2, 3, 4, 5, 6, 7, 8]"
      ]
     },
     "execution_count": 16,
     "metadata": {},
     "output_type": "execute_result"
    }
   ],
   "source": [
    "reduce(list.__add__, [[1, 2, 3], [4, 5], [6, 7, 8]], [])"
   ]
  },
  {
   "cell_type": "code",
   "execution_count": 29,
   "metadata": {},
   "outputs": [
    {
     "name": "stdout",
     "output_type": "stream",
     "text": [
      "15\n",
      "15\n",
      "True\n",
      "True\n",
      "True\n",
      "True\n"
     ]
    }
   ],
   "source": [
    "print reduce(lambda x,y: x + y, [1, 2, 3, 4, 5])\n",
    "print sum([1, 2, 3, 4, 5])\n",
    "\n",
    "truth = [True, True, True]\n",
    "print reduce(lambda x,y: x and y, truth)\n",
    "print all(truth)\n",
    "\n",
    "one = [True, False, False]\n",
    "print reduce(lambda x,y: x or y, one)\n",
    "print any(one)"
   ]
  },
  {
   "cell_type": "markdown",
   "metadata": {},
   "source": [
    "## 5.3. Itertools"
   ]
  },
  {
   "cell_type": "markdown",
   "metadata": {},
   "source": [
    "chain, cycle, izip, imap etc, operator, partials, małe przykłady"
   ]
  },
  {
   "cell_type": "markdown",
   "metadata": {},
   "source": [
    "## 5.4. Modularny kod"
   ]
  },
  {
   "cell_type": "markdown",
   "metadata": {},
   "source": [
    "Przetwarzanie tekstu: tekst -> liczby wystąpień danych słów.: standardowo vs funkcyjnie"
   ]
  },
  {
   "cell_type": "markdown",
   "metadata": {},
   "source": [
    "## 5.5. Przykłady"
   ]
  },
  {
   "cell_type": "markdown",
   "metadata": {},
   "source": [
    "Tutaj większe przykłady: przetwarzanie danych z jsona z requests, consumer producer pattern."
   ]
  },
  {
   "cell_type": "markdown",
   "metadata": {},
   "source": [
    "## 5.6. Podsumowanie i filozofia"
   ]
  },
  {
   "cell_type": "markdown",
   "metadata": {},
   "source": [
    "* Bezstanowe funkcje (wyjście zależy tylko wyłącznie od wejścia do funkcji) eliminują efekty uboczne\n",
    "* Niemutowalność wejścia do funkcji nie jest wymuszana\n",
    "* Nie zachęca się do pisania kodu czysto funkcyjnego w pythonie (unikanie zmiennych)\n",
    "* Kod w stylu funkcyjnym wymusza modularność, jest z tego powodu łatwiejszy w debugowaniu"
   ]
  },
  {
   "cell_type": "code",
   "execution_count": 37,
   "metadata": {},
   "outputs": [
    {
     "name": "stdout",
     "output_type": "stream",
     "text": [
      "['b', 'c', 'd', 'e']\n"
     ]
    }
   ],
   "source": [
    "print map(lambda x: chr(ord(x)+1), \"abcd\")"
   ]
  },
  {
   "cell_type": "markdown",
   "metadata": {},
   "source": []
  },
  {
   "cell_type": "code",
   "execution_count": null,
   "metadata": {},
   "outputs": [],
   "source": []
  }
 ],
 "metadata": {
  "kernelspec": {
   "display_name": "Python 2",
   "language": "python",
   "name": "python2"
  },
  "language_info": {
   "codemirror_mode": {
    "name": "ipython",
    "version": 2
   },
   "file_extension": ".py",
   "mimetype": "text/x-python",
   "name": "python",
   "nbconvert_exporter": "python",
   "pygments_lexer": "ipython2",
   "version": "2.7.15"
  }
 },
 "nbformat": 4,
 "nbformat_minor": 2
}
