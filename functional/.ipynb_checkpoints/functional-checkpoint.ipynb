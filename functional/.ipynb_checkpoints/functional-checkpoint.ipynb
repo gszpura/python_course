{
 "cells": [
  {
   "cell_type": "markdown",
   "metadata": {},
   "source": [
    "# 5. Elementy programowania funkcyjnego"
   ]
  },
  {
   "cell_type": "markdown",
   "metadata": {},
   "source": [
    "Z punktu widzenia programisty pythona elementy programowania funkcyjnego dostępne w języku służą do tworzenia potoków danych (pipeline'ów)."
   ]
  },
  {
   "cell_type": "markdown",
   "metadata": {},
   "source": [
    "<img src=\"pipeline.png\">"
   ]
  },
  {
   "cell_type": "markdown",
   "metadata": {},
   "source": [
    "## 5.1. Funkcja lambda"
   ]
  },
  {
   "cell_type": "markdown",
   "metadata": {},
   "source": [
    "Czyli funkcje anonimowe zapisywane w jednej linijce. Służą do operowania na pojedynczym elemencie w potoku danych."
   ]
  },
  {
   "cell_type": "code",
   "execution_count": null,
   "metadata": {},
   "outputs": [],
   "source": [
    "f = lambda x: x**2\n",
    "print(f)\n",
    "print(f(10))"
   ]
  },
  {
   "cell_type": "markdown",
   "metadata": {},
   "source": [
    "Map wywołuje funkcję osobno dla każdego z elementów listy:"
   ]
  },
  {
   "cell_type": "code",
   "execution_count": null,
   "metadata": {},
   "outputs": [],
   "source": [
    "map(lambda x: x**2, [1, 2, 3, 4, 5])"
   ]
  },
  {
   "cell_type": "code",
   "execution_count": null,
   "metadata": {},
   "outputs": [],
   "source": [
    "def pow2(x):\n",
    "    return x**2\n",
    "map(pow2, [1, 2, 3, 4, 5])"
   ]
  },
  {
   "cell_type": "markdown",
   "metadata": {},
   "source": [
    "Lambda może mieć wiele argumentów:"
   ]
  },
  {
   "cell_type": "code",
   "execution_count": null,
   "metadata": {},
   "outputs": [],
   "source": [
    "map(lambda x, y: x**y, [10, 100, 1000], [1, 2, 3])"
   ]
  },
  {
   "cell_type": "markdown",
   "metadata": {},
   "source": [
    "## 5.2. Wbudowane funkcje"
   ]
  },
  {
   "cell_type": "markdown",
   "metadata": {},
   "source": [
    "Map:"
   ]
  },
  {
   "cell_type": "code",
   "execution_count": null,
   "metadata": {},
   "outputs": [],
   "source": [
    "from operator import gt\n",
    "\n",
    "\n",
    "def zigzak(n):\n",
    "    res = 1\n",
    "    for i in xrange(1, n):\n",
    "        res = -1*res*i\n",
    "    return res\n",
    "\n",
    "\n",
    "x = map(gt, map(zigzak, [1, 2, 3, 4, 5]), [0, 0, 0, 0, 0])\n",
    "print(x)"
   ]
  },
  {
   "cell_type": "markdown",
   "metadata": {},
   "source": [
    "Filter:"
   ]
  },
  {
   "cell_type": "code",
   "execution_count": null,
   "metadata": {},
   "outputs": [],
   "source": [
    "from collections import namedtuple\n",
    "\n",
    "Dictator = namedtuple('Dictator', ['name', 'bad'])\n",
    "\n",
    "dictators = [\n",
    "    Dictator(\"Mussolini\", True),\n",
    "    Dictator(\"Stalin\", True),\n",
    "    Dictator(\"Hitler\", True),\n",
    "    Dictator(\"Guido\", False)\n",
    "]\n",
    "\n",
    "x = filter(lambda x: not x.bad, dictators)\n",
    "print(x)"
   ]
  },
  {
   "cell_type": "markdown",
   "metadata": {},
   "source": [
    "Można też tak:"
   ]
  },
  {
   "cell_type": "code",
   "execution_count": null,
   "metadata": {},
   "outputs": [],
   "source": [
    "[x for x in dictators if not x.bad]"
   ]
  },
  {
   "cell_type": "markdown",
   "metadata": {},
   "source": [
    "Reduce:"
   ]
  },
  {
   "cell_type": "code",
   "execution_count": null,
   "metadata": {},
   "outputs": [],
   "source": [
    "all_sets = [set(['a', 'b', 'c']), set(['b', 'c', 'd']), set(['c', 'd', 'e'])]\n",
    "reduce(set.intersection, all_sets)"
   ]
  },
  {
   "cell_type": "code",
   "execution_count": null,
   "metadata": {},
   "outputs": [],
   "source": [
    "reduce(list.__add__, [[1, 2, 3], [4, 5], [6, 7, 8]])"
   ]
  },
  {
   "cell_type": "markdown",
   "metadata": {},
   "source": [
    "Typowe przykłady użycia 'reduce' można zastąpić innymi funkcjami:"
   ]
  },
  {
   "cell_type": "code",
   "execution_count": null,
   "metadata": {},
   "outputs": [],
   "source": [
    "print(reduce(lambda x,y: x + y, [1, 2, 3, 4, 5]))\n",
    "print(sum([1, 2, 3, 4, 5]))"
   ]
  },
  {
   "cell_type": "code",
   "execution_count": null,
   "metadata": {},
   "outputs": [],
   "source": [
    "truth = [True, True, True]\n",
    "print(reduce(lambda x,y: x and y, truth))\n",
    "print(all(truth))"
   ]
  },
  {
   "cell_type": "code",
   "execution_count": null,
   "metadata": {},
   "outputs": [],
   "source": [
    "one = [True, False, False]\n",
    "print(reduce(lambda x,y: x or y, one))\n",
    "print(any(one))"
   ]
  },
  {
   "cell_type": "markdown",
   "metadata": {},
   "source": [
    "## 5.3. Itertools"
   ]
  },
  {
   "cell_type": "code",
   "execution_count": null,
   "metadata": {},
   "outputs": [],
   "source": [
    "import itertools"
   ]
  },
  {
   "cell_type": "markdown",
   "metadata": {},
   "source": [
    "Itertools to biblioteka przygotowana w celu ułatwienia pisania programów w stylu funkcyjnym. Poniżej kilka przykładów użycia. Później wyciągniemy wnioski."
   ]
  },
  {
   "cell_type": "markdown",
   "metadata": {},
   "source": [
    "Chain:"
   ]
  },
  {
   "cell_type": "code",
   "execution_count": null,
   "metadata": {},
   "outputs": [],
   "source": [
    "nested_list = [[1, 2, 3], [4, 5], [6, 7, 8]]\n",
    "print(reduce(list.__add__, nested_list))\n",
    "print(itertools.chain(*nested_list))"
   ]
  },
  {
   "cell_type": "code",
   "execution_count": null,
   "metadata": {},
   "outputs": [],
   "source": [
    "list(itertools.chain(*nested_list))"
   ]
  },
  {
   "cell_type": "markdown",
   "metadata": {},
   "source": [
    "Składanie argumentów jako jedno z zastosowań:"
   ]
  },
  {
   "cell_type": "code",
   "execution_count": null,
   "metadata": {},
   "outputs": [],
   "source": [
    "from collections import namedtuple\n",
    "\n",
    "\n",
    "Result = namedtuple('Result', ['code', 'val', 'node'])\n",
    "\n",
    "\n",
    "def check_all(*multiple_same_args):\n",
    "    return all([it.code == 200 for it in itertools.chain(*multiple_same_args)])\n",
    "\n",
    "        \n",
    "res_host_1 = [Result(200, 1, 'host1'), Result(200, 101, 'host1')]\n",
    "res_host_2 = [Result(400, 3, 'host2')]\n",
    "print(check_all(res_host_1, res_host_2))"
   ]
  },
  {
   "cell_type": "markdown",
   "metadata": {},
   "source": [
    "Cycle:"
   ]
  },
  {
   "cell_type": "code",
   "execution_count": null,
   "metadata": {},
   "outputs": [],
   "source": [
    "for i, number in enumerate(itertools.cycle([1, 2, 3])):\n",
    "    print(number)\n",
    "    if i and i % 5 == 0:\n",
    "        break"
   ]
  },
  {
   "cell_type": "markdown",
   "metadata": {},
   "source": [
    "Po co to komu?"
   ]
  },
  {
   "cell_type": "markdown",
   "metadata": {},
   "source": [
    "Porównujemy liczby z listy do 0 (sprawdź ostatni element!):"
   ]
  },
  {
   "cell_type": "code",
   "execution_count": null,
   "metadata": {},
   "outputs": [],
   "source": [
    "from operator import gt\n",
    "\n",
    "important_values = [1, 10, -4, -3, 20, -100]\n",
    "map(gt, important_values , [0, 0, 0, 0, 0])"
   ]
  },
  {
   "cell_type": "markdown",
   "metadata": {},
   "source": [
    "Moglibyśmy zrobić tak, ale nie zrobimy:"
   ]
  },
  {
   "cell_type": "code",
   "execution_count": null,
   "metadata": {},
   "outputs": [],
   "source": [
    "# map(gt, important_values , itertools.cycle([0]))"
   ]
  },
  {
   "cell_type": "markdown",
   "metadata": {},
   "source": [
    "Lepiej tak:"
   ]
  },
  {
   "cell_type": "code",
   "execution_count": null,
   "metadata": {},
   "outputs": [],
   "source": [
    "list(itertools.imap(gt, important_values, itertools.cycle([0])))"
   ]
  },
  {
   "cell_type": "markdown",
   "metadata": {},
   "source": [
    "Map będzie dostawiał None, gdy jedna z list jest zbyt krótka.\n",
    "Dlatego nie można go uzywać z cycle. imap jest spoko. Jest iteratorem i kończy działanie razem z krótszą listą:"
   ]
  },
  {
   "cell_type": "code",
   "execution_count": null,
   "metadata": {},
   "outputs": [],
   "source": [
    "from operator import lshift\n",
    "list(itertools.imap(lshift, [1, 2, 4, 8, 16], [2, 2, 2]))"
   ]
  },
  {
   "cell_type": "markdown",
   "metadata": {},
   "source": [
    "Partials:"
   ]
  },
  {
   "cell_type": "code",
   "execution_count": null,
   "metadata": {},
   "outputs": [],
   "source": [
    "from functools import partial\n",
    "from operator import lt\n",
    "lt0 = partial(lt, 0)\n",
    "list(itertools.imap(lt0, important_values))"
   ]
  },
  {
   "cell_type": "markdown",
   "metadata": {},
   "source": [
    "Partiale wypełniają argumenty w funkcji."
   ]
  },
  {
   "cell_type": "markdown",
   "metadata": {},
   "source": [
    "Zip i izip:"
   ]
  },
  {
   "cell_type": "code",
   "execution_count": null,
   "metadata": {},
   "outputs": [],
   "source": [
    "names = [\"Maria\", \"Maria\", \"Maria\"]\n",
    "surnames = [\"Tudor\", u\"Skłodowska\", \"Rodowicz\"]\n",
    "print(zip(names, surnames))\n",
    "print(itertools.izip(names, surnames))"
   ]
  },
  {
   "cell_type": "markdown",
   "metadata": {},
   "source": [
    "## 5.4. Modularny kod"
   ]
  },
  {
   "cell_type": "markdown",
   "metadata": {},
   "source": [
    "Po co programowanie funkcyjne? Po to, żeby łatwiej pisać modularny kod. Bag of words example."
   ]
  },
  {
   "cell_type": "markdown",
   "metadata": {},
   "source": [
    "## 5.5. Przykłady"
   ]
  },
  {
   "cell_type": "markdown",
   "metadata": {},
   "source": [
    "Tutaj większe przykłady: przetwarzanie danych z jsona z requests, consumer producer pattern."
   ]
  },
  {
   "cell_type": "markdown",
   "metadata": {},
   "source": [
    "## 5.6. Podsumowanie i filozofia"
   ]
  },
  {
   "cell_type": "markdown",
   "metadata": {},
   "source": [
    "* Bezstanowe funkcje (wyjście zależy tylko wyłącznie od wejścia do funkcji) eliminują efekty uboczne\n",
    "* Niemutowalność wejścia do funkcji nie jest wymuszana\n",
    "* Nie zachęca się do pisania kodu czysto funkcyjnego w pythonie (unikanie zmiennych)\n",
    "* Kod w stylu funkcyjnym wymusza modularność, jest z tego powodu łatwiejszy w debugowaniu"
   ]
  }
 ],
 "metadata": {
  "kernelspec": {
   "display_name": "Python 2",
   "language": "python",
   "name": "python2"
  },
  "language_info": {
   "codemirror_mode": {
    "name": "ipython",
    "version": 2
   },
   "file_extension": ".py",
   "mimetype": "text/x-python",
   "name": "python",
   "nbconvert_exporter": "python",
   "pygments_lexer": "ipython2",
   "version": "2.7.15"
  }
 },
 "nbformat": 4,
 "nbformat_minor": 2
}
