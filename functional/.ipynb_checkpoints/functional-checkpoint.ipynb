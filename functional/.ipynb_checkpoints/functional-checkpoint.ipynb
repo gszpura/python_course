{
 "cells": [
  {
   "cell_type": "markdown",
   "metadata": {},
   "source": [
    "# 5. Elementy programowania funkcyjnego"
   ]
  },
  {
   "cell_type": "markdown",
   "metadata": {},
   "source": [
    "Elementy programowania funkcyjnego dostępne w języku służą do tworzenia potoków danych (pipeline'ów)."
   ]
  },
  {
   "cell_type": "markdown",
   "metadata": {},
   "source": [
    "<img src=\"pipeline.png\">"
   ]
  },
  {
   "cell_type": "markdown",
   "metadata": {},
   "source": [
    "Funkcje są bezstanowe."
   ]
  },
  {
   "cell_type": "markdown",
   "metadata": {},
   "source": [
    "https://docs.python.org/3/howto/functional.html\n",
    "\n",
    "\"In a functional program, input flows through a set of functions.\""
   ]
  },
  {
   "cell_type": "markdown",
   "metadata": {},
   "source": [
    "## 5.1. Funkcja lambda"
   ]
  },
  {
   "cell_type": "markdown",
   "metadata": {},
   "source": [
    "Czyli funkcje anonimowe zapisywane w jednej linijce. Służą do operowania na pojedynczym elemencie w potoku danych."
   ]
  },
  {
   "cell_type": "code",
   "execution_count": null,
   "metadata": {},
   "outputs": [],
   "source": [
    "f = lambda x: x**2\n",
    "print(f)\n",
    "print(f(10))"
   ]
  },
  {
   "cell_type": "markdown",
   "metadata": {},
   "source": [
    "Map wywołuje funkcję osobno dla każdego z elementów listy:"
   ]
  },
  {
   "cell_type": "code",
   "execution_count": null,
   "metadata": {},
   "outputs": [],
   "source": [
    "map(lambda x: x**2, [1, 2, 3, 4, 5])"
   ]
  },
  {
   "cell_type": "code",
   "execution_count": null,
   "metadata": {},
   "outputs": [],
   "source": [
    "def pow2(x):\n",
    "    return x**2\n",
    "map(pow2, [1, 2, 3, 4, 5])"
   ]
  },
  {
   "cell_type": "markdown",
   "metadata": {},
   "source": [
    "Lambda może mieć wiele argumentów:"
   ]
  },
  {
   "cell_type": "code",
   "execution_count": null,
   "metadata": {},
   "outputs": [],
   "source": [
    "map(lambda x, y: x**y, [10, 100, 1000], [1, 2, 3])"
   ]
  },
  {
   "cell_type": "markdown",
   "metadata": {},
   "source": [
    "Lambda przydaje się czasami do skrócenia zapisu."
   ]
  },
  {
   "cell_type": "markdown",
   "metadata": {},
   "source": [
    "## 5.2. Wbudowane funkcje"
   ]
  },
  {
   "cell_type": "markdown",
   "metadata": {},
   "source": [
    "Map:"
   ]
  },
  {
   "cell_type": "code",
   "execution_count": 3,
   "metadata": {},
   "outputs": [
    {
     "name": "stdout",
     "output_type": "stream",
     "text": [
      "[True, False, True, False, True]\n"
     ]
    }
   ],
   "source": [
    "from operator import gt\n",
    "\n",
    "\n",
    "def zigzak(n):\n",
    "    res = 1\n",
    "    for i in xrange(1, n):\n",
    "        res = -1*res*i\n",
    "    return res\n",
    "\n",
    "\n",
    "x = map(gt, map(zigzak, [1, 2, 3, 4, 5]), [0, 0, 0, 0, 0])\n",
    "print(x)"
   ]
  },
  {
   "cell_type": "markdown",
   "metadata": {},
   "source": [
    "Można też tak:"
   ]
  },
  {
   "cell_type": "code",
   "execution_count": 4,
   "metadata": {},
   "outputs": [
    {
     "data": {
      "text/plain": [
       "[True, False, True, False, True]"
      ]
     },
     "execution_count": 4,
     "metadata": {},
     "output_type": "execute_result"
    }
   ],
   "source": [
    "[zigzak(x) > 0 for x in [1, 2, 3, 4, 5]]"
   ]
  },
  {
   "cell_type": "markdown",
   "metadata": {},
   "source": [
    "Filter:"
   ]
  },
  {
   "cell_type": "code",
   "execution_count": null,
   "metadata": {},
   "outputs": [],
   "source": [
    "from collections import namedtuple\n",
    "\n",
    "Dictator = namedtuple('Dictator', ['name', 'bad'])\n",
    "\n",
    "dictators = [\n",
    "    Dictator(\"Mussolini\", True),\n",
    "    Dictator(\"Stalin\", True),\n",
    "    Dictator(\"Hitler\", True),\n",
    "    Dictator(\"Guido\", False)\n",
    "]\n",
    "\n",
    "x = filter(lambda x: not x.bad, dictators)\n",
    "print(x)"
   ]
  },
  {
   "cell_type": "markdown",
   "metadata": {},
   "source": [
    "Można też tak:"
   ]
  },
  {
   "cell_type": "code",
   "execution_count": null,
   "metadata": {},
   "outputs": [],
   "source": [
    "[x for x in dictators if not x.bad]"
   ]
  },
  {
   "cell_type": "markdown",
   "metadata": {},
   "source": [
    "Reduce:"
   ]
  },
  {
   "cell_type": "code",
   "execution_count": null,
   "metadata": {},
   "outputs": [],
   "source": [
    "all_sets = [set(['a', 'b', 'c']), set(['b', 'c', 'd']), set(['c', 'd', 'e'])]\n",
    "reduce(set.intersection, all_sets)"
   ]
  },
  {
   "cell_type": "code",
   "execution_count": null,
   "metadata": {},
   "outputs": [],
   "source": [
    "reduce(list.__add__, [[1, 2, 3], [4, 5], [6, 7, 8]])"
   ]
  },
  {
   "cell_type": "markdown",
   "metadata": {},
   "source": [
    "Typowe przykłady użycia 'reduce' można zastąpić innymi funkcjami:"
   ]
  },
  {
   "cell_type": "code",
   "execution_count": null,
   "metadata": {},
   "outputs": [],
   "source": [
    "print(reduce(lambda x,y: x + y, [1, 2, 3, 4, 5]))\n",
    "print(sum([1, 2, 3, 4, 5]))"
   ]
  },
  {
   "cell_type": "code",
   "execution_count": null,
   "metadata": {},
   "outputs": [],
   "source": [
    "truth = [True, True, True]\n",
    "print(reduce(lambda x,y: x and y, truth))\n",
    "print(all(truth))"
   ]
  },
  {
   "cell_type": "code",
   "execution_count": 1,
   "metadata": {},
   "outputs": [
    {
     "name": "stdout",
     "output_type": "stream",
     "text": [
      "True\n",
      "True\n"
     ]
    }
   ],
   "source": [
    "one = [True, False, False]\n",
    "print(reduce(lambda x,y: x or y, one))\n",
    "print(any(one))"
   ]
  },
  {
   "cell_type": "markdown",
   "metadata": {},
   "source": [
    "## 5.3. Itertools"
   ]
  },
  {
   "cell_type": "code",
   "execution_count": null,
   "metadata": {},
   "outputs": [],
   "source": [
    "import itertools"
   ]
  },
  {
   "cell_type": "markdown",
   "metadata": {},
   "source": [
    "Itertools to biblioteka przygotowana w celu ułatwienia pisania programów w stylu funkcyjnym. Poniżej kilka przykładów użycia. Później wyciągniemy wnioski."
   ]
  },
  {
   "cell_type": "markdown",
   "metadata": {},
   "source": [
    "Chain:"
   ]
  },
  {
   "cell_type": "code",
   "execution_count": null,
   "metadata": {},
   "outputs": [],
   "source": [
    "nested_list = [[1, 2, 3], [4, 5], [6, 7, 8]]\n",
    "print(reduce(list.__add__, nested_list))\n",
    "print(itertools.chain(*nested_list))"
   ]
  },
  {
   "cell_type": "code",
   "execution_count": null,
   "metadata": {},
   "outputs": [],
   "source": [
    "list(itertools.chain(*nested_list))"
   ]
  },
  {
   "cell_type": "markdown",
   "metadata": {},
   "source": [
    "Składanie argumentów jako jedno z zastosowań:"
   ]
  },
  {
   "cell_type": "code",
   "execution_count": null,
   "metadata": {},
   "outputs": [],
   "source": [
    "from collections import namedtuple\n",
    "\n",
    "\n",
    "Result = namedtuple('Result', ['code', 'val', 'node'])\n",
    "\n",
    "\n",
    "def check_all(*multiple_same_args):\n",
    "    return all([it.code == 200 for it in itertools.chain(*multiple_same_args)])\n",
    "\n",
    "        \n",
    "res_host_1 = [Result(200, 1, 'host1'), Result(200, 101, 'host1')]\n",
    "res_host_2 = [Result(400, 3, 'host2')]\n",
    "print(check_all(res_host_1, res_host_2))"
   ]
  },
  {
   "cell_type": "markdown",
   "metadata": {},
   "source": [
    "Cycle:"
   ]
  },
  {
   "cell_type": "code",
   "execution_count": null,
   "metadata": {},
   "outputs": [],
   "source": [
    "for i, number in enumerate(itertools.cycle([1, 2, 3])):\n",
    "    print(number)\n",
    "    if i and i % 5 == 0:\n",
    "        break"
   ]
  },
  {
   "cell_type": "markdown",
   "metadata": {},
   "source": [
    "Po co to komu?"
   ]
  },
  {
   "cell_type": "markdown",
   "metadata": {},
   "source": [
    "Porównujemy liczby z listy do 0 (sprawdź ostatni element!):"
   ]
  },
  {
   "cell_type": "code",
   "execution_count": null,
   "metadata": {},
   "outputs": [],
   "source": [
    "from operator import gt\n",
    "\n",
    "important_values = [1, 10, -4, -3, 20, -100]\n",
    "map(gt, important_values , [0, 0, 0, 0, 0])"
   ]
  },
  {
   "cell_type": "markdown",
   "metadata": {},
   "source": [
    "Moglibyśmy zrobić tak, ale nie zrobimy:"
   ]
  },
  {
   "cell_type": "code",
   "execution_count": null,
   "metadata": {},
   "outputs": [],
   "source": [
    "# map(gt, important_values , itertools.cycle([0]))"
   ]
  },
  {
   "cell_type": "markdown",
   "metadata": {},
   "source": [
    "Lepiej tak:"
   ]
  },
  {
   "cell_type": "code",
   "execution_count": null,
   "metadata": {},
   "outputs": [],
   "source": [
    "list(itertools.imap(gt, important_values, itertools.cycle([0])))"
   ]
  },
  {
   "cell_type": "markdown",
   "metadata": {},
   "source": [
    "Map będzie dostawiał None, gdy jedna z list jest zbyt krótka.\n",
    "Dlatego nie można go uzywać z cycle. imap jest spoko. Jest iteratorem i kończy działanie razem z krótszą listą:"
   ]
  },
  {
   "cell_type": "code",
   "execution_count": null,
   "metadata": {},
   "outputs": [],
   "source": [
    "from operator import lshift\n",
    "list(itertools.imap(lshift, [1, 2, 4, 8, 16], [2, 2, 2]))"
   ]
  },
  {
   "cell_type": "markdown",
   "metadata": {},
   "source": [
    "Partials:"
   ]
  },
  {
   "cell_type": "code",
   "execution_count": null,
   "metadata": {},
   "outputs": [],
   "source": [
    "from functools import partial\n",
    "from operator import lt\n",
    "lt0 = partial(lt, 0)\n",
    "list(itertools.imap(lt0, important_values))"
   ]
  },
  {
   "cell_type": "markdown",
   "metadata": {},
   "source": [
    "Partiale wypełniają argumenty w funkcji."
   ]
  },
  {
   "cell_type": "markdown",
   "metadata": {},
   "source": [
    "Zip i izip:"
   ]
  },
  {
   "cell_type": "code",
   "execution_count": null,
   "metadata": {},
   "outputs": [],
   "source": [
    "names = [\"Maria\", \"Maria\", \"Maria\"]\n",
    "surnames = [\"Tudor\", u\"Skłodowska\", \"Rodowicz\"]\n",
    "print(zip(names, surnames))\n",
    "print(itertools.izip(names, surnames))"
   ]
  },
  {
   "cell_type": "markdown",
   "metadata": {},
   "source": [
    "## 5.4. Modularny kod"
   ]
  },
  {
   "cell_type": "markdown",
   "metadata": {},
   "source": [
    "Po co programowanie funkcyjne? Po to, żeby łatwiej pisać modularny kod. Modularny kod jest też łatwiej debugować. Przykład przetwarzania bezstanowego:"
   ]
  },
  {
   "cell_type": "code",
   "execution_count": 18,
   "metadata": {},
   "outputs": [],
   "source": [
    "description = u\"\"\"Ta sztanga jest wspaniała, mogę ją wyciskać całymi dniami.\n",
    "Super leży w dłoni, a właściciele siłowni muszą mnie wręcz prośić, żebym od niej odszedł.\n",
    "Polecam każdemu!\"\"\""
   ]
  },
  {
   "cell_type": "code",
   "execution_count": 19,
   "metadata": {},
   "outputs": [
    {
     "name": "stdout",
     "output_type": "stream",
     "text": [
      "[u'sztanga', u'jest', u'wspania\\u0142a', u'mog\\u0119', u'wyciska\\u0107', u'ca\\u0142ymi', u'dniami', u'super', u'le\\u017cy', u'd\\u0142oni', u'w\\u0142a\\u015bciciele', u'si\\u0142owni', u'musz\\u0105', u'mnie', u'wr\\u0119cz', u'pro\\u015bi\\u0107', u'\\u017cebym', u'niej', u'odszed\\u0142', u'polecam', u'ka\\u017cdemu']\n"
     ]
    }
   ],
   "source": [
    "def eol_to_space(sentence):\n",
    "    return sentence.replace(\"\\n\", \" \")\n",
    "\n",
    "\n",
    "def tokenize(sentence):\n",
    "    return sentence.split(\" \")\n",
    "\n",
    "\n",
    "def remove_punctuation(words):\n",
    "    return [w.strip(\".!,\") for w in words]\n",
    "\n",
    "\n",
    "def decapitalize(words):\n",
    "    return [w.lower() for w in words]\n",
    "\n",
    "\n",
    "def remove_short(words):\n",
    "    return [w for w in words if len(w) > 2]\n",
    "\n",
    "\n",
    "sentence = eol_to_space(description)\n",
    "words = tokenize(sentence)\n",
    "words = remove_punctuation(words)\n",
    "words = decapitalize(words)\n",
    "words = remove_short(words)\n",
    "print(words)"
   ]
  },
  {
   "cell_type": "markdown",
   "metadata": {},
   "source": [
    "W tym duchu:"
   ]
  },
  {
   "cell_type": "markdown",
   "metadata": {},
   "source": [
    "http://norvig.com/spell-correct.html"
   ]
  },
  {
   "cell_type": "markdown",
   "metadata": {},
   "source": [
    "Inny przykład:"
   ]
  },
  {
   "cell_type": "code",
   "execution_count": 25,
   "metadata": {},
   "outputs": [
    {
     "name": "stdout",
     "output_type": "stream",
     "text": [
      "['./logs/old.log', './logs/other.log', './logs/inside/inner/inner.log']\n"
     ]
    }
   ],
   "source": [
    "import os\n",
    "from itertools import chain\n",
    "\n",
    "# get all logs in dir and subdirs\n",
    "paths = [(path, files) for path, subdirs, files in os.walk('./logs')]\n",
    "names = [\"/\".join((path, fl)) for path, files in paths for fl in files]\n",
    "logs = [name for name in names if 'log' in name.split(\"/\")[-1]]\n",
    "print(logs)"
   ]
  },
  {
   "cell_type": "markdown",
   "metadata": {},
   "source": [
    "## 5.5. Podsumowanie i filozofia"
   ]
  },
  {
   "cell_type": "markdown",
   "metadata": {},
   "source": [
    "* Nie zachęca się do pisania kodu czysto funkcyjnego w pythonie\n",
    "* Bezstanowe funkcje (wyjście zależy tylko wyłącznie od wejścia do funkcji) poprawiają czytelność kodu\n",
    "* Kod w stylu funkcyjnym wymusza modularność, jest z tego powodu łatwiejszy w debugowaniu\n",
    "* Rekursja zamiast iteracji to często zły pomysł - python nie ma takiego wsparcia dla rekursji jak inne języki\n",
    "* Elementy programowania funkcyjnego istnieją w pythonie po to, żeby pisać zwięźle"
   ]
  },
  {
   "cell_type": "markdown",
   "metadata": {},
   "source": [
    "## ZADANIE"
   ]
  },
  {
   "cell_type": "code",
   "execution_count": null,
   "metadata": {},
   "outputs": [],
   "source": []
  }
 ],
 "metadata": {
  "kernelspec": {
   "display_name": "Python 2",
   "language": "python",
   "name": "python2"
  },
  "language_info": {
   "codemirror_mode": {
    "name": "ipython",
    "version": 2
   },
   "file_extension": ".py",
   "mimetype": "text/x-python",
   "name": "python",
   "nbconvert_exporter": "python",
   "pygments_lexer": "ipython2",
   "version": "2.7.15"
  }
 },
 "nbformat": 4,
 "nbformat_minor": 2
}
