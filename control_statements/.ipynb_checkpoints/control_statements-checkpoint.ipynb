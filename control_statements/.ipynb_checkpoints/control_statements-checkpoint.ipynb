{
 "cells": [
  {
   "cell_type": "markdown",
   "metadata": {},
   "source": [
    "# 1. is vs =="
   ]
  },
  {
   "cell_type": "code",
   "execution_count": 1,
   "metadata": {},
   "outputs": [
    {
     "name": "stdout",
     "output_type": "stream",
     "text": [
      "139794479818224\n",
      "139794609702240\n"
     ]
    }
   ],
   "source": [
    "a = [1, 2, 3]\n",
    "b = [1, 2, 3]\n",
    "print id(a)\n",
    "print id(b)"
   ]
  },
  {
   "cell_type": "code",
   "execution_count": 2,
   "metadata": {},
   "outputs": [
    {
     "name": "stdout",
     "output_type": "stream",
     "text": [
      "True\n"
     ]
    }
   ],
   "source": [
    "print a == b"
   ]
  },
  {
   "cell_type": "code",
   "execution_count": 3,
   "metadata": {},
   "outputs": [
    {
     "name": "stdout",
     "output_type": "stream",
     "text": [
      "False\n"
     ]
    }
   ],
   "source": [
    "print a is b"
   ]
  },
  {
   "cell_type": "code",
   "execution_count": 4,
   "metadata": {},
   "outputs": [
    {
     "name": "stdout",
     "output_type": "stream",
     "text": [
      "True\n",
      "True\n"
     ]
    }
   ],
   "source": [
    "c = a\n",
    "print id(c) == id(a)\n",
    "print c is a"
   ]
  },
  {
   "cell_type": "markdown",
   "metadata": {},
   "source": [
    "## 1.1. None, True, False"
   ]
  },
  {
   "cell_type": "code",
   "execution_count": 5,
   "metadata": {},
   "outputs": [
    {
     "name": "stdout",
     "output_type": "stream",
     "text": [
      "True\n"
     ]
    }
   ],
   "source": [
    "a = None\n",
    "b = None\n",
    "print a is b"
   ]
  },
  {
   "cell_type": "code",
   "execution_count": 7,
   "metadata": {},
   "outputs": [
    {
     "name": "stdout",
     "output_type": "stream",
     "text": [
      "139794669137344\n",
      "139794669137344\n"
     ]
    }
   ],
   "source": [
    "print id(None)\n",
    "print id(a)"
   ]
  },
  {
   "cell_type": "code",
   "execution_count": 8,
   "metadata": {},
   "outputs": [
    {
     "name": "stdout",
     "output_type": "stream",
     "text": [
      "139794669054656 139794669054656\n"
     ]
    }
   ],
   "source": [
    "a = True\n",
    "print id(a), id(True)\n"
   ]
  },
  {
   "cell_type": "code",
   "execution_count": 13,
   "metadata": {},
   "outputs": [
    {
     "name": "stdout",
     "output_type": "stream",
     "text": [
      "['__class__', '__delattr__', '__doc__', '__format__', '__getattribute__', '__hash__', '__init__', '__new__', '__reduce__', '__reduce_ex__', '__repr__', '__setattr__', '__sizeof__', '__str__', '__subclasshook__']\n",
      "<type 'NoneType'>\n",
      "<type 'bool'>\n",
      "<type 'bool'>\n"
     ]
    }
   ],
   "source": [
    "print dir(None)\n",
    "print type(None)\n",
    "print type(True)\n",
    "print type(False)"
   ]
  },
  {
   "cell_type": "markdown",
   "metadata": {},
   "source": [
    "## 1.2. Sprawdzanie wartości negatywnych"
   ]
  },
  {
   "cell_type": "markdown",
   "metadata": {},
   "source": [
    "Takie sprawdzenie nie będzie działać:"
   ]
  },
  {
   "cell_type": "code",
   "execution_count": 20,
   "metadata": {},
   "outputs": [],
   "source": [
    "a = {}\n",
    "if a is {}:\n",
    "    print \"is empty\""
   ]
  },
  {
   "cell_type": "markdown",
   "metadata": {},
   "source": [
    "A takie będzie:"
   ]
  },
  {
   "cell_type": "code",
   "execution_count": 21,
   "metadata": {},
   "outputs": [
    {
     "name": "stdout",
     "output_type": "stream",
     "text": [
      "is equal to empty\n"
     ]
    }
   ],
   "source": [
    "if a == {}:\n",
    "    print \"is equal to empty\""
   ]
  },
  {
   "cell_type": "markdown",
   "metadata": {},
   "source": [
    "Najlepiej jednak używać skróconej formy korzystającej z domyślnej konwersji do bool'a:"
   ]
  },
  {
   "cell_type": "code",
   "execution_count": null,
   "metadata": {},
   "outputs": [],
   "source": [
    "def is_empty(item):\n",
    "    if not item:\n",
    "        print \"is empty\"\n",
    "        return True\n",
    "    return False\n",
    "\n",
    "a = {}\n",
    "b = []\n",
    "print is_empty(a)\n",
    "print is_empty(b)"
   ]
  },
  {
   "cell_type": "markdown",
   "metadata": {},
   "source": [
    "To nie ma zastosowania przy argumentach domyślnych:"
   ]
  },
  {
   "cell_type": "code",
   "execution_count": 27,
   "metadata": {},
   "outputs": [
    {
     "name": "stdout",
     "output_type": "stream",
     "text": [
      "False\n",
      "Calculated count to 10\n",
      "False\n"
     ]
    }
   ],
   "source": [
    "def calc_count():\n",
    "    print \"Calculated count to 10\"\n",
    "    return 10\n",
    "\n",
    "\n",
    "def check_sth_important(count=None):\n",
    "    if count is None:\n",
    "        count = calc_count()\n",
    "    return count == 100\n",
    "\n",
    "\n",
    "def check_sth_important_sec(count=None):\n",
    "    if not count:\n",
    "        count = calc_count()\n",
    "    return count == 100\n",
    "\n",
    "\n",
    "print check_sth_important(0)\n",
    "print check_sth_important_sec(0)\n",
    "        \n",
    "    "
   ]
  },
  {
   "cell_type": "markdown",
   "metadata": {},
   "source": [
    "## 1.3. Porównywanie obiektów"
   ]
  },
  {
   "cell_type": "code",
   "execution_count": 2,
   "metadata": {},
   "outputs": [
    {
     "name": "stdout",
     "output_type": "stream",
     "text": [
      "True\n",
      "False\n",
      "False\n"
     ]
    }
   ],
   "source": [
    "a = {\"burak\": \"cukrowy\", u\"samochód\": \"terenowy\"}\n",
    "b = {u\"samochód\": \"terenowy\", \"burak\": \"cukrowy\"}\n",
    "c = {u\"samochód\": \"terenowy\", \"burak\": \"niecukrowy\"}\n",
    "d = {u\"samochód\": \"terenowy\", \"burak\": \"cukrowy\", \"spinacz\": \"biurowy\"}\n",
    "print a == b\n",
    "print a == c\n",
    "print a == d"
   ]
  },
  {
   "cell_type": "code",
   "execution_count": 3,
   "metadata": {},
   "outputs": [
    {
     "name": "stdout",
     "output_type": "stream",
     "text": [
      "['__class__', '__cmp__', '__contains__', '__delattr__', '__delitem__', '__doc__', '__eq__', '__format__', '__ge__', '__getattribute__', '__getitem__', '__gt__', '__hash__', '__init__', '__iter__', '__le__', '__len__', '__lt__', '__ne__', '__new__', '__reduce__', '__reduce_ex__', '__repr__', '__setattr__', '__setitem__', '__sizeof__', '__str__', '__subclasshook__', 'clear', 'copy', 'fromkeys', 'get', 'has_key', 'items', 'iteritems', 'iterkeys', 'itervalues', 'keys', 'pop', 'popitem', 'setdefault', 'update', 'values', 'viewitems', 'viewkeys', 'viewvalues']\n"
     ]
    }
   ],
   "source": [
    "print dir(a)"
   ]
  },
  {
   "cell_type": "code",
   "execution_count": 6,
   "metadata": {},
   "outputs": [
    {
     "name": "stdout",
     "output_type": "stream",
     "text": [
      "<method-wrapper '__eq__' of dict object at 0x7f9050236d70>\n",
      "True\n"
     ]
    }
   ],
   "source": [
    "print a.__eq__\n",
    "print a.__eq__(b)"
   ]
  },
  {
   "cell_type": "markdown",
   "metadata": {},
   "source": [
    "https://github.com/python/cpython/blob/2.7/Objects/dictobject.c#L1954"
   ]
  },
  {
   "cell_type": "code",
   "execution_count": 16,
   "metadata": {},
   "outputs": [
    {
     "name": "stdout",
     "output_type": "stream",
     "text": [
      "Updating... {'name': 'sth2'}\n"
     ]
    }
   ],
   "source": [
    "def update_resource(resource, params):\n",
    "    new = resource.copy()\n",
    "    new.update(params)\n",
    "    if resource == new:\n",
    "        return\n",
    "    print \"Updating... {}\".format(params)\n",
    "\n",
    "\n",
    "resource = {\"id\": 1, \"name\": \"sth\", \"desc\": \"Fst res\"}\n",
    "update_resource(resource, {\"name\": \"sth2\"})\n",
    "update_resource(resource, {\"name\": \"sth\"})\n"
   ]
  },
  {
   "cell_type": "markdown",
   "metadata": {},
   "source": [
    "## 1.4. Wartości boolowskie obiektów"
   ]
  },
  {
   "cell_type": "markdown",
   "metadata": {},
   "source": [
    "Każdy typ można zrzutować do bool'a:"
   ]
  },
  {
   "cell_type": "code",
   "execution_count": 35,
   "metadata": {},
   "outputs": [
    {
     "name": "stdout",
     "output_type": "stream",
     "text": [
      "False\n",
      "True\n",
      "False\n",
      "True\n",
      "False\n",
      "True\n",
      "False\n",
      "True\n",
      "True\n"
     ]
    }
   ],
   "source": [
    "print bool(0)\n",
    "print bool(1)\n",
    "\n",
    "print bool({})\n",
    "print bool({\"a\": 1})\n",
    "\n",
    "print bool([])\n",
    "print bool([1])\n",
    "\n",
    "print bool(set([]))\n",
    "print bool(set([1]))\n"
   ]
  },
  {
   "cell_type": "code",
   "execution_count": 39,
   "metadata": {},
   "outputs": [
    {
     "name": "stdout",
     "output_type": "stream",
     "text": [
      "True\n"
     ]
    }
   ],
   "source": [
    "class ParityValue(object):\n",
    "    def __init__(self, v):\n",
    "        self.value = v\n",
    "        \n",
    "print bool(ParityValue(3))"
   ]
  },
  {
   "cell_type": "code",
   "execution_count": 40,
   "metadata": {},
   "outputs": [
    {
     "name": "stdout",
     "output_type": "stream",
     "text": [
      "False\n"
     ]
    }
   ],
   "source": [
    "def pv_nonzero(self):\n",
    "    if self.value % 2 == 0:\n",
    "        return True\n",
    "    return False\n",
    "\n",
    "ParityValue.__nonzero__ = pv_nonzero\n",
    "\n",
    "print bool(ParityValue(3))"
   ]
  },
  {
   "cell_type": "markdown",
   "metadata": {},
   "source": [
    "## 1.5. Podsumowanie"
   ]
  },
  {
   "cell_type": "markdown",
   "metadata": {},
   "source": [
    "* None, True, False to singletony\n",
    "* Zalecana jest zwięzła konstrukcja \"if sth:\"\n",
    "* PEP8 wymaga żeby z None zawsze używać operatora \"is\"\n",
    "* Każdy obiekt w pythonie mapuje się na jakąś wartość boolowską\n",
    "* To, jak dany obiekt mapuje się na wartość boolowską można zmienić\n",
    "* Porównania wbudowanych typów są intuicyjne, resztę można zmienić metodą __eq__\n"
   ]
  },
  {
   "cell_type": "markdown",
   "metadata": {},
   "source": [
    "# 2. Więcej o For"
   ]
  },
  {
   "cell_type": "markdown",
   "metadata": {},
   "source": [
    "## 2.1. enumerate"
   ]
  },
  {
   "cell_type": "markdown",
   "metadata": {},
   "source": [
    "Funkcja 'enumerate' przydaje się przy iteracji:"
   ]
  },
  {
   "cell_type": "code",
   "execution_count": 17,
   "metadata": {},
   "outputs": [
    {
     "data": {
      "text/plain": [
       "[1]"
      ]
     },
     "execution_count": 17,
     "metadata": {},
     "output_type": "execute_result"
    }
   ],
   "source": [
    "from collections import namedtuple\n",
    "\n",
    "\n",
    "Book = namedtuple('Book', ['author', 'name'])\n",
    "\n",
    "confiscated_books = [\n",
    "    Book(u'Cat-Mackiewicz', u'Europa in flagranti'),\n",
    "    Book(u'Pudzian', u'Jestem silny'),\n",
    "    Book(u'Kopernik', u'O obrotach ciał niebieskich')\n",
    "]\n",
    "\n",
    "forbidden_authors = set(['Pudzian'])\n",
    "\n",
    "\n",
    "def find_forbidden(books, forbidden_authors):\n",
    "    indexes = []\n",
    "    for i, book in enumerate(books):\n",
    "        if book.author in forbidden_authors:\n",
    "            indexes.append(i)\n",
    "    return indexes\n",
    "\n",
    "find_forbidden(confiscated_books, forbidden_authors)"
   ]
  },
  {
   "cell_type": "code",
   "execution_count": 19,
   "metadata": {},
   "outputs": [
    {
     "data": {
      "text/plain": [
       "[1]"
      ]
     },
     "execution_count": 19,
     "metadata": {},
     "output_type": "execute_result"
    }
   ],
   "source": [
    "[i for i, b in enumerate(confiscated_books) if b.author in forbidden_authors]"
   ]
  },
  {
   "cell_type": "markdown",
   "metadata": {},
   "source": [
    "## 2.2. for...else"
   ]
  },
  {
   "cell_type": "code",
   "execution_count": 30,
   "metadata": {},
   "outputs": [
    {
     "name": "stdout",
     "output_type": "stream",
     "text": [
      "All are ok!\n"
     ]
    }
   ],
   "source": [
    "for i in [2, 4, 6]:\n",
    "    if i % 2 != 0:\n",
    "        break\n",
    "else:\n",
    "    print \"All are ok!\""
   ]
  },
  {
   "cell_type": "markdown",
   "metadata": {},
   "source": [
    "Przydatne przy problemach typu 'all or nothing':"
   ]
  },
  {
   "cell_type": "code",
   "execution_count": 25,
   "metadata": {},
   "outputs": [
    {
     "name": "stdout",
     "output_type": "stream",
     "text": [
      "Failure on chunk: 1\n"
     ]
    }
   ],
   "source": [
    "Chunk = namedtuple('Chunk', ['body', 'parity'])\n",
    "\n",
    "chunks = [\n",
    "    Chunk('Something is no yes', 1),\n",
    "    Chunk(' but I will survivex', 1),\n",
    "    Chunk(' I will do it.', 0)\n",
    "]\n",
    "\n",
    "\n",
    "def is_chunk_correct(chunk):\n",
    "    return (len(chunk.body) + chunk.parity) % 2 == 0\n",
    "\n",
    "\n",
    "def recreate_messege(chunks):\n",
    "    return \"\".join([ch.body for ch in chunks])\n",
    "\n",
    "\n",
    "def notify_failure(index):\n",
    "    print(\"Failure on chunk: {0}\".format(index))\n",
    "\n",
    "\n",
    "def from_chunks(chunks):\n",
    "    for i, chunk in enumerate(chunks):\n",
    "        if not is_chunk_correct(chunk):\n",
    "            break\n",
    "    else:\n",
    "        return recreate_messege(chunks)\n",
    "    notify_failure(i)\n",
    "\n",
    "\n",
    "from_chunks(chunks)\n"
   ]
  },
  {
   "cell_type": "markdown",
   "metadata": {},
   "source": [
    "## 2.3. Wyrażenia listowe vs zwykły for"
   ]
  },
  {
   "cell_type": "markdown",
   "metadata": {},
   "source": [
    "Wyrażenia listowe:\n",
    "* \"bezstanowa\" transformacja danych "
   ]
  },
  {
   "cell_type": "code",
   "execution_count": 31,
   "metadata": {},
   "outputs": [
    {
     "data": {
      "text/plain": [
       "[0, 4, 16, 36]"
      ]
     },
     "execution_count": 31,
     "metadata": {},
     "output_type": "execute_result"
    }
   ],
   "source": [
    "[item**2 for item in xrange(8) if item % 2 == 0]"
   ]
  },
  {
   "cell_type": "markdown",
   "metadata": {},
   "source": [
    "Zwykły for:\n",
    "* kiedy wykonanie następnego obrotu pętli zależy od poprzedniego - \"stanowa\" pętla\n",
    "* kiedy operacji w jednym obrocie pętli jest dużo (wyrażenie listowe staje się wtedy nieczytelne)"
   ]
  },
  {
   "cell_type": "code",
   "execution_count": 38,
   "metadata": {},
   "outputs": [
    {
     "name": "stdout",
     "output_type": "stream",
     "text": [
      "8\n"
     ]
    }
   ],
   "source": [
    "a, b = 1, 1\n",
    "n = 6\n",
    "for i in xrange(2, n):\n",
    "    a, b = a + b, a\n",
    "print a"
   ]
  }
 ],
 "metadata": {
  "kernelspec": {
   "display_name": "Python 2",
   "language": "python",
   "name": "python2"
  },
  "language_info": {
   "codemirror_mode": {
    "name": "ipython",
    "version": 2
   },
   "file_extension": ".py",
   "mimetype": "text/x-python",
   "name": "python",
   "nbconvert_exporter": "python",
   "pygments_lexer": "ipython2",
   "version": "2.7.15"
  }
 },
 "nbformat": 4,
 "nbformat_minor": 2
}
