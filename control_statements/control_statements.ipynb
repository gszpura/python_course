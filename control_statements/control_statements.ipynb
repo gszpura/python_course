{
 "cells": [
  {
   "cell_type": "markdown",
   "metadata": {},
   "source": [
    "# 1. is vs =="
   ]
  },
  {
   "cell_type": "code",
   "execution_count": null,
   "metadata": {},
   "outputs": [],
   "source": [
    "a = [1, 2, 3]\n",
    "b = [1, 2, 3]\n",
    "print id(a)\n",
    "print id(b)"
   ]
  },
  {
   "cell_type": "code",
   "execution_count": null,
   "metadata": {},
   "outputs": [],
   "source": [
    "print a == b"
   ]
  },
  {
   "cell_type": "code",
   "execution_count": null,
   "metadata": {},
   "outputs": [],
   "source": [
    "print a is b"
   ]
  },
  {
   "cell_type": "code",
   "execution_count": null,
   "metadata": {},
   "outputs": [],
   "source": [
    "c = a\n",
    "print id(c) == id(a)\n",
    "print c is a"
   ]
  },
  {
   "cell_type": "markdown",
   "metadata": {},
   "source": [
    "## 1.1. None, True, False"
   ]
  },
  {
   "cell_type": "code",
   "execution_count": null,
   "metadata": {},
   "outputs": [],
   "source": [
    "a = None\n",
    "b = None\n",
    "print a is b"
   ]
  },
  {
   "cell_type": "code",
   "execution_count": null,
   "metadata": {},
   "outputs": [],
   "source": [
    "print id(None)\n",
    "print id(a)"
   ]
  },
  {
   "cell_type": "code",
   "execution_count": null,
   "metadata": {},
   "outputs": [],
   "source": [
    "a = True\n",
    "print id(a), id(True)\n"
   ]
  },
  {
   "cell_type": "code",
   "execution_count": null,
   "metadata": {},
   "outputs": [],
   "source": [
    "print dir(None)\n",
    "print type(None)\n",
    "print type(True)\n",
    "print type(False)"
   ]
  },
  {
   "cell_type": "markdown",
   "metadata": {},
   "source": [
    "## 1.2. Sprawdzanie wartości negatywnych"
   ]
  },
  {
   "cell_type": "markdown",
   "metadata": {},
   "source": [
    "Takie sprawdzenie nie będzie działać:"
   ]
  },
  {
   "cell_type": "code",
   "execution_count": null,
   "metadata": {},
   "outputs": [],
   "source": [
    "a = {}\n",
    "if a is {}:\n",
    "    print \"is empty\""
   ]
  },
  {
   "cell_type": "markdown",
   "metadata": {},
   "source": [
    "A takie będzie:"
   ]
  },
  {
   "cell_type": "code",
   "execution_count": null,
   "metadata": {},
   "outputs": [],
   "source": [
    "if a == {}:\n",
    "    print \"is equal to empty\""
   ]
  },
  {
   "cell_type": "markdown",
   "metadata": {},
   "source": [
    "Najlepiej jednak używać skróconej formy korzystającej z domyślnej konwersji do bool'a:"
   ]
  },
  {
   "cell_type": "code",
   "execution_count": null,
   "metadata": {},
   "outputs": [],
   "source": [
    "def is_empty(item):\n",
    "    if not item:\n",
    "        print \"is empty\"\n",
    "        return True\n",
    "    return False\n",
    "\n",
    "a = {}\n",
    "b = []\n",
    "print is_empty(a)\n",
    "print is_empty(b)"
   ]
  },
  {
   "cell_type": "markdown",
   "metadata": {},
   "source": [
    "To nie ma zastosowania przy argumentach domyślnych:"
   ]
  },
  {
   "cell_type": "code",
   "execution_count": null,
   "metadata": {},
   "outputs": [],
   "source": [
    "def calc_count():\n",
    "    print \"Calculated count to 10\"\n",
    "    return 10\n",
    "\n",
    "\n",
    "def check_sth_important(count=None):\n",
    "    if count is None:\n",
    "        count = calc_count()\n",
    "    return count == 100\n",
    "\n",
    "\n",
    "def check_sth_important_sec(count=None):\n",
    "    if not count:\n",
    "        count = calc_count()\n",
    "    return count == 100\n",
    "\n",
    "\n",
    "print check_sth_important(0)\n",
    "print check_sth_important_sec(0)\n",
    "        \n",
    "    "
   ]
  },
  {
   "cell_type": "markdown",
   "metadata": {},
   "source": [
    "## 1.3. Porównywanie obiektów"
   ]
  },
  {
   "cell_type": "markdown",
   "metadata": {},
   "source": [
    "Sprawdźmy mechanizm porównywania dla słownika:"
   ]
  },
  {
   "cell_type": "code",
   "execution_count": null,
   "metadata": {},
   "outputs": [],
   "source": [
    "a = {\"burak\": \"cukrowy\", u\"samochód\": \"terenowy\"}\n",
    "b = {u\"samochód\": \"terenowy\", \"burak\": \"cukrowy\"}\n",
    "c = {u\"samochód\": \"terenowy\", \"burak\": \"niecukrowy\"}\n",
    "d = {u\"samochód\": \"terenowy\", \"burak\": \"cukrowy\", \"spinacz\": \"biurowy\"}\n",
    "print a == b\n",
    "print a == c\n",
    "print a == d"
   ]
  },
  {
   "cell_type": "code",
   "execution_count": null,
   "metadata": {},
   "outputs": [],
   "source": [
    "print dir(a)"
   ]
  },
  {
   "cell_type": "code",
   "execution_count": null,
   "metadata": {},
   "outputs": [],
   "source": [
    "print a.__eq__\n",
    "print a.__eq__(b)"
   ]
  },
  {
   "cell_type": "markdown",
   "metadata": {},
   "source": [
    "https://github.com/python/cpython/blob/2.7/Objects/dictobject.c#L1954"
   ]
  },
  {
   "cell_type": "markdown",
   "metadata": {},
   "source": [
    "Przykład z życia wzięty (czy musimy nadpisywać?):"
   ]
  },
  {
   "cell_type": "code",
   "execution_count": null,
   "metadata": {},
   "outputs": [],
   "source": [
    "def update_resource(resource, params):\n",
    "    new = resource.copy()\n",
    "    new.update(params)\n",
    "    if resource == new:\n",
    "        return\n",
    "    print \"Updating... {}\".format(params)\n",
    "\n",
    "\n",
    "resource = {\"id\": 1, \"name\": \"sth\", \"desc\": \"Fst res\"}\n",
    "update_resource(resource, {\"name\": \"sth2\"})\n",
    "update_resource(resource, {\"name\": \"sth\"})\n"
   ]
  },
  {
   "cell_type": "markdown",
   "metadata": {},
   "source": [
    "Inne wbudowane typy także mają zaimplementowane intuicyjne mechanizmy porównywania."
   ]
  },
  {
   "cell_type": "markdown",
   "metadata": {},
   "source": [
    "## 1.4. Wartości boolowskie obiektów"
   ]
  },
  {
   "cell_type": "markdown",
   "metadata": {},
   "source": [
    "Każdy typ można zrzutować do bool'a:"
   ]
  },
  {
   "cell_type": "code",
   "execution_count": null,
   "metadata": {},
   "outputs": [],
   "source": [
    "print bool(0)\n",
    "print bool(1)\n",
    "\n",
    "print bool({})\n",
    "print bool({\"a\": 1})\n",
    "\n",
    "print bool([])\n",
    "print bool([1])\n",
    "\n",
    "print bool(set([]))\n",
    "print bool(set([1]))\n"
   ]
  },
  {
   "cell_type": "code",
   "execution_count": null,
   "metadata": {},
   "outputs": [],
   "source": [
    "class ParityValue(object):\n",
    "    def __init__(self, v):\n",
    "        self.value = v\n",
    "        \n",
    "print bool(ParityValue(3))"
   ]
  },
  {
   "cell_type": "code",
   "execution_count": null,
   "metadata": {},
   "outputs": [],
   "source": [
    "def pv_nonzero(self):\n",
    "    if self.value % 2 == 0:\n",
    "        return True\n",
    "    return False\n",
    "\n",
    "ParityValue.__nonzero__ = pv_nonzero\n",
    "\n",
    "print bool(ParityValue(3))"
   ]
  },
  {
   "cell_type": "markdown",
   "metadata": {},
   "source": [
    "## 1.5. Podsumowanie"
   ]
  },
  {
   "cell_type": "markdown",
   "metadata": {},
   "source": [
    "* None, True, False to singletony\n",
    "* Zalecana jest zwięzła konstrukcja \"if sth:\"\n",
    "* PEP8 wymaga żeby z None zawsze używać operatora \"is\"\n",
    "* Każdy obiekt w pythonie mapuje się na jakąś wartość boolowską\n",
    "* To, jak dany obiekt mapuje się na wartość boolowską można zmienić\n",
    "* Porównania wbudowanych typów są intuicyjne, resztę można zmienić metodą __eq__\n"
   ]
  },
  {
   "cell_type": "markdown",
   "metadata": {},
   "source": [
    "# 2. Więcej o For"
   ]
  },
  {
   "cell_type": "markdown",
   "metadata": {},
   "source": [
    "## 2.1. enumerate"
   ]
  },
  {
   "cell_type": "markdown",
   "metadata": {},
   "source": [
    "Funkcja 'enumerate' przydaje się przy iteracji:"
   ]
  },
  {
   "cell_type": "code",
   "execution_count": null,
   "metadata": {},
   "outputs": [],
   "source": [
    "from collections import namedtuple\n",
    "\n",
    "\n",
    "Book = namedtuple('Book', ['author', 'name'])\n",
    "\n",
    "confiscated_books = [\n",
    "    Book(u'Cat-Mackiewicz', u'Europa in flagranti'),\n",
    "    Book(u'Pudzian', u'Jestem silny'),\n",
    "    Book(u'Kopernik', u'O obrotach ciał niebieskich')\n",
    "]\n",
    "\n",
    "forbidden_authors = set(['Pudzian'])\n",
    "\n",
    "\n",
    "def find_forbidden(books, forbidden_authors):\n",
    "    indexes = []\n",
    "    for i, book in enumerate(books):\n",
    "        if book.author in forbidden_authors:\n",
    "            indexes.append(i)\n",
    "    return indexes\n",
    "\n",
    "find_forbidden(confiscated_books, forbidden_authors)"
   ]
  },
  {
   "cell_type": "code",
   "execution_count": null,
   "metadata": {},
   "outputs": [],
   "source": [
    "[i for i, b in enumerate(confiscated_books) if b.author in forbidden_authors]"
   ]
  },
  {
   "cell_type": "markdown",
   "metadata": {},
   "source": [
    "## 2.2. for...else"
   ]
  },
  {
   "cell_type": "code",
   "execution_count": null,
   "metadata": {},
   "outputs": [],
   "source": [
    "for i in [2, 4, 6]:\n",
    "    if i % 2 != 0:\n",
    "        break\n",
    "else:\n",
    "    print \"All are ok!\""
   ]
  },
  {
   "cell_type": "markdown",
   "metadata": {},
   "source": [
    "Przydatne przy problemach typu 'all or nothing':"
   ]
  },
  {
   "cell_type": "code",
   "execution_count": null,
   "metadata": {},
   "outputs": [],
   "source": [
    "Chunk = namedtuple('Chunk', ['body', 'parity'])\n",
    "\n",
    "chunks = [\n",
    "    Chunk('Something is no yes', 1),\n",
    "    Chunk(' but I will survivex', 1),\n",
    "    Chunk(' I will do it.', 0)\n",
    "]\n",
    "\n",
    "\n",
    "def is_chunk_correct(chunk):\n",
    "    return (len(chunk.body) + chunk.parity) % 2 == 0\n",
    "\n",
    "\n",
    "def recreate_messege(chunks):\n",
    "    return \"\".join([ch.body for ch in chunks])\n",
    "\n",
    "\n",
    "def notify_failure(index):\n",
    "    print(\"Failure on chunk: {0}\".format(index))\n",
    "\n",
    "\n",
    "def from_chunks(chunks):\n",
    "    for i, chunk in enumerate(chunks):\n",
    "        if not is_chunk_correct(chunk):\n",
    "            break\n",
    "    else:\n",
    "        return recreate_messege(chunks)\n",
    "    notify_failure(i)\n",
    "\n",
    "\n",
    "from_chunks(chunks)\n"
   ]
  },
  {
   "cell_type": "markdown",
   "metadata": {},
   "source": [
    "## 2.3. Wyrażenia listowe vs zwykły for"
   ]
  },
  {
   "cell_type": "markdown",
   "metadata": {},
   "source": [
    "Przypomnienie:"
   ]
  },
  {
   "cell_type": "code",
   "execution_count": null,
   "metadata": {},
   "outputs": [],
   "source": [
    "nums = [2, 3, 4, 5]\n",
    "\n",
    "nums_sq = [n**2 for n in nums]\n",
    "print(nums_sq)\n",
    "\n",
    "print(id(nums) == id(nums_sq))"
   ]
  },
  {
   "cell_type": "markdown",
   "metadata": {},
   "source": [
    "Zagnieżdżone wyrażenia listowe:"
   ]
  },
  {
   "cell_type": "code",
   "execution_count": null,
   "metadata": {},
   "outputs": [],
   "source": [
    "deeper = [[1, 2, 3], [4, 5, 6], [7, 8, 9]]\n",
    "[i for inner in deeper for i in inner]"
   ]
  },
  {
   "cell_type": "markdown",
   "metadata": {},
   "source": [
    "Wyrażenia listowe:\n",
    "* \"bezstanowa\" transformacja danych "
   ]
  },
  {
   "cell_type": "code",
   "execution_count": null,
   "metadata": {},
   "outputs": [],
   "source": [
    "words = [\"kajak\", \"oko\", \"maroko\", \"wikary\"]\n",
    "[w for w in words if w == w[::-1]]"
   ]
  },
  {
   "cell_type": "markdown",
   "metadata": {},
   "source": [
    "Zwykły for:\n",
    "* kiedy wykonanie następnego obrotu pętli zależy od poprzedniego - \"stanowa\" pętla\n",
    "* kiedy operacji w jednym obrocie pętli jest dużo (wyrażenie listowe staje się wtedy nieczytelne)"
   ]
  },
  {
   "cell_type": "code",
   "execution_count": null,
   "metadata": {},
   "outputs": [],
   "source": [
    "a, b = 1, 1\n",
    "n = 6\n",
    "for i in xrange(2, n):\n",
    "    a, b = a + b, a\n",
    "print(a)"
   ]
  },
  {
   "cell_type": "markdown",
   "metadata": {},
   "source": [
    "## ZADANIE 1"
   ]
  },
  {
   "cell_type": "markdown",
   "metadata": {},
   "source": [
    "Przefiltruj poniższą listę używając wyrażeń listowych i znajdując tylko obiekty w stanie 'OK':"
   ]
  },
  {
   "cell_type": "code",
   "execution_count": null,
   "metadata": {},
   "outputs": [],
   "source": [
    "items = [\n",
    "    [{\"name\": \"chair\", \"state\": \"OK\"}, {\"name\": \"table\", \"state\": \"BAD\"}],\n",
    "    [{\"name\": \"TV\", \"state\": \"BAD\"}, {\"name\": \"sofa\", \"state\": \"BAD\"}],\n",
    "    [{\"name\": \"bed\", \"state\": \"OK\"}, {\"name\": \"desk\", \"state\": \"BAD\"}]\n",
    "]"
   ]
  },
  {
   "cell_type": "markdown",
   "metadata": {},
   "source": [
    "## ZADANIE 2"
   ]
  },
  {
   "cell_type": "markdown",
   "metadata": {},
   "source": [
    "Ulepsz poniższy kod, wykorzystując prezentowane w tym rozdziale konstrukcje:"
   ]
  },
  {
   "cell_type": "code",
   "execution_count": null,
   "metadata": {},
   "outputs": [],
   "source": [
    "from PIL import Image\n",
    "\n",
    "X_POINTS = 1000\n",
    "Y_POINTS = 1000\n",
    "\n",
    "\n",
    "def mandelbrot(z, maxiter):\n",
    "    \"\"\"\n",
    "    Calculate single point.\n",
    "    \"\"\"\n",
    "    c = z\n",
    "    for n in xrange(maxiter):\n",
    "        if abs(z) > 2:\n",
    "            return n\n",
    "        z = z * z + c\n",
    "    return maxiter\n",
    "\n",
    "\n",
    "def mandelbrot_set(x_min, x_step, x_cnt, y_min, y_step, y_cnt):\n",
    "    \"\"\"\n",
    "    Calculate X_POINTS*Y_POINTS points on complex plane to see\n",
    "    which ones belong to Mandelbrot set.\n",
    "    x_min: starting point on X axis\n",
    "    x_step: distance between two consecutive poinst on X axis\n",
    "    x_cnt: number of poinst function calculates on single line\n",
    "    \"\"\"\n",
    "    x_points = []\n",
    "    for i in xrange(x_cnt):\n",
    "        n_point = x_min + x_step * i\n",
    "        x_points.append(n_point)\n",
    "        \n",
    "    y_points = []\n",
    "    for i in xrange(y_cnt):\n",
    "        n_point = y_min + y_step * i\n",
    "        y_points.append(n_point)\n",
    "    \n",
    "    m_set = []\n",
    "    for real in x_points:\n",
    "        for img in y_points:\n",
    "            point = mandelbrot(complex(real, img), 256)\n",
    "            m_set.append(point)\n",
    "    \n",
    "    return m_set\n",
    "\n",
    "\n",
    "def to_rgb(m_set):\n",
    "    rgb = []\n",
    "    for i in m_set:\n",
    "        rgb.append((i, 0, 0))\n",
    "    return rgb\n",
    "\n",
    "\n",
    "def run():\n",
    "    outcome = mandelbrot_set(-2.0, 0.005, X_POINTS, -2.0, 0.005, Y_POINTS)\n",
    "    outcome = to_rgb(outcome)\n",
    "    im = Image.new('RGB', (X_POINTS, Y_POINTS))\n",
    "    im.putdata(outcome)\n",
    "    im.save(\"mandelbrot.png\", \"PNG\")\n",
    "\n",
    "\n",
    "run()"
   ]
  },
  {
   "cell_type": "code",
   "execution_count": null,
   "metadata": {},
   "outputs": [],
   "source": [
    "import random\n",
    "from IPython.display import HTML, display\n",
    "\n",
    "display(HTML(('<img src=\"mandelbrot.png?{}\" ' +\n",
    "             'alt=\"Mandelbrot\" ' +\n",
    "             'height=\"100\">').format(random.randint(0,2e9))))"
   ]
  },
  {
   "cell_type": "code",
   "execution_count": null,
   "metadata": {},
   "outputs": [],
   "source": []
  }
 ],
 "metadata": {
  "kernelspec": {
   "display_name": "Python 2",
   "language": "python",
   "name": "python2"
  },
  "language_info": {
   "codemirror_mode": {
    "name": "ipython",
    "version": 2
   },
   "file_extension": ".py",
   "mimetype": "text/x-python",
   "name": "python",
   "nbconvert_exporter": "python",
   "pygments_lexer": "ipython2",
   "version": "2.7.15"
  }
 },
 "nbformat": 4,
 "nbformat_minor": 2
}
