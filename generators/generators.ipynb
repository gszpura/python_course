{
 "cells": [
  {
   "cell_type": "markdown",
   "metadata": {},
   "source": [
    "# 4. Generatory"
   ]
  },
  {
   "cell_type": "markdown",
   "metadata": {},
   "source": [
    "to \"funkcje\", które przechowują swój stan pomiędzy wywołaniami. Generatory możemy wywoływać tylko przy pomocy metody \"next\"."
   ]
  },
  {
   "cell_type": "code",
   "execution_count": 9,
   "metadata": {},
   "outputs": [
    {
     "name": "stdout",
     "output_type": "stream",
     "text": [
      "1\n",
      "2\n"
     ]
    }
   ],
   "source": [
    "# generation function\n",
    "def simple_gen():\n",
    "    a = 1\n",
    "    yield a\n",
    "    a += 1\n",
    "    yield a\n",
    "    \n",
    "# generator\n",
    "gen = simple_gen()\n",
    "\n",
    "# first call\n",
    "print next(gen)\n",
    "# second call\n",
    "print next(gen)"
   ]
  },
  {
   "cell_type": "code",
   "execution_count": 4,
   "metadata": {},
   "outputs": [
    {
     "name": "stdout",
     "output_type": "stream",
     "text": [
      "<type 'function'>\n",
      "<type 'generator'>\n"
     ]
    }
   ],
   "source": [
    "print type(simple_gen)\n",
    "print type(gen)"
   ]
  },
  {
   "cell_type": "markdown",
   "metadata": {},
   "source": [
    "Generatory to funkcje, które są jednocześnie iteratorami i spełniają tzw. iterator protocol.\n",
    "\n",
    "1. zwracają siebie w przypadku przekazania ich do funkcji \"iter\"\n",
    "2. można na nich wywołać funkcję next\n",
    "3. wywołują wyjątek StopIteration, gdy kończą swoje działanie"
   ]
  },
  {
   "cell_type": "code",
   "execution_count": 15,
   "metadata": {},
   "outputs": [
    {
     "name": "stdout",
     "output_type": "stream",
     "text": [
      "True\n"
     ]
    },
    {
     "ename": "StopIteration",
     "evalue": "",
     "output_type": "error",
     "traceback": [
      "\u001b[0;31m---------------------------------------------------------------------------\u001b[0m",
      "\u001b[0;31mStopIteration\u001b[0m                             Traceback (most recent call last)",
      "\u001b[0;32m<ipython-input-15-2e343bf64bf9>\u001b[0m in \u001b[0;36m<module>\u001b[0;34m()\u001b[0m\n\u001b[1;32m      1\u001b[0m \u001b[0;32mprint\u001b[0m \u001b[0mgen\u001b[0m \u001b[0;34m==\u001b[0m \u001b[0miter\u001b[0m\u001b[0;34m(\u001b[0m\u001b[0mgen\u001b[0m\u001b[0;34m)\u001b[0m\u001b[0;34m\u001b[0m\u001b[0m\n\u001b[0;32m----> 2\u001b[0;31m \u001b[0mnext\u001b[0m\u001b[0;34m(\u001b[0m\u001b[0mgen\u001b[0m\u001b[0;34m)\u001b[0m\u001b[0;34m\u001b[0m\u001b[0m\n\u001b[0m",
      "\u001b[0;31mStopIteration\u001b[0m: "
     ]
    }
   ],
   "source": [
    "print gen == iter(gen)\n",
    "next(gen)"
   ]
  },
  {
   "cell_type": "markdown",
   "metadata": {},
   "source": [
    "Inny sposób sposób tworzenia iteratora (ale nie generatora):"
   ]
  },
  {
   "cell_type": "code",
   "execution_count": 19,
   "metadata": {},
   "outputs": [
    {
     "name": "stdout",
     "output_type": "stream",
     "text": [
      "4\n",
      "16\n",
      "256\n",
      "65536\n"
     ]
    }
   ],
   "source": [
    "class myiter(object):\n",
    "    def __init__(self, v):\n",
    "        self.v = v\n",
    "    def __iter__(self):\n",
    "        return self\n",
    "    def next(self):\n",
    "        self.v = self.v**2\n",
    "        if self.v > 1000000000:\n",
    "            raise StopIteration()\n",
    "        return self.v\n",
    "    \n",
    "for i in myiter(2):\n",
    "    print i"
   ]
  },
  {
   "cell_type": "markdown",
   "metadata": {},
   "source": [
    "Generatory używa się ich wraz z pętlami for (tak samo jak zwykłe iteratory):"
   ]
  },
  {
   "cell_type": "code",
   "execution_count": 17,
   "metadata": {},
   "outputs": [
    {
     "name": "stdout",
     "output_type": "stream",
     "text": [
      "1\n",
      "8\n",
      "27\n",
      "64\n",
      "125\n"
     ]
    }
   ],
   "source": [
    "def next_cubes(n):\n",
    "    i = 1\n",
    "    while i <= n:\n",
    "        yield i**3\n",
    "        i += 1\n",
    "\n",
    "for i in next_cubes(5):\n",
    "    print i"
   ]
  },
  {
   "cell_type": "markdown",
   "metadata": {},
   "source": [
    "Po co?"
   ]
  },
  {
   "cell_type": "code",
   "execution_count": 18,
   "metadata": {},
   "outputs": [
    {
     "name": "stdout",
     "output_type": "stream",
     "text": [
      "40\n",
      "872\n"
     ]
    }
   ],
   "source": [
    "import sys\n",
    "print sys.getsizeof(xrange(100))\n",
    "print sys.getsizeof(range(100))"
   ]
  },
  {
   "cell_type": "code",
   "execution_count": 23,
   "metadata": {},
   "outputs": [],
   "source": [
    "def next_cubes2(n):\n",
    "    for i in range(1, n):\n",
    "        yield i**3"
   ]
  },
  {
   "cell_type": "markdown",
   "metadata": {},
   "source": [
    "python gen_while_check.py\n",
    "\n",
    "11.5625\n",
    "\n",
    "python gen_range_check.py\n",
    "\n",
    "42.54296875"
   ]
  },
  {
   "cell_type": "markdown",
   "metadata": {},
   "source": [
    "## 4.1. Wyrażenia generatorowe"
   ]
  },
  {
   "cell_type": "code",
   "execution_count": 23,
   "metadata": {},
   "outputs": [
    {
     "name": "stdout",
     "output_type": "stream",
     "text": [
      "<generator object <genexpr> at 0x7fa4e57132d0>\n"
     ]
    }
   ],
   "source": [
    "results = (a**2 for a in xrange(100))\n",
    "print results"
   ]
  },
  {
   "cell_type": "markdown",
   "metadata": {},
   "source": [
    "## 4.2. Użycie"
   ]
  },
  {
   "cell_type": "markdown",
   "metadata": {},
   "source": [
    "Nieskończone sekwencje i sekwencje o nieznanej długości."
   ]
  },
  {
   "cell_type": "code",
   "execution_count": 28,
   "metadata": {},
   "outputs": [
    {
     "name": "stdout",
     "output_type": "stream",
     "text": [
      "1\n",
      "1\n",
      "2\n",
      "3\n"
     ]
    }
   ],
   "source": [
    "def fib():\n",
    "    a, b = 1, 1\n",
    "    yield b\n",
    "    yield a\n",
    "    while True:\n",
    "        a, b = a + b, a\n",
    "        yield a\n",
    "\n",
    "for i in fib():\n",
    "    if i >= 5:\n",
    "        break\n",
    "    print i"
   ]
  },
  {
   "cell_type": "code",
   "execution_count": 33,
   "metadata": {},
   "outputs": [
    {
     "name": "stdout",
     "output_type": "stream",
     "text": [
      "<generator object walk at 0x7fb5800f18c0>\n"
     ]
    }
   ],
   "source": [
    "def dictwalk(items):\n",
    "    stack = [items]\n",
    "    while stack:\n",
    "        it = stack.pop()\n",
    "        for key in it:\n",
    "            if type(it[key]) is dict:\n",
    "                stack.append(it[key])\n",
    "            else:\n",
    "                yield key, it[key]\n",
    "                \n",
    "                \n",
    "dct = {\"a\": 1, \"b\": {\"1a\": 11, \"1b\": 15, \"1c\": {\"11a\": 102}},\n",
    "       \"c\": 4, \"d\": {\"2a\": 12, \"2b\": {\"22a\": 150}}}\n",
    "for k, v in dictwalk(dct):\n",
    "    print k, v\n",
    "    "
   ]
  },
  {
   "cell_type": "markdown",
   "metadata": {},
   "source": [
    "Operacje na plikach i katalogach."
   ]
  },
  {
   "cell_type": "code",
   "execution_count": 20,
   "metadata": {},
   "outputs": [
    {
     "name": "stdout",
     "output_type": "stream",
     "text": [
      "<generator object walk at 0x7fa4dc200d70>\n"
     ]
    }
   ],
   "source": [
    "import os\n",
    "print os.walk('.')"
   ]
  },
  {
   "cell_type": "code",
   "execution_count": 27,
   "metadata": {},
   "outputs": [
    {
     "name": "stdout",
     "output_type": "stream",
     "text": [
      "1\n"
     ]
    }
   ],
   "source": [
    "with open('./long_log') as log:\n",
    "    result = (int('error' in line) for line in log)\n",
    "    print sum(result)"
   ]
  },
  {
   "cell_type": "markdown",
   "metadata": {},
   "source": [
    "Cooperative multitasking. Corutines."
   ]
  },
  {
   "cell_type": "code",
   "execution_count": 17,
   "metadata": {},
   "outputs": [
    {
     "name": "stdout",
     "output_type": "stream",
     "text": [
      "Switched from: thr\n",
      "Switched from: sec\n",
      "Switched from: fst\n",
      "Switched from: sec\n",
      "Switched from: fst\n",
      "Switched from: sec\n",
      "Switched from: fst\n",
      "Switched from: sec\n",
      "Switched from: fst\n",
      "Switched from: sec\n",
      "[<Result: 10201>, <Result: 1024>, <Result: 1771561>]\n"
     ]
    }
   ],
   "source": [
    "import time\n",
    "from collections import deque\n",
    "\n",
    "\n",
    "class Result(object):\n",
    "    def __init__(self, v):\n",
    "        self.v = v\n",
    "    def __repr__(self):\n",
    "        return \"<Result: {}>\".format(self.v)\n",
    "\n",
    "        \n",
    "def scheduler(jobs):\n",
    "    results = []\n",
    "    not_finished = deque(jobs)\n",
    "    while not_finished:\n",
    "        try:\n",
    "            job = not_finished.pop()\n",
    "            result, name = next(job)\n",
    "            if result:\n",
    "                results.append(result)\n",
    "            else:\n",
    "                print \"Switched from: {}\".format(name)\n",
    "                not_finished.appendleft(job)\n",
    "        except StopIteration:\n",
    "            pass\n",
    "    return results\n",
    "\n",
    "\n",
    "def job(name, n, a=3):\n",
    "    val = 1\n",
    "    for i in xrange(n-1):\n",
    "        val += a * val  + 1\n",
    "        time.sleep(0.3)\n",
    "        yield None, name\n",
    "    yield Result(a * val + 1), name\n",
    "\n",
    "        \n",
    "print scheduler([job(\"fst\", 5), job(\"sec\", 6, 10), job(\"thr\", 2, 100)])\n"
   ]
  },
  {
   "cell_type": "markdown",
   "metadata": {},
   "source": [
    "## Zadanie"
   ]
  },
  {
   "cell_type": "markdown",
   "metadata": {},
   "source": [
    "Napisz generator, który zwróci wszystkie numery linii z pliku, w których (liniach) występuje słowo 'codilime'."
   ]
  },
  {
   "cell_type": "code",
   "execution_count": 31,
   "metadata": {},
   "outputs": [],
   "source": [
    "def get(word='codilime'):\n",
    "    with open('./long_log'):\n",
    "        pass"
   ]
  },
  {
   "cell_type": "markdown",
   "metadata": {},
   "source": [
    "## 4.3. Podsumowanie"
   ]
  },
  {
   "cell_type": "markdown",
   "metadata": {},
   "source": [
    "* Generatory zachowują stan pomiędzy kolejnymi wywołaniami\n",
    "* Generatory to iteratory\n",
    "* Ich użycie wiąże się z mniejszym wykorzystaniem dostępnej pamięci\n",
    "* Mają wiele zastosowań: przeszukiwanie, nieskończone sekwencje, pipeline'y, lekkie wątki"
   ]
  },
  {
   "cell_type": "markdown",
   "metadata": {},
   "source": [
    "## 4.4. Czego nie było"
   ]
  },
  {
   "cell_type": "markdown",
   "metadata": {},
   "source": [
    "* metody send\n",
    "* bardziej rozbudowanych przykładów współbieżności z użyciem generatorów"
   ]
  },
  {
   "cell_type": "markdown",
   "metadata": {},
   "source": [
    "http://www.dabeaz.com/coroutines/"
   ]
  },
  {
   "cell_type": "code",
   "execution_count": null,
   "metadata": {},
   "outputs": [],
   "source": []
  }
 ],
 "metadata": {
  "kernelspec": {
   "display_name": "Python 2",
   "language": "python",
   "name": "python2"
  },
  "language_info": {
   "codemirror_mode": {
    "name": "ipython",
    "version": 2
   },
   "file_extension": ".py",
   "mimetype": "text/x-python",
   "name": "python",
   "nbconvert_exporter": "python",
   "pygments_lexer": "ipython2",
   "version": "2.7.15"
  }
 },
 "nbformat": 4,
 "nbformat_minor": 2
}
