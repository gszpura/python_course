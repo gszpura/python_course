{
 "cells": [
  {
   "cell_type": "markdown",
   "metadata": {},
   "source": [
    "# 3. STRUKTURY DANYCH"
   ]
  },
  {
   "cell_type": "markdown",
   "metadata": {},
   "source": [
    "## LISTS VS TUPLES\n",
    "List i tuple są to dwa podstawowe typy tablicowe w pythonie - obydwa zajmują ciągłą przestrzeń adresową. Implementacja obydwu struktur jest zbliżona.\n",
    "\n",
    "Złożoność obliczeniowa:"
   ]
  },
  {
   "cell_type": "markdown",
   "metadata": {},
   "source": [
    "| Operation     | List          | Tuple   |\n",
    "| ------------- |---------------| ------- |\n",
    "| get item      | O(1)          | O(1)    |\n",
    "| set item      | O(1)          |  -      |\n",
    "| x in s        | O(n)          | O(n)    |\n"
   ]
  },
  {
   "cell_type": "code",
   "execution_count": 1,
   "metadata": {},
   "outputs": [],
   "source": [
    "import timeit"
   ]
  },
  {
   "cell_type": "code",
   "execution_count": 2,
   "metadata": {},
   "outputs": [
    {
     "name": "stdout",
     "output_type": "stream",
     "text": [
      "0.0233128070831\n",
      "0.0292029380798\n"
     ]
    }
   ],
   "source": [
    "print timeit.timeit('lst[4]', setup='lst = [1, 10, 20, 4, 100, 4, 2, 8, 100, 3]')\n",
    "print timeit.timeit('tup[4]', setup='tup = (2, 10, 11, 4, 100, 4, 2, 8, 100, 3)')"
   ]
  },
  {
   "cell_type": "code",
   "execution_count": 3,
   "metadata": {},
   "outputs": [
    {
     "name": "stdout",
     "output_type": "stream",
     "text": [
      "0.076092004776\n",
      "0.0955588817596\n"
     ]
    }
   ],
   "source": [
    "print timeit.timeit('4 in tup', setup='tup = (8, 10, 11, 4, 100, 4, 2, 8, 100, 3)')\n",
    "print timeit.timeit('4 in lst', setup='lst = [9, 10, 20, 4, 100, 4, 2, 8, 100, 3]')"
   ]
  },
  {
   "cell_type": "markdown",
   "metadata": {},
   "source": [
    "#### Po co w takim wypadku używać tupli?"
   ]
  },
  {
   "cell_type": "markdown",
   "metadata": {},
   "source": [
    "* Dla tupli można obliczyć funkcję skrótu (hashable)"
   ]
  },
  {
   "cell_type": "code",
   "execution_count": 4,
   "metadata": {},
   "outputs": [],
   "source": [
    "imp_dict = {}\n",
    "imp_tuple = (2, 3)\n",
    "imp_dict[imp_tuple] = 5"
   ]
  },
  {
   "cell_type": "code",
   "execution_count": 5,
   "metadata": {},
   "outputs": [
    {
     "ename": "TypeError",
     "evalue": "unhashable type: 'list'",
     "output_type": "error",
     "traceback": [
      "\u001b[0;31m---------------------------------------------------------------------------\u001b[0m",
      "\u001b[0;31mTypeError\u001b[0m                                 Traceback (most recent call last)",
      "\u001b[0;32m<ipython-input-5-d9a56338ef83>\u001b[0m in \u001b[0;36m<module>\u001b[0;34m()\u001b[0m\n\u001b[1;32m      1\u001b[0m \u001b[0mimp_list\u001b[0m \u001b[0;34m=\u001b[0m \u001b[0;34m[\u001b[0m\u001b[0;36m2\u001b[0m\u001b[0;34m,\u001b[0m \u001b[0;36m3\u001b[0m\u001b[0;34m]\u001b[0m\u001b[0;34m\u001b[0m\u001b[0m\n\u001b[0;32m----> 2\u001b[0;31m \u001b[0mimp_dict\u001b[0m\u001b[0;34m[\u001b[0m\u001b[0mimp_list\u001b[0m\u001b[0;34m]\u001b[0m \u001b[0;34m=\u001b[0m \u001b[0;36m5\u001b[0m\u001b[0;34m\u001b[0m\u001b[0m\n\u001b[0m",
      "\u001b[0;31mTypeError\u001b[0m: unhashable type: 'list'"
     ]
    }
   ],
   "source": [
    "imp_list = [2, 3]\n",
    "imp_dict[imp_list] = 5"
   ]
  },
  {
   "cell_type": "markdown",
   "metadata": {},
   "source": [
    "* Użycie tupli jest naturalne przy zwrocie z funkcji"
   ]
  },
  {
   "cell_type": "code",
   "execution_count": 6,
   "metadata": {},
   "outputs": [
    {
     "name": "stdout",
     "output_type": "stream",
     "text": [
      "<type 'tuple'>\n"
     ]
    }
   ],
   "source": [
    "def func():\n",
    "    return 1, 2\n",
    "\n",
    "print type(func())"
   ]
  },
  {
   "cell_type": "markdown",
   "metadata": {},
   "source": [
    "* Użycie tupli poprawia czystość kodu - zaznaczamy, że obiekt jest niezmienny"
   ]
  },
  {
   "cell_type": "markdown",
   "metadata": {},
   "source": [
    "## NAMEDTUPLES"
   ]
  },
  {
   "cell_type": "markdown",
   "metadata": {},
   "source": [
    "Lekkie zamienniki prostych klas. "
   ]
  },
  {
   "cell_type": "code",
   "execution_count": 9,
   "metadata": {},
   "outputs": [
    {
     "name": "stdout",
     "output_type": "stream",
     "text": [
      "1 2\n",
      "1 3\n"
     ]
    }
   ],
   "source": [
    "from collections import namedtuple\n",
    "\n",
    "Point = namedtuple('Point', ['x', 'y'])\n",
    "p = Point(1, 2)\n",
    "print p.x, p.y\n",
    "\n",
    "\n",
    "class PointC(object):\n",
    "    def __init__(self, x, y):\n",
    "        self.x = x\n",
    "        self.y = y\n",
    "        \n",
    "p2 = PointC(1, 3)\n",
    "print p2.x, p2.y"
   ]
  },
  {
   "cell_type": "code",
   "execution_count": 10,
   "metadata": {},
   "outputs": [
    {
     "ename": "AttributeError",
     "evalue": "can't set attribute",
     "output_type": "error",
     "traceback": [
      "\u001b[0;31m---------------------------------------------------------------------------\u001b[0m",
      "\u001b[0;31mAttributeError\u001b[0m                            Traceback (most recent call last)",
      "\u001b[0;32m<ipython-input-10-c74c1550f476>\u001b[0m in \u001b[0;36m<module>\u001b[0;34m()\u001b[0m\n\u001b[1;32m      1\u001b[0m \u001b[0mp2\u001b[0m \u001b[0;34m=\u001b[0m \u001b[0mPoint\u001b[0m\u001b[0;34m(\u001b[0m\u001b[0;36m10\u001b[0m\u001b[0;34m,\u001b[0m \u001b[0;36m20\u001b[0m\u001b[0;34m)\u001b[0m\u001b[0;34m\u001b[0m\u001b[0m\n\u001b[0;32m----> 2\u001b[0;31m \u001b[0mp2\u001b[0m\u001b[0;34m.\u001b[0m\u001b[0mx\u001b[0m \u001b[0;34m=\u001b[0m \u001b[0;36m100\u001b[0m\u001b[0;34m\u001b[0m\u001b[0m\n\u001b[0m",
      "\u001b[0;31mAttributeError\u001b[0m: can't set attribute"
     ]
    }
   ],
   "source": [
    "p2 = Point(10, 20)\n",
    "p2.x = 100"
   ]
  },
  {
   "cell_type": "code",
   "execution_count": 13,
   "metadata": {},
   "outputs": [
    {
     "data": {
      "text/plain": [
       "3713075136753017431"
      ]
     },
     "execution_count": 13,
     "metadata": {},
     "output_type": "execute_result"
    }
   ],
   "source": [
    "p3 = Point(11, 21)\n",
    "hash(p3)"
   ]
  },
  {
   "cell_type": "raw",
   "metadata": {},
   "source": [
    "pip install memory_profiler\n",
    "\n",
    "\n",
    "python -m memory_profiler tuple_check.py\n",
    "\n",
    "Filename: tuple_check.py\n",
    "\n",
    "Line #    Mem usage    Increment   Line Contents\n",
    "================================================\n",
    "     5   27.648 MiB   27.648 MiB   @profile\n",
    "     6                             def func():\n",
    "     7   28.859 MiB    1.211 MiB       res = [Point(2*i, 3*i) for i in xrange(10000)]\n",
    "     8   28.859 MiB    0.000 MiB       return res\n",
    "     \n",
    "\n",
    "python -m memory_profiler class_check.py\n",
    "\n",
    "\n",
    "Filename: class_check.py\n",
    "\n",
    "Line #    Mem usage    Increment   Line Contents\n",
    "================================================\n",
    "     6   27.938 MiB   27.938 MiB   @profile\n",
    "     7                             def func():\n",
    "     8   31.652 MiB    3.715 MiB       res = [Point(2*i, 3*i) for i in xrange(10000)]\n",
    "     9   31.652 MiB    0.000 MiB       return res\n",
    "\n"
   ]
  },
  {
   "cell_type": "markdown",
   "metadata": {},
   "source": [
    "### Podsumowanie:\n",
    "* namedtuple to jednoliniowy zamiennik prostych klas, który posiada cechy tupli (niemutowalny, posiadający funkcję skrótu)\n",
    "* zajmuje mniej pamięci niż zwykłe klasy\n",
    "* może poprawić czytelność kodu w stosunku do zwykłych tupli"
   ]
  },
  {
   "cell_type": "markdown",
   "metadata": {},
   "source": [
    "## SET"
   ]
  },
  {
   "cell_type": "markdown",
   "metadata": {},
   "source": [
    "Zbiory w pythonie.\n",
    "Zaimplementowane za pomocą tablic z haszowaniem (hashtables)."
   ]
  },
  {
   "cell_type": "code",
   "execution_count": 57,
   "metadata": {
    "scrolled": true
   },
   "outputs": [
    {
     "name": "stdout",
     "output_type": "stream",
     "text": [
      "set([1, 2, 3, 4, 5, 6, 7, 8])\n",
      "set([4, 5])\n",
      "set([1, 2, 3])\n",
      "set([1, 2, 3, 6, 7, 8])\n"
     ]
    }
   ],
   "source": [
    "a = set([1, 2, 3, 4, 5])\n",
    "b = {4, 5, 6, 7, 8}\n",
    "print a|b\n",
    "print a&b\n",
    "print a-b\n",
    "print a^b"
   ]
  },
  {
   "cell_type": "markdown",
   "metadata": {},
   "source": [
    "Set nie zachowuje kolejności elementów i nie przechowuje duplikatów: "
   ]
  },
  {
   "cell_type": "code",
   "execution_count": 58,
   "metadata": {},
   "outputs": [
    {
     "name": "stdout",
     "output_type": "stream",
     "text": [
      "set([1, 2, 3, 4, 10])\n"
     ]
    }
   ],
   "source": [
    "a = set([1, 1, 1, 3, 2, 10, 4])\n",
    "print a"
   ]
  },
  {
   "cell_type": "markdown",
   "metadata": {},
   "source": [
    "Złożoności obliczeniowe:"
   ]
  },
  {
   "cell_type": "markdown",
   "metadata": {},
   "source": [
    "| Operation             | Average                   | Worst case          |\n",
    "| -------------         |---------------------------| ------------------- |\n",
    "| a\\b (suma)            | O(len(a)+len(b))          | <-                  |\n",
    "| a&b (iloczyn)         | O(min(len(a), len(b))     | <-                  |\n",
    "| a-b (różnica)         | O(len(a))                 | <-                  |\n",
    "| a^b (różnica sym.)    | O(len(a))                 | O(len(a) * len(b))  |\n",
    "| x in a                | O(1)                      | O(n)                |"
   ]
  },
  {
   "cell_type": "markdown",
   "metadata": {},
   "source": [
    "**Przykład**\n",
    "\n",
    "Sprawdź czy dana lista zawiera szukane wartości np. czy items = [1, 2, 3, 5] zawiera needed = [3, 2]"
   ]
  },
  {
   "cell_type": "code",
   "execution_count": 33,
   "metadata": {},
   "outputs": [
    {
     "name": "stdout",
     "output_type": "stream",
     "text": [
      "True\n",
      "False\n"
     ]
    }
   ],
   "source": [
    "items = [1, 2, 3, 5]\n",
    "needed = [3, 2]\n",
    "\n",
    "def contains(items, needed):\n",
    "    for n in needed:\n",
    "        if n not in items:\n",
    "            return False\n",
    "    return True\n",
    "\n",
    "print contains(items, needed)\n",
    "print contains(items, [1, 10])"
   ]
  },
  {
   "cell_type": "code",
   "execution_count": 34,
   "metadata": {},
   "outputs": [
    {
     "name": "stdout",
     "output_type": "stream",
     "text": [
      "True\n",
      "False\n"
     ]
    }
   ],
   "source": [
    "def contains_set(items, needed):\n",
    "    # bez powtorzen\n",
    "    return len(set(needed) - set(items)) == 0\n",
    "\n",
    "print contains(items, needed)\n",
    "print contains(items, [1, 10])\n"
   ]
  },
  {
   "cell_type": "code",
   "execution_count": 35,
   "metadata": {},
   "outputs": [],
   "source": [
    "import time\n",
    "\n",
    "def timeit(func):\n",
    "\n",
    "    def decorating(*args, **kwargs):\n",
    "        start = time.time()\n",
    "        result = func(*args, **kwargs)\n",
    "        stop = time.time()\n",
    "        print(\"Execution time of {}: {}\".format(func.__name__, stop - start))\n",
    "        return result\n",
    "    return decorating\n",
    "\n",
    "t_contains = timeit(contains)\n",
    "t_contains_set = timeit(contains_set)"
   ]
  },
  {
   "cell_type": "code",
   "execution_count": 36,
   "metadata": {},
   "outputs": [
    {
     "name": "stdout",
     "output_type": "stream",
     "text": [
      "Execution time of contains: 6.91413879395e-06\n",
      "Execution time of contains_set: 1.09672546387e-05\n"
     ]
    },
    {
     "data": {
      "text/plain": [
       "True"
      ]
     },
     "execution_count": 36,
     "metadata": {},
     "output_type": "execute_result"
    }
   ],
   "source": [
    "t_contains(items, needed)\n",
    "t_contains_set(items, needed)"
   ]
  },
  {
   "cell_type": "code",
   "execution_count": 47,
   "metadata": {},
   "outputs": [
    {
     "name": "stdout",
     "output_type": "stream",
     "text": [
      "Execution time of contains: 4.6968460083e-05\n",
      "Execution time of contains_set: 4.29153442383e-05\n"
     ]
    },
    {
     "data": {
      "text/plain": [
       "True"
      ]
     },
     "execution_count": 47,
     "metadata": {},
     "output_type": "execute_result"
    }
   ],
   "source": [
    "items = [1, 10, 20, 30, 100, 5, 3, 2, 9, 201, 202, 203, 205, 1000, 2001, 179, 51, 52, 53, 54, 55, 56, 57, 58, 59, 60, 61, 62, 63, 64, 65, 66, 67, 68, 69, 70, 71, 72, 73, 74, 75, 76, 77, 78, 90, 91, 92, 93, 94, 95, 96, 97, 98, 99, 301, 302, 303, 304, 400, 401, 402, 403, 404, 405, 406, 407, 408]\n",
    "needed = [1, 9, 2, 179, 5, 201, 205, 1000, 77, 78, 69, 202, 203, 1000, 2001, 179, 90, 91, 92, 94]\n",
    "t_contains(items, needed)\n",
    "t_contains_set(items, needed)"
   ]
  },
  {
   "cell_type": "markdown",
   "metadata": {},
   "source": [
    "**Przykład 2**\n",
    "\n",
    "Usuń wszystkie duplikaty z listy"
   ]
  },
  {
   "cell_type": "code",
   "execution_count": 52,
   "metadata": {},
   "outputs": [
    {
     "name": "stdout",
     "output_type": "stream",
     "text": [
      "['Jan', 'Tomasz', 'Pudzian', 'Fryderyk']\n"
     ]
    }
   ],
   "source": [
    "def remove_duplicates(items):\n",
    "    return list(set(items))\n",
    "\n",
    "print remove_duplicates([\"Jan\", \"Tomasz\", \"Fryderyk\", \"Pudzian\", \"Pudzian\"])"
   ]
  },
  {
   "cell_type": "markdown",
   "metadata": {},
   "source": [
    "### Podsumowanie:\n",
    "* set'ów można używać wtedy, gdy chcemy przeprowadzać operacje na zbiorach niepowatarzających się elementów"
   ]
  },
  {
   "cell_type": "markdown",
   "metadata": {},
   "source": [
    "## DICT\n",
    "\n",
    "<img src=\"dict_img.png\">\n",
    "\n",
    "Tablica z haszowaniem. Implementacja podobna do setów. Złożoności czasowe:"
   ]
  },
  {
   "cell_type": "markdown",
   "metadata": {},
   "source": [
    "| Operation             | Average                   | Worst case          |\n",
    "| -------------         |---------------------------| ------------------- |\n",
    "| get item              | O(1)                      | O(n)                |\n",
    "| set item              | O(1)                      | O(n)                |\n",
    "| delete item           | O(1)                      | O(n)                |"
   ]
  },
  {
   "cell_type": "code",
   "execution_count": 83,
   "metadata": {},
   "outputs": [
    {
     "name": "stdout",
     "output_type": "stream",
     "text": [
      "NotFound\n"
     ]
    }
   ],
   "source": [
    "# podstawowe użycie\n",
    "first = {}\n",
    "first[\"x\"] = \"y\"\n",
    "del first[\"x\"]\n",
    "print first.get(\"x\", \"NotFound\")"
   ]
  },
  {
   "cell_type": "markdown",
   "metadata": {},
   "source": [
    "Zajętość pamięci:"
   ]
  },
  {
   "cell_type": "code",
   "execution_count": 72,
   "metadata": {},
   "outputs": [
    {
     "name": "stdout",
     "output_type": "stream",
     "text": [
      "280\n",
      "280\n",
      "280\n",
      "280\n",
      "1048\n",
      "1048\n"
     ]
    }
   ],
   "source": [
    "# set operation\n",
    "import sys\n",
    "\n",
    "a = {}\n",
    "print sys.getsizeof(a)\n",
    "a[\"m1\"] = 10\n",
    "print sys.getsizeof(a)\n",
    "a[\"m2\"] = 20\n",
    "print sys.getsizeof(a)\n",
    "a[\"m3\"] = 30\n",
    "a[\"m4\"] = 40\n",
    "print sys.getsizeof(a)\n",
    "a[\"m5\"] = 50\n",
    "a[\"m6\"] = 60\n",
    "print sys.getsizeof(a)\n",
    "a[\"m7\"] = 60\n",
    "a[\"m8\"] = 60\n",
    "print sys.getsizeof(a)"
   ]
  },
  {
   "cell_type": "markdown",
   "metadata": {},
   "source": [
    "Dict początkowo alokuje pamięć na 8 kluczy. Później będzie realokował za każdym razem, gdy 2/3 slotów na klucze jest już zajętych przez jakiś wpis. Zaalokowana pamięć zwiększy się 4krotnie.\n",
    "\n",
    "Taki mechanizm pomaga unikać kolizji pomiędzy wartościami wyliczanymi przez funkcje skrótu dla kolejnych dodawanych kluczy."
   ]
  },
  {
   "cell_type": "code",
   "execution_count": 76,
   "metadata": {},
   "outputs": [
    {
     "name": "stdout",
     "output_type": "stream",
     "text": [
      "{0: 0, 1: 1, 2: 8, 3: 27, 4: 64, 5: 125}\n",
      "{'Poland': 'PLN', 'UK': 'GBP', 'USA': 'USD'}\n",
      "{'Poland': 'PLN', 'UK': 'GBP', 'USA': 'USD'}\n"
     ]
    }
   ],
   "source": [
    "# Dict comprehension:\n",
    "cubes = {x: x**3 for x in xrange(6)}\n",
    "print cubes\n",
    "\n",
    "countries = [(\"Poland\", \"PLN\"), (\"USA\", \"USD\"), (\"UK\", \"GBP\")]\n",
    "\n",
    "currencies = {x: y for x,y in countries}\n",
    "print currencies\n",
    "\n",
    "print dict(countries)"
   ]
  },
  {
   "cell_type": "markdown",
   "metadata": {},
   "source": [
    "Dict jest nieuporządkowany:"
   ]
  },
  {
   "cell_type": "code",
   "execution_count": 77,
   "metadata": {},
   "outputs": [
    {
     "data": {
      "text/plain": [
       "['m5', 'm4', 'm7', 'm6', 'm1', 'm3', 'm2', 'm8']"
      ]
     },
     "execution_count": 77,
     "metadata": {},
     "output_type": "execute_result"
    }
   ],
   "source": [
    "a.keys()"
   ]
  },
  {
   "cell_type": "code",
   "execution_count": 80,
   "metadata": {},
   "outputs": [
    {
     "name": "stdout",
     "output_type": "stream",
     "text": [
      "Annable\n",
      "John\n",
      "Richard\n"
     ]
    }
   ],
   "source": [
    "members = [(\"John\", 27), (\"Annable\", 28), (\"Richard\", 32)]\n",
    "for mem, age in dict(members).iteritems():\n",
    "    print mem"
   ]
  },
  {
   "cell_type": "markdown",
   "metadata": {},
   "source": [
    "Oprócz typowego użycia dict'ów jako mapy, często przydaje się też do liczenia elementów w innych strukturach danych. \n",
    "\n",
    "**Przykład**\n",
    "\n",
    "Oblicz ile par liczb równe jest zadanej wartości."
   ]
  },
  {
   "cell_type": "code",
   "execution_count": 93,
   "metadata": {},
   "outputs": [],
   "source": [
    "\n",
    "def pairs(numbers, threshold):\n",
    "    cnts = {}\n",
    "    for num in numbers:\n",
    "        if cnts.get(num):\n",
    "            cnts[num] += 1\n",
    "        else:\n",
    "            cnts[num] = 1\n",
    "\n",
    "    res = 0\n",
    "    for num in cnts:\n",
    "        num_cnt, pair_cnt = cnts[num], cnts.get(threshold - num, 0)\n",
    "        if pair_cnt:\n",
    "            if 2 * num == threshold:\n",
    "                res += item_cnt * (item_cnt - 1)\n",
    "            else:\n",
    "                res += item_cnt * pair_cnt\n",
    "    return res / 2\n",
    "\n",
    "\n",
    "assert pairs([1, 2, 10, 11, 3, 3, 3, 4], 6) == 4\n",
    "assert pairs([1, 2, 3], 6) == 0\n",
    "assert pairs([1, 2, 3], 5) == 1\n",
    "assert pairs([1, 2, 3], 1) == 0\n",
    "assert pairs([1, 1, 2, 2, 2, 3, 4], 3) == 6\n",
    "assert pairs([0, 1, 1, 2, 2, 2, 3, 4], 3) == 7\n"
   ]
  },
  {
   "cell_type": "code",
   "execution_count": null,
   "metadata": {},
   "outputs": [],
   "source": []
  }
 ],
 "metadata": {
  "kernelspec": {
   "display_name": "Python 2",
   "language": "python",
   "name": "python2"
  },
  "language_info": {
   "codemirror_mode": {
    "name": "ipython",
    "version": 2
   },
   "file_extension": ".py",
   "mimetype": "text/x-python",
   "name": "python",
   "nbconvert_exporter": "python",
   "pygments_lexer": "ipython2",
   "version": "2.7.15"
  }
 },
 "nbformat": 4,
 "nbformat_minor": 2
}
