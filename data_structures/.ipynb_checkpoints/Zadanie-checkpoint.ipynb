{
 "cells": [
  {
   "cell_type": "markdown",
   "metadata": {},
   "source": [
    "## ZADANIE\n",
    "\n",
    "Napisz funkcję sprawdzającą czy dwa słowa są anagramami używając struktur danych opisanych w tym rozdziale."
   ]
  },
  {
   "cell_type": "code",
   "execution_count": null,
   "metadata": {},
   "outputs": [],
   "source": [
    "from collections import defaultdict, Counter\n",
    "\n",
    "\n",
    "def is_anagram(first, second):\n",
    "    first = sorted(first)\n",
    "    second = sorted(second)\n",
    "    return first == second\n",
    "\n",
    "\n",
    "def is_anagram_defaultdict(first, second):\n",
    "    fres = defaultdict(int)\n",
    "    sres = defaultdict(int)\n",
    "    for i in first:\n",
    "        fres[i] += 1\n",
    "    for j in second:\n",
    "        sres[j] += 1\n",
    "    for i in fres:\n",
    "        if fres[i] != sres[i]:\n",
    "            return False\n",
    "    return len(first) == len(second)\n",
    "\n",
    "\n",
    "def is_anagram_counter(first, second):\n",
    "    return Counter(first) == Counter(second)"
   ]
  },
  {
   "cell_type": "code",
   "execution_count": null,
   "metadata": {},
   "outputs": [],
   "source": [
    "import time\n",
    "\n",
    "\n",
    "def timeit(func):\n",
    "\n",
    "    def decorating(*args, **kwargs):\n",
    "        start = time.time()\n",
    "        result = func(*args, **kwargs)\n",
    "        stop = time.time()\n",
    "        print(\"Execution time of {}: {}\".format(func.__name__, stop - start))\n",
    "        return result\n",
    "    return decorating"
   ]
  },
  {
   "cell_type": "code",
   "execution_count": null,
   "metadata": {},
   "outputs": [],
   "source": [
    "with open('anagram1.txt') as fd:\n",
    "    word1 = \"\".join([line.strip() for line in fd])\n",
    "\n",
    "with open('anagram2.txt') as fd:\n",
    "    word2 = \"\".join([line.strip() for line in fd])\n",
    "\n",
    "\n",
    "t_is_anagram = timeit(is_anagram)\n",
    "t_is_anagram_counter = timeit(is_anagram_counter)\n",
    "t_is_anagram_defaultdict = timeit(is_anagram_defaultdict)\n",
    "\n",
    "print(t_is_anagram(word1, word2))\n",
    "print(t_is_anagram_counter(word1, word2))\n",
    "print(t_is_anagram_defaultdict(word1, word2))"
   ]
  },
  {
   "cell_type": "code",
   "execution_count": null,
   "metadata": {},
   "outputs": [],
   "source": []
  }
 ],
 "metadata": {
  "kernelspec": {
   "display_name": "Python 3",
   "language": "python",
   "name": "python3"
  },
  "language_info": {
   "codemirror_mode": {
    "name": "ipython",
    "version": 3
   },
   "file_extension": ".py",
   "mimetype": "text/x-python",
   "name": "python",
   "nbconvert_exporter": "python",
   "pygments_lexer": "ipython3",
   "version": "3.5.2"
  }
 },
 "nbformat": 4,
 "nbformat_minor": 2
}
